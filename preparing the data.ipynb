{
 "cells": [
  {
   "cell_type": "markdown",
   "metadata": {
    "collapsed": false
   },
   "source": [
    "# preparing the Data\n",
    "this process consists of a few major stages:\n",
    "* merging the data from the same trusts every month\n",
    "by picking out the C_999 function code, it returns the sum for each type of appointment\n",
    "running groupby sums each appointment together leaving the total number of appointments for a trust\n",
    "```py\n",
    "data = data.loc[data['Treatment Function Code'] == \"C_999\"]\n",
    "hospital_grouped = data.groupby('Provider Org Name')\n",
    "```\n",
    "\n",
    "* converting column names to be human and machine-readable\n",
    "when grouping the data, strings will be appended. we prevent this with a similar check\n",
    "\n",
    "* converting time stamps\n",
    "\n",
    "the data per week was stored in the form {before} to {after} weeks SUM 1\n",
    "by taking just {after} we are left with an easier to read column name\n",
    "\n",
    "```py\n",
    "# getting the columns\n",
    "timecols = [col for col in hospital_summed if \"SUM 1\" in col]\n",
    "# finding the correct week\n",
    "week_values = [int(col.split(\" \")[1]) for col in timecols]\n",
    "# renaming the data\n",
    "renamed = {col: week_values[i] for i, col in enumerate(timecols)}\n",
    "out = hospital_summed.rename(columns=renamed)\n",
    "```\n",
    "* merging the monthly data"
   ]
  },
  {
   "cell_type": "code",
   "execution_count": 1,
   "outputs": [],
   "source": [
    "import pandas as pd\n",
    "import plotly"
   ],
   "metadata": {
    "collapsed": false,
    "ExecuteTime": {
     "end_time": "2023-07-19T12:58:38.174091900Z",
     "start_time": "2023-07-19T12:58:37.630074900Z"
    }
   }
  },
  {
   "cell_type": "code",
   "execution_count": 2,
   "metadata": {
    "collapsed": true,
    "ExecuteTime": {
     "end_time": "2023-07-19T12:59:08.240909700Z",
     "start_time": "2023-07-19T12:58:38.178175400Z"
    }
   },
   "outputs": [
    {
     "name": "stdout",
     "output_type": "stream",
     "text": [
      "loading 2021\n",
      "loading january\n",
      "finished 2021.january\n",
      "loading february\n",
      "finished 2021.february\n",
      "loading march\n",
      "finished 2021.march\n",
      "loading april\n",
      "finished 2021.april\n",
      "loading may\n",
      "finished 2021.may\n",
      "loading june\n",
      "finished 2021.june\n",
      "loading july\n",
      "finished 2021.july\n",
      "loading august\n",
      "finished 2021.august\n",
      "loading september\n",
      "finished 2021.september\n",
      "loading october\n",
      "finished 2021.october\n",
      "loading november\n",
      "finished 2021.november\n",
      "loading december\n",
      "finished 2021.december\n",
      "loading 2022\n",
      "loading january\n",
      "finished 2022.january\n",
      "loading february\n",
      "finished 2022.february\n",
      "loading march\n",
      "finished 2022.march\n",
      "loading april\n",
      "finished 2022.april\n",
      "loading may\n",
      "finished 2022.may\n",
      "loading june\n",
      "finished 2022.june\n",
      "loading july\n",
      "finished 2022.july\n",
      "loading august\n",
      "finished 2022.august\n",
      "loading september\n",
      "finished 2022.september\n",
      "loading october\n",
      "finished 2022.october\n",
      "loading november\n",
      "finished 2022.november\n",
      "loading december\n",
      "finished 2022.december\n",
      "loading 2023\n",
      "loading january\n",
      "finished 2023.january\n",
      "loading february\n",
      "finished 2023.february\n",
      "loading march\n",
      "finished 2023.march\n",
      "loading april\n"
     ]
    },
    {
     "data": {
      "text/plain": "         Period Provider Parent Org Code  \\\n0  JANUARY-2021                      QWO   \n1  JANUARY-2021                      QYG   \n2  JANUARY-2021                      QUE   \n3  JANUARY-2021                      QXU   \n4  JANUARY-2021                      QXU   \n\n                                Provider Parent Name Provider Org Code  \\\n0  WEST YORKSHIRE AND HARROGATE HEALTH & CARE PAR...               RCF   \n1                        CHESHIRE AND MERSEYSIDE STP               RBS   \n2                CAMBRIDGESHIRE AND PETERBOROUGH STP               NX5   \n3  SURREY HEARTLANDS HEALTH & CARE PARTNERSHIP (STP)               RTK   \n4  SURREY HEARTLANDS HEALTH & CARE PARTNERSHIP (STP)             NVC01   \n\n                                   Provider Org Name  \\\n0                      AIREDALE NHS FOUNDATION TRUST   \n1          ALDER HEY CHILDREN'S NHS FOUNDATION TRUST   \n2                   ANGLIA COMMUNITY EYE SERVICE LTD   \n3  ASHFORD AND ST PETER'S HOSPITALS NHS FOUNDATIO...   \n4                                   ASHTEAD HOSPITAL   \n\n  Commissioner Parent Org Code                Commissioner Parent Name  \\\n0                          QE1  HEALTHIER LANCASHIRE AND SOUTH CUMBRIA   \n1                          QE1  HEALTHIER LANCASHIRE AND SOUTH CUMBRIA   \n2                          QUE     CAMBRIDGESHIRE AND PETERBOROUGH STP   \n3                          QE1  HEALTHIER LANCASHIRE AND SOUTH CUMBRIA   \n4                          QE1  HEALTHIER LANCASHIRE AND SOUTH CUMBRIA   \n\n  Commissioner Org Code                    Commissioner Org Name  \\\n0                   X24                              NHS ENGLAND   \n1                  NONC                              NHS ENGLAND   \n2                   06H  NHS CAMBRIDGESHIRE AND PETERBOROUGH CCG   \n3                   13Q             NATIONAL COMMISSIONING HUB 1   \n4                   01A                  NHS EAST LANCASHIRE CCG   \n\n  RTT Part Type  ...  95  96  97  98  99  100  101  102  103  104  \n0       Part_1A  ... NaN NaN NaN NaN NaN  NaN  NaN  NaN  NaN  NaN  \n1       Part_1A  ... NaN NaN NaN NaN NaN  NaN  NaN  NaN  NaN  NaN  \n2       Part_1A  ... NaN NaN NaN NaN NaN  NaN  NaN  NaN  NaN  NaN  \n3       Part_1B  ... NaN NaN NaN NaN NaN  NaN  NaN  NaN  NaN  NaN  \n4        Part_2  ... NaN NaN NaN NaN NaN  NaN  NaN  NaN  NaN  NaN  \n\n[5 rows x 118 columns]",
      "text/html": "<div>\n<style scoped>\n    .dataframe tbody tr th:only-of-type {\n        vertical-align: middle;\n    }\n\n    .dataframe tbody tr th {\n        vertical-align: top;\n    }\n\n    .dataframe thead th {\n        text-align: right;\n    }\n</style>\n<table border=\"1\" class=\"dataframe\">\n  <thead>\n    <tr style=\"text-align: right;\">\n      <th></th>\n      <th>Period</th>\n      <th>Provider Parent Org Code</th>\n      <th>Provider Parent Name</th>\n      <th>Provider Org Code</th>\n      <th>Provider Org Name</th>\n      <th>Commissioner Parent Org Code</th>\n      <th>Commissioner Parent Name</th>\n      <th>Commissioner Org Code</th>\n      <th>Commissioner Org Name</th>\n      <th>RTT Part Type</th>\n      <th>...</th>\n      <th>95</th>\n      <th>96</th>\n      <th>97</th>\n      <th>98</th>\n      <th>99</th>\n      <th>100</th>\n      <th>101</th>\n      <th>102</th>\n      <th>103</th>\n      <th>104</th>\n    </tr>\n  </thead>\n  <tbody>\n    <tr>\n      <th>0</th>\n      <td>JANUARY-2021</td>\n      <td>QWO</td>\n      <td>WEST YORKSHIRE AND HARROGATE HEALTH &amp; CARE PAR...</td>\n      <td>RCF</td>\n      <td>AIREDALE NHS FOUNDATION TRUST</td>\n      <td>QE1</td>\n      <td>HEALTHIER LANCASHIRE AND SOUTH CUMBRIA</td>\n      <td>X24</td>\n      <td>NHS ENGLAND</td>\n      <td>Part_1A</td>\n      <td>...</td>\n      <td>NaN</td>\n      <td>NaN</td>\n      <td>NaN</td>\n      <td>NaN</td>\n      <td>NaN</td>\n      <td>NaN</td>\n      <td>NaN</td>\n      <td>NaN</td>\n      <td>NaN</td>\n      <td>NaN</td>\n    </tr>\n    <tr>\n      <th>1</th>\n      <td>JANUARY-2021</td>\n      <td>QYG</td>\n      <td>CHESHIRE AND MERSEYSIDE STP</td>\n      <td>RBS</td>\n      <td>ALDER HEY CHILDREN'S NHS FOUNDATION TRUST</td>\n      <td>QE1</td>\n      <td>HEALTHIER LANCASHIRE AND SOUTH CUMBRIA</td>\n      <td>NONC</td>\n      <td>NHS ENGLAND</td>\n      <td>Part_1A</td>\n      <td>...</td>\n      <td>NaN</td>\n      <td>NaN</td>\n      <td>NaN</td>\n      <td>NaN</td>\n      <td>NaN</td>\n      <td>NaN</td>\n      <td>NaN</td>\n      <td>NaN</td>\n      <td>NaN</td>\n      <td>NaN</td>\n    </tr>\n    <tr>\n      <th>2</th>\n      <td>JANUARY-2021</td>\n      <td>QUE</td>\n      <td>CAMBRIDGESHIRE AND PETERBOROUGH STP</td>\n      <td>NX5</td>\n      <td>ANGLIA COMMUNITY EYE SERVICE LTD</td>\n      <td>QUE</td>\n      <td>CAMBRIDGESHIRE AND PETERBOROUGH STP</td>\n      <td>06H</td>\n      <td>NHS CAMBRIDGESHIRE AND PETERBOROUGH CCG</td>\n      <td>Part_1A</td>\n      <td>...</td>\n      <td>NaN</td>\n      <td>NaN</td>\n      <td>NaN</td>\n      <td>NaN</td>\n      <td>NaN</td>\n      <td>NaN</td>\n      <td>NaN</td>\n      <td>NaN</td>\n      <td>NaN</td>\n      <td>NaN</td>\n    </tr>\n    <tr>\n      <th>3</th>\n      <td>JANUARY-2021</td>\n      <td>QXU</td>\n      <td>SURREY HEARTLANDS HEALTH &amp; CARE PARTNERSHIP (STP)</td>\n      <td>RTK</td>\n      <td>ASHFORD AND ST PETER'S HOSPITALS NHS FOUNDATIO...</td>\n      <td>QE1</td>\n      <td>HEALTHIER LANCASHIRE AND SOUTH CUMBRIA</td>\n      <td>13Q</td>\n      <td>NATIONAL COMMISSIONING HUB 1</td>\n      <td>Part_1B</td>\n      <td>...</td>\n      <td>NaN</td>\n      <td>NaN</td>\n      <td>NaN</td>\n      <td>NaN</td>\n      <td>NaN</td>\n      <td>NaN</td>\n      <td>NaN</td>\n      <td>NaN</td>\n      <td>NaN</td>\n      <td>NaN</td>\n    </tr>\n    <tr>\n      <th>4</th>\n      <td>JANUARY-2021</td>\n      <td>QXU</td>\n      <td>SURREY HEARTLANDS HEALTH &amp; CARE PARTNERSHIP (STP)</td>\n      <td>NVC01</td>\n      <td>ASHTEAD HOSPITAL</td>\n      <td>QE1</td>\n      <td>HEALTHIER LANCASHIRE AND SOUTH CUMBRIA</td>\n      <td>01A</td>\n      <td>NHS EAST LANCASHIRE CCG</td>\n      <td>Part_2</td>\n      <td>...</td>\n      <td>NaN</td>\n      <td>NaN</td>\n      <td>NaN</td>\n      <td>NaN</td>\n      <td>NaN</td>\n      <td>NaN</td>\n      <td>NaN</td>\n      <td>NaN</td>\n      <td>NaN</td>\n      <td>NaN</td>\n    </tr>\n  </tbody>\n</table>\n<p>5 rows × 118 columns</p>\n</div>"
     },
     "execution_count": 2,
     "metadata": {},
     "output_type": "execute_result"
    }
   ],
   "source": [
    "\n",
    "\n",
    "months = [\"january\", \"february\", \"march\", \"april\", \"may\", \"june\", \"july\", \"august\", \"september\", \"october\", \"november\", \"december\"]\n",
    "years = [\"2021\", \"2022\", \"2023\"]\n",
    "df = None\n",
    "\n",
    "for year in years:\n",
    "    print(f\"loading {year}\")\n",
    "    for month in months:\n",
    "        print(f\"loading {month}\")\n",
    "        if year == \"2019\" and month not in [\"\"]:continue\n",
    "        if year == \"2023\" and month == \"april\":\n",
    "            break\n",
    "        data = pd.read_csv(f\"data/apptx/{year}/{month}.csv\")\n",
    "        data = data.loc[data['Treatment Function Code'] == \"C_999\"]\n",
    "        hospital_grouped = data.groupby('Provider Org Name')\n",
    "\n",
    "        agg_functions = {}\n",
    "        for col in data.columns:\n",
    "            if data[col].dtype in [int, float]:\n",
    "                agg_functions[col] = 'sum'\n",
    "            else:\n",
    "                agg_functions[col] = 'first'\n",
    "\n",
    "        hospital_summed = hospital_grouped.agg(agg_functions)\n",
    "        timecols = [col for col in hospital_summed if \"SUM 1\" in col]\n",
    "        week_values = [int(col.split(\" \")[1]) for col in timecols]\n",
    "        renamed = {col: week_values[i] for i, col in enumerate(timecols)}\n",
    "        out = hospital_summed.rename(columns=renamed)\n",
    "\n",
    "\n",
    "        out[\"Period\"] = out[\"Period\"].str.slice(start=4)\n",
    "        out = out.drop(columns=[\"Total\",\"Patients with unknown clock start date\", \"Total All\"])\n",
    "\n",
    "        out.reset_index(drop=True, inplace=True)  # Reset index without adding existing column\n",
    "\n",
    "        print(f\"finished {year}.{month}\")\n",
    "        if df is None:\n",
    "            df = out\n",
    "        else:\n",
    "            df = pd.concat((df,out), axis=0)\n",
    "# df.to_csv(\"data/all_hospital.csv\")\n",
    "df.head()\n"
   ]
  },
  {
   "cell_type": "code",
   "execution_count": 3,
   "outputs": [
    {
     "data": {
      "text/plain": "           Period Provider Org Code  \\\n0    JANUARY-2021               RCF   \n1    JANUARY-2021               RBS   \n2    JANUARY-2021               NX5   \n3    JANUARY-2021               RTK   \n4    JANUARY-2021             NVC01   \n..            ...               ...   \n446    MARCH-2023               RWP   \n447    MARCH-2023               RRF   \n448    MARCH-2023               RLQ   \n449    MARCH-2023               RA4   \n450    MARCH-2023               RCB   \n\n                                     Provider Org Name       0       1  \\\n0                        AIREDALE NHS FOUNDATION TRUST  1082.0  1028.0   \n1            ALDER HEY CHILDREN'S NHS FOUNDATION TRUST   487.0   376.0   \n2                     ANGLIA COMMUNITY EYE SERVICE LTD    26.0   104.0   \n3    ASHFORD AND ST PETER'S HOSPITALS NHS FOUNDATIO...  1932.0  2368.0   \n4                                     ASHTEAD HOSPITAL    45.0    47.0   \n..                                                 ...     ...     ...   \n446           WORCESTERSHIRE ACUTE HOSPITALS NHS TRUST  4292.0  3703.0   \n447  WRIGHTINGTON, WIGAN AND LEIGH NHS FOUNDATION T...  3537.0  3835.0   \n448                               WYE VALLEY NHS TRUST  2090.0  1759.0   \n449      YEOVIL DISTRICT HOSPITAL NHS FOUNDATION TRUST  1783.0  1190.0   \n450  YORK AND SCARBOROUGH TEACHING HOSPITALS NHS FO...  3942.0  3087.0   \n\n          2       3       4       5       6  ...    95    96    97    98  \\\n0     669.0   724.0   381.0   553.0   525.0  ...   NaN   NaN   NaN   NaN   \n1     347.0   483.0   314.0   475.0   688.0  ...   NaN   NaN   NaN   NaN   \n2     138.0   173.0    66.0    55.0   126.0  ...   NaN   NaN   NaN   NaN   \n3    2365.0  2388.0  1478.0  1770.0  2116.0  ...   NaN   NaN   NaN   NaN   \n4      50.0    75.0    28.0    34.0    64.0  ...   NaN   NaN   NaN   NaN   \n..      ...     ...     ...     ...     ...  ...   ...   ...   ...   ...   \n446  2887.0  2814.0  2800.0  2654.0  2602.0  ...  24.0  31.0  26.0  30.0   \n447  2717.0  2687.0  2566.0  2467.0  2334.0  ...   5.0   4.0   0.0   1.0   \n448  1556.0  1455.0  1286.0  1263.0  1239.0  ...   0.0   0.0   0.0   1.0   \n449  1075.0   898.0   919.0   835.0   829.0  ...   2.0   1.0   0.0   2.0   \n450  2372.0  1915.0  2003.0  1985.0  1861.0  ...  16.0  11.0  15.0  10.0   \n\n       99   100   101   102  103   104  \n0     NaN   NaN   NaN   NaN  NaN   NaN  \n1     NaN   NaN   NaN   NaN  NaN   NaN  \n2     NaN   NaN   NaN   NaN  NaN   NaN  \n3     NaN   NaN   NaN   NaN  NaN   NaN  \n4     NaN   NaN   NaN   NaN  NaN   NaN  \n..    ...   ...   ...   ...  ...   ...  \n446  17.0  13.0   6.0   9.0  8.0  12.0  \n447   2.0   2.0   2.0   0.0  0.0   7.0  \n448   2.0   0.0   0.0   0.0  0.0   2.0  \n449   1.0   0.0   1.0   1.0  1.0   3.0  \n450   8.0  12.0  11.0  10.0  5.0   3.0  \n\n[11814 rows x 108 columns]",
      "text/html": "<div>\n<style scoped>\n    .dataframe tbody tr th:only-of-type {\n        vertical-align: middle;\n    }\n\n    .dataframe tbody tr th {\n        vertical-align: top;\n    }\n\n    .dataframe thead th {\n        text-align: right;\n    }\n</style>\n<table border=\"1\" class=\"dataframe\">\n  <thead>\n    <tr style=\"text-align: right;\">\n      <th></th>\n      <th>Period</th>\n      <th>Provider Org Code</th>\n      <th>Provider Org Name</th>\n      <th>0</th>\n      <th>1</th>\n      <th>2</th>\n      <th>3</th>\n      <th>4</th>\n      <th>5</th>\n      <th>6</th>\n      <th>...</th>\n      <th>95</th>\n      <th>96</th>\n      <th>97</th>\n      <th>98</th>\n      <th>99</th>\n      <th>100</th>\n      <th>101</th>\n      <th>102</th>\n      <th>103</th>\n      <th>104</th>\n    </tr>\n  </thead>\n  <tbody>\n    <tr>\n      <th>0</th>\n      <td>JANUARY-2021</td>\n      <td>RCF</td>\n      <td>AIREDALE NHS FOUNDATION TRUST</td>\n      <td>1082.0</td>\n      <td>1028.0</td>\n      <td>669.0</td>\n      <td>724.0</td>\n      <td>381.0</td>\n      <td>553.0</td>\n      <td>525.0</td>\n      <td>...</td>\n      <td>NaN</td>\n      <td>NaN</td>\n      <td>NaN</td>\n      <td>NaN</td>\n      <td>NaN</td>\n      <td>NaN</td>\n      <td>NaN</td>\n      <td>NaN</td>\n      <td>NaN</td>\n      <td>NaN</td>\n    </tr>\n    <tr>\n      <th>1</th>\n      <td>JANUARY-2021</td>\n      <td>RBS</td>\n      <td>ALDER HEY CHILDREN'S NHS FOUNDATION TRUST</td>\n      <td>487.0</td>\n      <td>376.0</td>\n      <td>347.0</td>\n      <td>483.0</td>\n      <td>314.0</td>\n      <td>475.0</td>\n      <td>688.0</td>\n      <td>...</td>\n      <td>NaN</td>\n      <td>NaN</td>\n      <td>NaN</td>\n      <td>NaN</td>\n      <td>NaN</td>\n      <td>NaN</td>\n      <td>NaN</td>\n      <td>NaN</td>\n      <td>NaN</td>\n      <td>NaN</td>\n    </tr>\n    <tr>\n      <th>2</th>\n      <td>JANUARY-2021</td>\n      <td>NX5</td>\n      <td>ANGLIA COMMUNITY EYE SERVICE LTD</td>\n      <td>26.0</td>\n      <td>104.0</td>\n      <td>138.0</td>\n      <td>173.0</td>\n      <td>66.0</td>\n      <td>55.0</td>\n      <td>126.0</td>\n      <td>...</td>\n      <td>NaN</td>\n      <td>NaN</td>\n      <td>NaN</td>\n      <td>NaN</td>\n      <td>NaN</td>\n      <td>NaN</td>\n      <td>NaN</td>\n      <td>NaN</td>\n      <td>NaN</td>\n      <td>NaN</td>\n    </tr>\n    <tr>\n      <th>3</th>\n      <td>JANUARY-2021</td>\n      <td>RTK</td>\n      <td>ASHFORD AND ST PETER'S HOSPITALS NHS FOUNDATIO...</td>\n      <td>1932.0</td>\n      <td>2368.0</td>\n      <td>2365.0</td>\n      <td>2388.0</td>\n      <td>1478.0</td>\n      <td>1770.0</td>\n      <td>2116.0</td>\n      <td>...</td>\n      <td>NaN</td>\n      <td>NaN</td>\n      <td>NaN</td>\n      <td>NaN</td>\n      <td>NaN</td>\n      <td>NaN</td>\n      <td>NaN</td>\n      <td>NaN</td>\n      <td>NaN</td>\n      <td>NaN</td>\n    </tr>\n    <tr>\n      <th>4</th>\n      <td>JANUARY-2021</td>\n      <td>NVC01</td>\n      <td>ASHTEAD HOSPITAL</td>\n      <td>45.0</td>\n      <td>47.0</td>\n      <td>50.0</td>\n      <td>75.0</td>\n      <td>28.0</td>\n      <td>34.0</td>\n      <td>64.0</td>\n      <td>...</td>\n      <td>NaN</td>\n      <td>NaN</td>\n      <td>NaN</td>\n      <td>NaN</td>\n      <td>NaN</td>\n      <td>NaN</td>\n      <td>NaN</td>\n      <td>NaN</td>\n      <td>NaN</td>\n      <td>NaN</td>\n    </tr>\n    <tr>\n      <th>...</th>\n      <td>...</td>\n      <td>...</td>\n      <td>...</td>\n      <td>...</td>\n      <td>...</td>\n      <td>...</td>\n      <td>...</td>\n      <td>...</td>\n      <td>...</td>\n      <td>...</td>\n      <td>...</td>\n      <td>...</td>\n      <td>...</td>\n      <td>...</td>\n      <td>...</td>\n      <td>...</td>\n      <td>...</td>\n      <td>...</td>\n      <td>...</td>\n      <td>...</td>\n      <td>...</td>\n    </tr>\n    <tr>\n      <th>446</th>\n      <td>MARCH-2023</td>\n      <td>RWP</td>\n      <td>WORCESTERSHIRE ACUTE HOSPITALS NHS TRUST</td>\n      <td>4292.0</td>\n      <td>3703.0</td>\n      <td>2887.0</td>\n      <td>2814.0</td>\n      <td>2800.0</td>\n      <td>2654.0</td>\n      <td>2602.0</td>\n      <td>...</td>\n      <td>24.0</td>\n      <td>31.0</td>\n      <td>26.0</td>\n      <td>30.0</td>\n      <td>17.0</td>\n      <td>13.0</td>\n      <td>6.0</td>\n      <td>9.0</td>\n      <td>8.0</td>\n      <td>12.0</td>\n    </tr>\n    <tr>\n      <th>447</th>\n      <td>MARCH-2023</td>\n      <td>RRF</td>\n      <td>WRIGHTINGTON, WIGAN AND LEIGH NHS FOUNDATION T...</td>\n      <td>3537.0</td>\n      <td>3835.0</td>\n      <td>2717.0</td>\n      <td>2687.0</td>\n      <td>2566.0</td>\n      <td>2467.0</td>\n      <td>2334.0</td>\n      <td>...</td>\n      <td>5.0</td>\n      <td>4.0</td>\n      <td>0.0</td>\n      <td>1.0</td>\n      <td>2.0</td>\n      <td>2.0</td>\n      <td>2.0</td>\n      <td>0.0</td>\n      <td>0.0</td>\n      <td>7.0</td>\n    </tr>\n    <tr>\n      <th>448</th>\n      <td>MARCH-2023</td>\n      <td>RLQ</td>\n      <td>WYE VALLEY NHS TRUST</td>\n      <td>2090.0</td>\n      <td>1759.0</td>\n      <td>1556.0</td>\n      <td>1455.0</td>\n      <td>1286.0</td>\n      <td>1263.0</td>\n      <td>1239.0</td>\n      <td>...</td>\n      <td>0.0</td>\n      <td>0.0</td>\n      <td>0.0</td>\n      <td>1.0</td>\n      <td>2.0</td>\n      <td>0.0</td>\n      <td>0.0</td>\n      <td>0.0</td>\n      <td>0.0</td>\n      <td>2.0</td>\n    </tr>\n    <tr>\n      <th>449</th>\n      <td>MARCH-2023</td>\n      <td>RA4</td>\n      <td>YEOVIL DISTRICT HOSPITAL NHS FOUNDATION TRUST</td>\n      <td>1783.0</td>\n      <td>1190.0</td>\n      <td>1075.0</td>\n      <td>898.0</td>\n      <td>919.0</td>\n      <td>835.0</td>\n      <td>829.0</td>\n      <td>...</td>\n      <td>2.0</td>\n      <td>1.0</td>\n      <td>0.0</td>\n      <td>2.0</td>\n      <td>1.0</td>\n      <td>0.0</td>\n      <td>1.0</td>\n      <td>1.0</td>\n      <td>1.0</td>\n      <td>3.0</td>\n    </tr>\n    <tr>\n      <th>450</th>\n      <td>MARCH-2023</td>\n      <td>RCB</td>\n      <td>YORK AND SCARBOROUGH TEACHING HOSPITALS NHS FO...</td>\n      <td>3942.0</td>\n      <td>3087.0</td>\n      <td>2372.0</td>\n      <td>1915.0</td>\n      <td>2003.0</td>\n      <td>1985.0</td>\n      <td>1861.0</td>\n      <td>...</td>\n      <td>16.0</td>\n      <td>11.0</td>\n      <td>15.0</td>\n      <td>10.0</td>\n      <td>8.0</td>\n      <td>12.0</td>\n      <td>11.0</td>\n      <td>10.0</td>\n      <td>5.0</td>\n      <td>3.0</td>\n    </tr>\n  </tbody>\n</table>\n<p>11814 rows × 108 columns</p>\n</div>"
     },
     "execution_count": 3,
     "metadata": {},
     "output_type": "execute_result"
    }
   ],
   "source": [
    "dframe = df.drop(columns=[\"Provider Parent Org Code\",\"Provider Parent Name\",\"Commissioner Parent Org Code\",\"Commissioner Parent Name\",\"Commissioner Org Name\",\"Commissioner Org Code\",\"Treatment Function Name\",\"Treatment Function Code\", \"RTT Part Description\", \"RTT Part Type\"])\n",
    "dframe"
   ],
   "metadata": {
    "collapsed": false,
    "ExecuteTime": {
     "end_time": "2023-07-19T12:59:08.394414800Z",
     "start_time": "2023-07-19T12:59:08.242912200Z"
    }
   }
  },
  {
   "cell_type": "code",
   "execution_count": 4,
   "outputs": [
    {
     "data": {
      "text/plain": "           Period Provider Org Code  \\\n0    JANUARY-2021               RCF   \n1    JANUARY-2021               RBS   \n2    JANUARY-2021               NX5   \n3    JANUARY-2021               RTK   \n4    JANUARY-2021             NVC01   \n..            ...               ...   \n446    MARCH-2023               RWP   \n447    MARCH-2023               RRF   \n448    MARCH-2023               RLQ   \n449    MARCH-2023               RA4   \n450    MARCH-2023               RCB   \n\n                                     Provider Org Name       0       1  \\\n0                        AIREDALE NHS FOUNDATION TRUST  1082.0  1028.0   \n1            ALDER HEY CHILDREN'S NHS FOUNDATION TRUST   487.0   376.0   \n2                     ANGLIA COMMUNITY EYE SERVICE LTD    26.0   104.0   \n3    ASHFORD AND ST PETER'S HOSPITALS NHS FOUNDATIO...  1932.0  2368.0   \n4                                     ASHTEAD HOSPITAL    45.0    47.0   \n..                                                 ...     ...     ...   \n446           WORCESTERSHIRE ACUTE HOSPITALS NHS TRUST  4292.0  3703.0   \n447  WRIGHTINGTON, WIGAN AND LEIGH NHS FOUNDATION T...  3537.0  3835.0   \n448                               WYE VALLEY NHS TRUST  2090.0  1759.0   \n449      YEOVIL DISTRICT HOSPITAL NHS FOUNDATION TRUST  1783.0  1190.0   \n450  YORK AND SCARBOROUGH TEACHING HOSPITALS NHS FO...  3942.0  3087.0   \n\n          2       3       4       5       6  ...    96    97    98    99  \\\n0     669.0   724.0   381.0   553.0   525.0  ...   NaN   NaN   NaN   NaN   \n1     347.0   483.0   314.0   475.0   688.0  ...   NaN   NaN   NaN   NaN   \n2     138.0   173.0    66.0    55.0   126.0  ...   NaN   NaN   NaN   NaN   \n3    2365.0  2388.0  1478.0  1770.0  2116.0  ...   NaN   NaN   NaN   NaN   \n4      50.0    75.0    28.0    34.0    64.0  ...   NaN   NaN   NaN   NaN   \n..      ...     ...     ...     ...     ...  ...   ...   ...   ...   ...   \n446  2887.0  2814.0  2800.0  2654.0  2602.0  ...  31.0  26.0  30.0  17.0   \n447  2717.0  2687.0  2566.0  2467.0  2334.0  ...   4.0   0.0   1.0   2.0   \n448  1556.0  1455.0  1286.0  1263.0  1239.0  ...   0.0   0.0   1.0   2.0   \n449  1075.0   898.0   919.0   835.0   829.0  ...   1.0   0.0   2.0   1.0   \n450  2372.0  1915.0  2003.0  1985.0  1861.0  ...  11.0  15.0  10.0   8.0   \n\n      100   101   102  103   104    Total  \n0     NaN   NaN   NaN  NaN   NaN  13274.0  \n1     NaN   NaN   NaN  NaN   NaN  13600.0  \n2     NaN   NaN   NaN  NaN   NaN   1579.0  \n3     NaN   NaN   NaN  NaN   NaN  37077.0  \n4     NaN   NaN   NaN  NaN   NaN   1072.0  \n..    ...   ...   ...  ...   ...      ...  \n446  13.0   6.0   9.0  8.0  12.0  88961.0  \n447   2.0   2.0   0.0  0.0   7.0  66859.0  \n448   0.0   0.0   0.0  0.0   2.0  36290.0  \n449   0.0   1.0   1.0  1.0   3.0  22011.0  \n450  12.0  11.0  10.0  5.0   3.0  68137.0  \n\n[11814 rows x 109 columns]",
      "text/html": "<div>\n<style scoped>\n    .dataframe tbody tr th:only-of-type {\n        vertical-align: middle;\n    }\n\n    .dataframe tbody tr th {\n        vertical-align: top;\n    }\n\n    .dataframe thead th {\n        text-align: right;\n    }\n</style>\n<table border=\"1\" class=\"dataframe\">\n  <thead>\n    <tr style=\"text-align: right;\">\n      <th></th>\n      <th>Period</th>\n      <th>Provider Org Code</th>\n      <th>Provider Org Name</th>\n      <th>0</th>\n      <th>1</th>\n      <th>2</th>\n      <th>3</th>\n      <th>4</th>\n      <th>5</th>\n      <th>6</th>\n      <th>...</th>\n      <th>96</th>\n      <th>97</th>\n      <th>98</th>\n      <th>99</th>\n      <th>100</th>\n      <th>101</th>\n      <th>102</th>\n      <th>103</th>\n      <th>104</th>\n      <th>Total</th>\n    </tr>\n  </thead>\n  <tbody>\n    <tr>\n      <th>0</th>\n      <td>JANUARY-2021</td>\n      <td>RCF</td>\n      <td>AIREDALE NHS FOUNDATION TRUST</td>\n      <td>1082.0</td>\n      <td>1028.0</td>\n      <td>669.0</td>\n      <td>724.0</td>\n      <td>381.0</td>\n      <td>553.0</td>\n      <td>525.0</td>\n      <td>...</td>\n      <td>NaN</td>\n      <td>NaN</td>\n      <td>NaN</td>\n      <td>NaN</td>\n      <td>NaN</td>\n      <td>NaN</td>\n      <td>NaN</td>\n      <td>NaN</td>\n      <td>NaN</td>\n      <td>13274.0</td>\n    </tr>\n    <tr>\n      <th>1</th>\n      <td>JANUARY-2021</td>\n      <td>RBS</td>\n      <td>ALDER HEY CHILDREN'S NHS FOUNDATION TRUST</td>\n      <td>487.0</td>\n      <td>376.0</td>\n      <td>347.0</td>\n      <td>483.0</td>\n      <td>314.0</td>\n      <td>475.0</td>\n      <td>688.0</td>\n      <td>...</td>\n      <td>NaN</td>\n      <td>NaN</td>\n      <td>NaN</td>\n      <td>NaN</td>\n      <td>NaN</td>\n      <td>NaN</td>\n      <td>NaN</td>\n      <td>NaN</td>\n      <td>NaN</td>\n      <td>13600.0</td>\n    </tr>\n    <tr>\n      <th>2</th>\n      <td>JANUARY-2021</td>\n      <td>NX5</td>\n      <td>ANGLIA COMMUNITY EYE SERVICE LTD</td>\n      <td>26.0</td>\n      <td>104.0</td>\n      <td>138.0</td>\n      <td>173.0</td>\n      <td>66.0</td>\n      <td>55.0</td>\n      <td>126.0</td>\n      <td>...</td>\n      <td>NaN</td>\n      <td>NaN</td>\n      <td>NaN</td>\n      <td>NaN</td>\n      <td>NaN</td>\n      <td>NaN</td>\n      <td>NaN</td>\n      <td>NaN</td>\n      <td>NaN</td>\n      <td>1579.0</td>\n    </tr>\n    <tr>\n      <th>3</th>\n      <td>JANUARY-2021</td>\n      <td>RTK</td>\n      <td>ASHFORD AND ST PETER'S HOSPITALS NHS FOUNDATIO...</td>\n      <td>1932.0</td>\n      <td>2368.0</td>\n      <td>2365.0</td>\n      <td>2388.0</td>\n      <td>1478.0</td>\n      <td>1770.0</td>\n      <td>2116.0</td>\n      <td>...</td>\n      <td>NaN</td>\n      <td>NaN</td>\n      <td>NaN</td>\n      <td>NaN</td>\n      <td>NaN</td>\n      <td>NaN</td>\n      <td>NaN</td>\n      <td>NaN</td>\n      <td>NaN</td>\n      <td>37077.0</td>\n    </tr>\n    <tr>\n      <th>4</th>\n      <td>JANUARY-2021</td>\n      <td>NVC01</td>\n      <td>ASHTEAD HOSPITAL</td>\n      <td>45.0</td>\n      <td>47.0</td>\n      <td>50.0</td>\n      <td>75.0</td>\n      <td>28.0</td>\n      <td>34.0</td>\n      <td>64.0</td>\n      <td>...</td>\n      <td>NaN</td>\n      <td>NaN</td>\n      <td>NaN</td>\n      <td>NaN</td>\n      <td>NaN</td>\n      <td>NaN</td>\n      <td>NaN</td>\n      <td>NaN</td>\n      <td>NaN</td>\n      <td>1072.0</td>\n    </tr>\n    <tr>\n      <th>...</th>\n      <td>...</td>\n      <td>...</td>\n      <td>...</td>\n      <td>...</td>\n      <td>...</td>\n      <td>...</td>\n      <td>...</td>\n      <td>...</td>\n      <td>...</td>\n      <td>...</td>\n      <td>...</td>\n      <td>...</td>\n      <td>...</td>\n      <td>...</td>\n      <td>...</td>\n      <td>...</td>\n      <td>...</td>\n      <td>...</td>\n      <td>...</td>\n      <td>...</td>\n      <td>...</td>\n    </tr>\n    <tr>\n      <th>446</th>\n      <td>MARCH-2023</td>\n      <td>RWP</td>\n      <td>WORCESTERSHIRE ACUTE HOSPITALS NHS TRUST</td>\n      <td>4292.0</td>\n      <td>3703.0</td>\n      <td>2887.0</td>\n      <td>2814.0</td>\n      <td>2800.0</td>\n      <td>2654.0</td>\n      <td>2602.0</td>\n      <td>...</td>\n      <td>31.0</td>\n      <td>26.0</td>\n      <td>30.0</td>\n      <td>17.0</td>\n      <td>13.0</td>\n      <td>6.0</td>\n      <td>9.0</td>\n      <td>8.0</td>\n      <td>12.0</td>\n      <td>88961.0</td>\n    </tr>\n    <tr>\n      <th>447</th>\n      <td>MARCH-2023</td>\n      <td>RRF</td>\n      <td>WRIGHTINGTON, WIGAN AND LEIGH NHS FOUNDATION T...</td>\n      <td>3537.0</td>\n      <td>3835.0</td>\n      <td>2717.0</td>\n      <td>2687.0</td>\n      <td>2566.0</td>\n      <td>2467.0</td>\n      <td>2334.0</td>\n      <td>...</td>\n      <td>4.0</td>\n      <td>0.0</td>\n      <td>1.0</td>\n      <td>2.0</td>\n      <td>2.0</td>\n      <td>2.0</td>\n      <td>0.0</td>\n      <td>0.0</td>\n      <td>7.0</td>\n      <td>66859.0</td>\n    </tr>\n    <tr>\n      <th>448</th>\n      <td>MARCH-2023</td>\n      <td>RLQ</td>\n      <td>WYE VALLEY NHS TRUST</td>\n      <td>2090.0</td>\n      <td>1759.0</td>\n      <td>1556.0</td>\n      <td>1455.0</td>\n      <td>1286.0</td>\n      <td>1263.0</td>\n      <td>1239.0</td>\n      <td>...</td>\n      <td>0.0</td>\n      <td>0.0</td>\n      <td>1.0</td>\n      <td>2.0</td>\n      <td>0.0</td>\n      <td>0.0</td>\n      <td>0.0</td>\n      <td>0.0</td>\n      <td>2.0</td>\n      <td>36290.0</td>\n    </tr>\n    <tr>\n      <th>449</th>\n      <td>MARCH-2023</td>\n      <td>RA4</td>\n      <td>YEOVIL DISTRICT HOSPITAL NHS FOUNDATION TRUST</td>\n      <td>1783.0</td>\n      <td>1190.0</td>\n      <td>1075.0</td>\n      <td>898.0</td>\n      <td>919.0</td>\n      <td>835.0</td>\n      <td>829.0</td>\n      <td>...</td>\n      <td>1.0</td>\n      <td>0.0</td>\n      <td>2.0</td>\n      <td>1.0</td>\n      <td>0.0</td>\n      <td>1.0</td>\n      <td>1.0</td>\n      <td>1.0</td>\n      <td>3.0</td>\n      <td>22011.0</td>\n    </tr>\n    <tr>\n      <th>450</th>\n      <td>MARCH-2023</td>\n      <td>RCB</td>\n      <td>YORK AND SCARBOROUGH TEACHING HOSPITALS NHS FO...</td>\n      <td>3942.0</td>\n      <td>3087.0</td>\n      <td>2372.0</td>\n      <td>1915.0</td>\n      <td>2003.0</td>\n      <td>1985.0</td>\n      <td>1861.0</td>\n      <td>...</td>\n      <td>11.0</td>\n      <td>15.0</td>\n      <td>10.0</td>\n      <td>8.0</td>\n      <td>12.0</td>\n      <td>11.0</td>\n      <td>10.0</td>\n      <td>5.0</td>\n      <td>3.0</td>\n      <td>68137.0</td>\n    </tr>\n  </tbody>\n</table>\n<p>11814 rows × 109 columns</p>\n</div>"
     },
     "execution_count": 4,
     "metadata": {},
     "output_type": "execute_result"
    }
   ],
   "source": [
    "dframe['Total'] = dframe.iloc[:,3:].T.sum()\n",
    "dframe"
   ],
   "metadata": {
    "collapsed": false,
    "ExecuteTime": {
     "end_time": "2023-07-19T12:59:08.423611600Z",
     "start_time": "2023-07-19T12:59:08.289357600Z"
    }
   }
  },
  {
   "cell_type": "markdown",
   "metadata": {
    "collapsed": false
   },
   "source": [
    "# we then save this data into an CSV (this can be exchanged for xlsx)"
   ]
  },
  {
   "cell_type": "code",
   "execution_count": 5,
   "metadata": {
    "collapsed": false,
    "ExecuteTime": {
     "end_time": "2023-07-19T12:59:09.010809100Z",
     "start_time": "2023-07-19T12:59:08.390341100Z"
    }
   },
   "outputs": [
    {
     "data": {
      "text/plain": "           Period Provider Org Code  \\\n0    JANUARY-2021               RCF   \n1    JANUARY-2021               RBS   \n2    JANUARY-2021               NX5   \n3    JANUARY-2021               RTK   \n4    JANUARY-2021             NVC01   \n..            ...               ...   \n446    MARCH-2023               RWP   \n447    MARCH-2023               RRF   \n448    MARCH-2023               RLQ   \n449    MARCH-2023               RA4   \n450    MARCH-2023               RCB   \n\n                                     Provider Org Name       0       1  \\\n0                        AIREDALE NHS FOUNDATION TRUST  1082.0  1028.0   \n1            ALDER HEY CHILDREN'S NHS FOUNDATION TRUST   487.0   376.0   \n2                     ANGLIA COMMUNITY EYE SERVICE LTD    26.0   104.0   \n3    ASHFORD AND ST PETER'S HOSPITALS NHS FOUNDATIO...  1932.0  2368.0   \n4                                     ASHTEAD HOSPITAL    45.0    47.0   \n..                                                 ...     ...     ...   \n446           WORCESTERSHIRE ACUTE HOSPITALS NHS TRUST  4292.0  3703.0   \n447  WRIGHTINGTON, WIGAN AND LEIGH NHS FOUNDATION T...  3537.0  3835.0   \n448                               WYE VALLEY NHS TRUST  2090.0  1759.0   \n449      YEOVIL DISTRICT HOSPITAL NHS FOUNDATION TRUST  1783.0  1190.0   \n450  YORK AND SCARBOROUGH TEACHING HOSPITALS NHS FO...  3942.0  3087.0   \n\n          2       3       4       5       6  ...    96    97    98    99  \\\n0     669.0   724.0   381.0   553.0   525.0  ...   NaN   NaN   NaN   NaN   \n1     347.0   483.0   314.0   475.0   688.0  ...   NaN   NaN   NaN   NaN   \n2     138.0   173.0    66.0    55.0   126.0  ...   NaN   NaN   NaN   NaN   \n3    2365.0  2388.0  1478.0  1770.0  2116.0  ...   NaN   NaN   NaN   NaN   \n4      50.0    75.0    28.0    34.0    64.0  ...   NaN   NaN   NaN   NaN   \n..      ...     ...     ...     ...     ...  ...   ...   ...   ...   ...   \n446  2887.0  2814.0  2800.0  2654.0  2602.0  ...  31.0  26.0  30.0  17.0   \n447  2717.0  2687.0  2566.0  2467.0  2334.0  ...   4.0   0.0   1.0   2.0   \n448  1556.0  1455.0  1286.0  1263.0  1239.0  ...   0.0   0.0   1.0   2.0   \n449  1075.0   898.0   919.0   835.0   829.0  ...   1.0   0.0   2.0   1.0   \n450  2372.0  1915.0  2003.0  1985.0  1861.0  ...  11.0  15.0  10.0   8.0   \n\n      100   101   102  103   104    Total  \n0     NaN   NaN   NaN  NaN   NaN  13274.0  \n1     NaN   NaN   NaN  NaN   NaN  13600.0  \n2     NaN   NaN   NaN  NaN   NaN   1579.0  \n3     NaN   NaN   NaN  NaN   NaN  37077.0  \n4     NaN   NaN   NaN  NaN   NaN   1072.0  \n..    ...   ...   ...  ...   ...      ...  \n446  13.0   6.0   9.0  8.0  12.0  88961.0  \n447   2.0   2.0   0.0  0.0   7.0  66859.0  \n448   0.0   0.0   0.0  0.0   2.0  36290.0  \n449   0.0   1.0   1.0  1.0   3.0  22011.0  \n450  12.0  11.0  10.0  5.0   3.0  68137.0  \n\n[11814 rows x 109 columns]",
      "text/html": "<div>\n<style scoped>\n    .dataframe tbody tr th:only-of-type {\n        vertical-align: middle;\n    }\n\n    .dataframe tbody tr th {\n        vertical-align: top;\n    }\n\n    .dataframe thead th {\n        text-align: right;\n    }\n</style>\n<table border=\"1\" class=\"dataframe\">\n  <thead>\n    <tr style=\"text-align: right;\">\n      <th></th>\n      <th>Period</th>\n      <th>Provider Org Code</th>\n      <th>Provider Org Name</th>\n      <th>0</th>\n      <th>1</th>\n      <th>2</th>\n      <th>3</th>\n      <th>4</th>\n      <th>5</th>\n      <th>6</th>\n      <th>...</th>\n      <th>96</th>\n      <th>97</th>\n      <th>98</th>\n      <th>99</th>\n      <th>100</th>\n      <th>101</th>\n      <th>102</th>\n      <th>103</th>\n      <th>104</th>\n      <th>Total</th>\n    </tr>\n  </thead>\n  <tbody>\n    <tr>\n      <th>0</th>\n      <td>JANUARY-2021</td>\n      <td>RCF</td>\n      <td>AIREDALE NHS FOUNDATION TRUST</td>\n      <td>1082.0</td>\n      <td>1028.0</td>\n      <td>669.0</td>\n      <td>724.0</td>\n      <td>381.0</td>\n      <td>553.0</td>\n      <td>525.0</td>\n      <td>...</td>\n      <td>NaN</td>\n      <td>NaN</td>\n      <td>NaN</td>\n      <td>NaN</td>\n      <td>NaN</td>\n      <td>NaN</td>\n      <td>NaN</td>\n      <td>NaN</td>\n      <td>NaN</td>\n      <td>13274.0</td>\n    </tr>\n    <tr>\n      <th>1</th>\n      <td>JANUARY-2021</td>\n      <td>RBS</td>\n      <td>ALDER HEY CHILDREN'S NHS FOUNDATION TRUST</td>\n      <td>487.0</td>\n      <td>376.0</td>\n      <td>347.0</td>\n      <td>483.0</td>\n      <td>314.0</td>\n      <td>475.0</td>\n      <td>688.0</td>\n      <td>...</td>\n      <td>NaN</td>\n      <td>NaN</td>\n      <td>NaN</td>\n      <td>NaN</td>\n      <td>NaN</td>\n      <td>NaN</td>\n      <td>NaN</td>\n      <td>NaN</td>\n      <td>NaN</td>\n      <td>13600.0</td>\n    </tr>\n    <tr>\n      <th>2</th>\n      <td>JANUARY-2021</td>\n      <td>NX5</td>\n      <td>ANGLIA COMMUNITY EYE SERVICE LTD</td>\n      <td>26.0</td>\n      <td>104.0</td>\n      <td>138.0</td>\n      <td>173.0</td>\n      <td>66.0</td>\n      <td>55.0</td>\n      <td>126.0</td>\n      <td>...</td>\n      <td>NaN</td>\n      <td>NaN</td>\n      <td>NaN</td>\n      <td>NaN</td>\n      <td>NaN</td>\n      <td>NaN</td>\n      <td>NaN</td>\n      <td>NaN</td>\n      <td>NaN</td>\n      <td>1579.0</td>\n    </tr>\n    <tr>\n      <th>3</th>\n      <td>JANUARY-2021</td>\n      <td>RTK</td>\n      <td>ASHFORD AND ST PETER'S HOSPITALS NHS FOUNDATIO...</td>\n      <td>1932.0</td>\n      <td>2368.0</td>\n      <td>2365.0</td>\n      <td>2388.0</td>\n      <td>1478.0</td>\n      <td>1770.0</td>\n      <td>2116.0</td>\n      <td>...</td>\n      <td>NaN</td>\n      <td>NaN</td>\n      <td>NaN</td>\n      <td>NaN</td>\n      <td>NaN</td>\n      <td>NaN</td>\n      <td>NaN</td>\n      <td>NaN</td>\n      <td>NaN</td>\n      <td>37077.0</td>\n    </tr>\n    <tr>\n      <th>4</th>\n      <td>JANUARY-2021</td>\n      <td>NVC01</td>\n      <td>ASHTEAD HOSPITAL</td>\n      <td>45.0</td>\n      <td>47.0</td>\n      <td>50.0</td>\n      <td>75.0</td>\n      <td>28.0</td>\n      <td>34.0</td>\n      <td>64.0</td>\n      <td>...</td>\n      <td>NaN</td>\n      <td>NaN</td>\n      <td>NaN</td>\n      <td>NaN</td>\n      <td>NaN</td>\n      <td>NaN</td>\n      <td>NaN</td>\n      <td>NaN</td>\n      <td>NaN</td>\n      <td>1072.0</td>\n    </tr>\n    <tr>\n      <th>...</th>\n      <td>...</td>\n      <td>...</td>\n      <td>...</td>\n      <td>...</td>\n      <td>...</td>\n      <td>...</td>\n      <td>...</td>\n      <td>...</td>\n      <td>...</td>\n      <td>...</td>\n      <td>...</td>\n      <td>...</td>\n      <td>...</td>\n      <td>...</td>\n      <td>...</td>\n      <td>...</td>\n      <td>...</td>\n      <td>...</td>\n      <td>...</td>\n      <td>...</td>\n      <td>...</td>\n    </tr>\n    <tr>\n      <th>446</th>\n      <td>MARCH-2023</td>\n      <td>RWP</td>\n      <td>WORCESTERSHIRE ACUTE HOSPITALS NHS TRUST</td>\n      <td>4292.0</td>\n      <td>3703.0</td>\n      <td>2887.0</td>\n      <td>2814.0</td>\n      <td>2800.0</td>\n      <td>2654.0</td>\n      <td>2602.0</td>\n      <td>...</td>\n      <td>31.0</td>\n      <td>26.0</td>\n      <td>30.0</td>\n      <td>17.0</td>\n      <td>13.0</td>\n      <td>6.0</td>\n      <td>9.0</td>\n      <td>8.0</td>\n      <td>12.0</td>\n      <td>88961.0</td>\n    </tr>\n    <tr>\n      <th>447</th>\n      <td>MARCH-2023</td>\n      <td>RRF</td>\n      <td>WRIGHTINGTON, WIGAN AND LEIGH NHS FOUNDATION T...</td>\n      <td>3537.0</td>\n      <td>3835.0</td>\n      <td>2717.0</td>\n      <td>2687.0</td>\n      <td>2566.0</td>\n      <td>2467.0</td>\n      <td>2334.0</td>\n      <td>...</td>\n      <td>4.0</td>\n      <td>0.0</td>\n      <td>1.0</td>\n      <td>2.0</td>\n      <td>2.0</td>\n      <td>2.0</td>\n      <td>0.0</td>\n      <td>0.0</td>\n      <td>7.0</td>\n      <td>66859.0</td>\n    </tr>\n    <tr>\n      <th>448</th>\n      <td>MARCH-2023</td>\n      <td>RLQ</td>\n      <td>WYE VALLEY NHS TRUST</td>\n      <td>2090.0</td>\n      <td>1759.0</td>\n      <td>1556.0</td>\n      <td>1455.0</td>\n      <td>1286.0</td>\n      <td>1263.0</td>\n      <td>1239.0</td>\n      <td>...</td>\n      <td>0.0</td>\n      <td>0.0</td>\n      <td>1.0</td>\n      <td>2.0</td>\n      <td>0.0</td>\n      <td>0.0</td>\n      <td>0.0</td>\n      <td>0.0</td>\n      <td>2.0</td>\n      <td>36290.0</td>\n    </tr>\n    <tr>\n      <th>449</th>\n      <td>MARCH-2023</td>\n      <td>RA4</td>\n      <td>YEOVIL DISTRICT HOSPITAL NHS FOUNDATION TRUST</td>\n      <td>1783.0</td>\n      <td>1190.0</td>\n      <td>1075.0</td>\n      <td>898.0</td>\n      <td>919.0</td>\n      <td>835.0</td>\n      <td>829.0</td>\n      <td>...</td>\n      <td>1.0</td>\n      <td>0.0</td>\n      <td>2.0</td>\n      <td>1.0</td>\n      <td>0.0</td>\n      <td>1.0</td>\n      <td>1.0</td>\n      <td>1.0</td>\n      <td>3.0</td>\n      <td>22011.0</td>\n    </tr>\n    <tr>\n      <th>450</th>\n      <td>MARCH-2023</td>\n      <td>RCB</td>\n      <td>YORK AND SCARBOROUGH TEACHING HOSPITALS NHS FO...</td>\n      <td>3942.0</td>\n      <td>3087.0</td>\n      <td>2372.0</td>\n      <td>1915.0</td>\n      <td>2003.0</td>\n      <td>1985.0</td>\n      <td>1861.0</td>\n      <td>...</td>\n      <td>11.0</td>\n      <td>15.0</td>\n      <td>10.0</td>\n      <td>8.0</td>\n      <td>12.0</td>\n      <td>11.0</td>\n      <td>10.0</td>\n      <td>5.0</td>\n      <td>3.0</td>\n      <td>68137.0</td>\n    </tr>\n  </tbody>\n</table>\n<p>11814 rows × 109 columns</p>\n</div>"
     },
     "execution_count": 5,
     "metadata": {},
     "output_type": "execute_result"
    }
   ],
   "source": [
    "dframe.to_csv(\"data/all_hospital.csv\",index=False)\n",
    "dframe"
   ]
  },
  {
   "cell_type": "markdown",
   "source": [
    "# we then convert this into a percentage of the total to account for larger hospitals having more patients and therefore more people waiting"
   ],
   "metadata": {
    "collapsed": false
   }
  },
  {
   "cell_type": "code",
   "execution_count": 6,
   "outputs": [
    {
     "data": {
      "text/plain": "           Period Provider Org Code  \\\n0    JANUARY-2021               RCF   \n1    JANUARY-2021               RBS   \n2    JANUARY-2021               NX5   \n3    JANUARY-2021               RTK   \n4    JANUARY-2021             NVC01   \n..            ...               ...   \n446    MARCH-2023               RWP   \n447    MARCH-2023               RRF   \n448    MARCH-2023               RLQ   \n449    MARCH-2023               RA4   \n450    MARCH-2023               RCB   \n\n                                     Provider Org Name         0         1  \\\n0                        AIREDALE NHS FOUNDATION TRUST  8.151273  7.744463   \n1            ALDER HEY CHILDREN'S NHS FOUNDATION TRUST  3.580882  2.764706   \n2                     ANGLIA COMMUNITY EYE SERVICE LTD  1.646612  6.586447   \n3    ASHFORD AND ST PETER'S HOSPITALS NHS FOUNDATIO...  5.210778  6.386709   \n4                                     ASHTEAD HOSPITAL  4.197761  4.384328   \n..                                                 ...       ...       ...   \n446           WORCESTERSHIRE ACUTE HOSPITALS NHS TRUST  4.824586  4.162498   \n447  WRIGHTINGTON, WIGAN AND LEIGH NHS FOUNDATION T...  5.290238  5.735952   \n448                               WYE VALLEY NHS TRUST  5.759162  4.847065   \n449      YEOVIL DISTRICT HOSPITAL NHS FOUNDATION TRUST  8.100495  5.406388   \n450  YORK AND SCARBOROUGH TEACHING HOSPITALS NHS FO...  5.785403  4.530578   \n\n            2          3         4         5         6  ...        96  \\\n0    5.039928   5.454272  2.870273  4.166039  3.955100  ...       NaN   \n1    2.551471   3.551471  2.308824  3.492647  5.058824  ...       NaN   \n2    8.739709  10.956301  4.179861  3.483217  7.979734  ...       NaN   \n3    6.378617   6.440651  3.986299  4.773849  5.707042  ...       NaN   \n4    4.664179   6.996269  2.611940  3.171642  5.970149  ...       NaN   \n..        ...        ...       ...       ...       ...  ...       ...   \n446  3.245242   3.163184  3.147447  2.983330  2.924877  ...  0.034847   \n447  4.063776   4.018905  3.837928  3.689855  3.490929  ...  0.005983   \n448  4.287683   4.009369  3.543676  3.480298  3.414164  ...  0.000000   \n449  4.883922   4.079778  4.175185  3.793558  3.766299  ...  0.004543   \n450  3.481222   2.810514  2.939666  2.913248  2.731262  ...  0.016144   \n\n           97        98        99       100       101       102       103  \\\n0         NaN       NaN       NaN       NaN       NaN       NaN       NaN   \n1         NaN       NaN       NaN       NaN       NaN       NaN       NaN   \n2         NaN       NaN       NaN       NaN       NaN       NaN       NaN   \n3         NaN       NaN       NaN       NaN       NaN       NaN       NaN   \n4         NaN       NaN       NaN       NaN       NaN       NaN       NaN   \n..        ...       ...       ...       ...       ...       ...       ...   \n446  0.029226  0.033723  0.019109  0.014613  0.006745  0.010117  0.008993   \n447  0.000000  0.001496  0.002991  0.002991  0.002991  0.000000  0.000000   \n448  0.000000  0.002756  0.005511  0.000000  0.000000  0.000000  0.000000   \n449  0.000000  0.009086  0.004543  0.000000  0.004543  0.004543  0.004543   \n450  0.022014  0.014676  0.011741  0.017612  0.016144  0.014676  0.007338   \n\n          104    Total  \n0         NaN  13274.0  \n1         NaN  13600.0  \n2         NaN   1579.0  \n3         NaN  37077.0  \n4         NaN   1072.0  \n..        ...      ...  \n446  0.013489  88961.0  \n447  0.010470  66859.0  \n448  0.005511  36290.0  \n449  0.013630  22011.0  \n450  0.004403  68137.0  \n\n[11814 rows x 109 columns]",
      "text/html": "<div>\n<style scoped>\n    .dataframe tbody tr th:only-of-type {\n        vertical-align: middle;\n    }\n\n    .dataframe tbody tr th {\n        vertical-align: top;\n    }\n\n    .dataframe thead th {\n        text-align: right;\n    }\n</style>\n<table border=\"1\" class=\"dataframe\">\n  <thead>\n    <tr style=\"text-align: right;\">\n      <th></th>\n      <th>Period</th>\n      <th>Provider Org Code</th>\n      <th>Provider Org Name</th>\n      <th>0</th>\n      <th>1</th>\n      <th>2</th>\n      <th>3</th>\n      <th>4</th>\n      <th>5</th>\n      <th>6</th>\n      <th>...</th>\n      <th>96</th>\n      <th>97</th>\n      <th>98</th>\n      <th>99</th>\n      <th>100</th>\n      <th>101</th>\n      <th>102</th>\n      <th>103</th>\n      <th>104</th>\n      <th>Total</th>\n    </tr>\n  </thead>\n  <tbody>\n    <tr>\n      <th>0</th>\n      <td>JANUARY-2021</td>\n      <td>RCF</td>\n      <td>AIREDALE NHS FOUNDATION TRUST</td>\n      <td>8.151273</td>\n      <td>7.744463</td>\n      <td>5.039928</td>\n      <td>5.454272</td>\n      <td>2.870273</td>\n      <td>4.166039</td>\n      <td>3.955100</td>\n      <td>...</td>\n      <td>NaN</td>\n      <td>NaN</td>\n      <td>NaN</td>\n      <td>NaN</td>\n      <td>NaN</td>\n      <td>NaN</td>\n      <td>NaN</td>\n      <td>NaN</td>\n      <td>NaN</td>\n      <td>13274.0</td>\n    </tr>\n    <tr>\n      <th>1</th>\n      <td>JANUARY-2021</td>\n      <td>RBS</td>\n      <td>ALDER HEY CHILDREN'S NHS FOUNDATION TRUST</td>\n      <td>3.580882</td>\n      <td>2.764706</td>\n      <td>2.551471</td>\n      <td>3.551471</td>\n      <td>2.308824</td>\n      <td>3.492647</td>\n      <td>5.058824</td>\n      <td>...</td>\n      <td>NaN</td>\n      <td>NaN</td>\n      <td>NaN</td>\n      <td>NaN</td>\n      <td>NaN</td>\n      <td>NaN</td>\n      <td>NaN</td>\n      <td>NaN</td>\n      <td>NaN</td>\n      <td>13600.0</td>\n    </tr>\n    <tr>\n      <th>2</th>\n      <td>JANUARY-2021</td>\n      <td>NX5</td>\n      <td>ANGLIA COMMUNITY EYE SERVICE LTD</td>\n      <td>1.646612</td>\n      <td>6.586447</td>\n      <td>8.739709</td>\n      <td>10.956301</td>\n      <td>4.179861</td>\n      <td>3.483217</td>\n      <td>7.979734</td>\n      <td>...</td>\n      <td>NaN</td>\n      <td>NaN</td>\n      <td>NaN</td>\n      <td>NaN</td>\n      <td>NaN</td>\n      <td>NaN</td>\n      <td>NaN</td>\n      <td>NaN</td>\n      <td>NaN</td>\n      <td>1579.0</td>\n    </tr>\n    <tr>\n      <th>3</th>\n      <td>JANUARY-2021</td>\n      <td>RTK</td>\n      <td>ASHFORD AND ST PETER'S HOSPITALS NHS FOUNDATIO...</td>\n      <td>5.210778</td>\n      <td>6.386709</td>\n      <td>6.378617</td>\n      <td>6.440651</td>\n      <td>3.986299</td>\n      <td>4.773849</td>\n      <td>5.707042</td>\n      <td>...</td>\n      <td>NaN</td>\n      <td>NaN</td>\n      <td>NaN</td>\n      <td>NaN</td>\n      <td>NaN</td>\n      <td>NaN</td>\n      <td>NaN</td>\n      <td>NaN</td>\n      <td>NaN</td>\n      <td>37077.0</td>\n    </tr>\n    <tr>\n      <th>4</th>\n      <td>JANUARY-2021</td>\n      <td>NVC01</td>\n      <td>ASHTEAD HOSPITAL</td>\n      <td>4.197761</td>\n      <td>4.384328</td>\n      <td>4.664179</td>\n      <td>6.996269</td>\n      <td>2.611940</td>\n      <td>3.171642</td>\n      <td>5.970149</td>\n      <td>...</td>\n      <td>NaN</td>\n      <td>NaN</td>\n      <td>NaN</td>\n      <td>NaN</td>\n      <td>NaN</td>\n      <td>NaN</td>\n      <td>NaN</td>\n      <td>NaN</td>\n      <td>NaN</td>\n      <td>1072.0</td>\n    </tr>\n    <tr>\n      <th>...</th>\n      <td>...</td>\n      <td>...</td>\n      <td>...</td>\n      <td>...</td>\n      <td>...</td>\n      <td>...</td>\n      <td>...</td>\n      <td>...</td>\n      <td>...</td>\n      <td>...</td>\n      <td>...</td>\n      <td>...</td>\n      <td>...</td>\n      <td>...</td>\n      <td>...</td>\n      <td>...</td>\n      <td>...</td>\n      <td>...</td>\n      <td>...</td>\n      <td>...</td>\n      <td>...</td>\n    </tr>\n    <tr>\n      <th>446</th>\n      <td>MARCH-2023</td>\n      <td>RWP</td>\n      <td>WORCESTERSHIRE ACUTE HOSPITALS NHS TRUST</td>\n      <td>4.824586</td>\n      <td>4.162498</td>\n      <td>3.245242</td>\n      <td>3.163184</td>\n      <td>3.147447</td>\n      <td>2.983330</td>\n      <td>2.924877</td>\n      <td>...</td>\n      <td>0.034847</td>\n      <td>0.029226</td>\n      <td>0.033723</td>\n      <td>0.019109</td>\n      <td>0.014613</td>\n      <td>0.006745</td>\n      <td>0.010117</td>\n      <td>0.008993</td>\n      <td>0.013489</td>\n      <td>88961.0</td>\n    </tr>\n    <tr>\n      <th>447</th>\n      <td>MARCH-2023</td>\n      <td>RRF</td>\n      <td>WRIGHTINGTON, WIGAN AND LEIGH NHS FOUNDATION T...</td>\n      <td>5.290238</td>\n      <td>5.735952</td>\n      <td>4.063776</td>\n      <td>4.018905</td>\n      <td>3.837928</td>\n      <td>3.689855</td>\n      <td>3.490929</td>\n      <td>...</td>\n      <td>0.005983</td>\n      <td>0.000000</td>\n      <td>0.001496</td>\n      <td>0.002991</td>\n      <td>0.002991</td>\n      <td>0.002991</td>\n      <td>0.000000</td>\n      <td>0.000000</td>\n      <td>0.010470</td>\n      <td>66859.0</td>\n    </tr>\n    <tr>\n      <th>448</th>\n      <td>MARCH-2023</td>\n      <td>RLQ</td>\n      <td>WYE VALLEY NHS TRUST</td>\n      <td>5.759162</td>\n      <td>4.847065</td>\n      <td>4.287683</td>\n      <td>4.009369</td>\n      <td>3.543676</td>\n      <td>3.480298</td>\n      <td>3.414164</td>\n      <td>...</td>\n      <td>0.000000</td>\n      <td>0.000000</td>\n      <td>0.002756</td>\n      <td>0.005511</td>\n      <td>0.000000</td>\n      <td>0.000000</td>\n      <td>0.000000</td>\n      <td>0.000000</td>\n      <td>0.005511</td>\n      <td>36290.0</td>\n    </tr>\n    <tr>\n      <th>449</th>\n      <td>MARCH-2023</td>\n      <td>RA4</td>\n      <td>YEOVIL DISTRICT HOSPITAL NHS FOUNDATION TRUST</td>\n      <td>8.100495</td>\n      <td>5.406388</td>\n      <td>4.883922</td>\n      <td>4.079778</td>\n      <td>4.175185</td>\n      <td>3.793558</td>\n      <td>3.766299</td>\n      <td>...</td>\n      <td>0.004543</td>\n      <td>0.000000</td>\n      <td>0.009086</td>\n      <td>0.004543</td>\n      <td>0.000000</td>\n      <td>0.004543</td>\n      <td>0.004543</td>\n      <td>0.004543</td>\n      <td>0.013630</td>\n      <td>22011.0</td>\n    </tr>\n    <tr>\n      <th>450</th>\n      <td>MARCH-2023</td>\n      <td>RCB</td>\n      <td>YORK AND SCARBOROUGH TEACHING HOSPITALS NHS FO...</td>\n      <td>5.785403</td>\n      <td>4.530578</td>\n      <td>3.481222</td>\n      <td>2.810514</td>\n      <td>2.939666</td>\n      <td>2.913248</td>\n      <td>2.731262</td>\n      <td>...</td>\n      <td>0.016144</td>\n      <td>0.022014</td>\n      <td>0.014676</td>\n      <td>0.011741</td>\n      <td>0.017612</td>\n      <td>0.016144</td>\n      <td>0.014676</td>\n      <td>0.007338</td>\n      <td>0.004403</td>\n      <td>68137.0</td>\n    </tr>\n  </tbody>\n</table>\n<p>11814 rows × 109 columns</p>\n</div>"
     },
     "execution_count": 6,
     "metadata": {},
     "output_type": "execute_result"
    }
   ],
   "source": [
    "\n",
    "percentage = dframe.columns[3:-1]\n",
    "\n",
    "percentage_new = dframe\n",
    "percentage_new[percentage] = dframe[percentage].div(dframe.Total, axis=0)*100\n",
    "percentage_new"
   ],
   "metadata": {
    "collapsed": false,
    "ExecuteTime": {
     "end_time": "2023-07-19T12:59:09.133892300Z",
     "start_time": "2023-07-19T12:59:09.013812Z"
    }
   }
  },
  {
   "cell_type": "code",
   "execution_count": 7,
   "outputs": [],
   "source": [
    "percentage_new.to_csv(\"data/percentage_hospital.csv\", index=False)"
   ],
   "metadata": {
    "collapsed": false,
    "ExecuteTime": {
     "end_time": "2023-07-19T12:59:10.199126500Z",
     "start_time": "2023-07-19T12:59:09.077974900Z"
    }
   }
  }
 ],
 "metadata": {
  "kernelspec": {
   "display_name": "Python 3",
   "language": "python",
   "name": "python3"
  },
  "language_info": {
   "codemirror_mode": {
    "name": "ipython",
    "version": 2
   },
   "file_extension": ".py",
   "mimetype": "text/x-python",
   "name": "python",
   "nbconvert_exporter": "python",
   "pygments_lexer": "ipython2",
   "version": "2.7.6"
  }
 },
 "nbformat": 4,
 "nbformat_minor": 0
}
