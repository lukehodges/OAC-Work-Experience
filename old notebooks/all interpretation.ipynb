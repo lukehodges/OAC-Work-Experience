{
 "cells": [
  {
   "cell_type": "code",
   "execution_count": 8,
   "metadata": {
    "collapsed": true,
    "ExecuteTime": {
     "end_time": "2023-07-19T10:26:04.931700100Z",
     "start_time": "2023-07-19T10:26:04.756479600Z"
    }
   },
   "outputs": [],
   "source": [
    "import pandas as pd\n",
    "import plotly\n",
    "df = pd.read_csv(\"data/all_hospital.csv\")\n",
    "map = pd.read_excel(\"data/mapping.xlsx\")"
   ]
  },
  {
   "cell_type": "code",
   "execution_count": 9,
   "metadata": {
    "collapsed": false,
    "ExecuteTime": {
     "end_time": "2023-07-19T10:26:04.994757200Z",
     "start_time": "2023-07-19T10:26:04.933702Z"
    }
   },
   "outputs": [
    {
     "data": {
      "text/plain": "       Unnamed: 0        Period  \\\n0               0  JANUARY-2021   \n1               1  JANUARY-2021   \n2               2  JANUARY-2021   \n3               3  JANUARY-2021   \n4               4  JANUARY-2021   \n...           ...           ...   \n11809         446    MARCH-2023   \n11810         447    MARCH-2023   \n11811         448    MARCH-2023   \n11812         449    MARCH-2023   \n11813         450    MARCH-2023   \n\n                                    Provider Parent Name Provider Org Code  \\\n0      WEST YORKSHIRE AND HARROGATE HEALTH & CARE PAR...               RCF   \n1                            CHESHIRE AND MERSEYSIDE STP               RBS   \n2                    CAMBRIDGESHIRE AND PETERBOROUGH STP               NX5   \n3      SURREY HEARTLANDS HEALTH & CARE PARTNERSHIP (STP)               RTK   \n4      SURREY HEARTLANDS HEALTH & CARE PARTNERSHIP (STP)             NVC01   \n...                                                  ...               ...   \n11809  NHS HEREFORDSHIRE AND WORCESTERSHIRE INTEGRATE...               RWP   \n11810       NHS GREATER MANCHESTER INTEGRATED CARE BOARD               RRF   \n11811  NHS HEREFORDSHIRE AND WORCESTERSHIRE INTEGRATE...               RLQ   \n11812                 NHS SOMERSET INTEGRATED CARE BOARD               RA4   \n11813  NHS HUMBER AND NORTH YORKSHIRE INTEGRATED CARE...               RCB   \n\n                                       Provider Org Name       0       1  \\\n0                          AIREDALE NHS FOUNDATION TRUST  1082.0  1028.0   \n1              ALDER HEY CHILDREN'S NHS FOUNDATION TRUST   487.0   376.0   \n2                       ANGLIA COMMUNITY EYE SERVICE LTD    26.0   104.0   \n3      ASHFORD AND ST PETER'S HOSPITALS NHS FOUNDATIO...  1932.0  2368.0   \n4                                       ASHTEAD HOSPITAL    45.0    47.0   \n...                                                  ...     ...     ...   \n11809           WORCESTERSHIRE ACUTE HOSPITALS NHS TRUST  4292.0  3703.0   \n11810  WRIGHTINGTON, WIGAN AND LEIGH NHS FOUNDATION T...  3537.0  3835.0   \n11811                               WYE VALLEY NHS TRUST  2090.0  1759.0   \n11812      YEOVIL DISTRICT HOSPITAL NHS FOUNDATION TRUST  1783.0  1190.0   \n11813  YORK AND SCARBOROUGH TEACHING HOSPITALS NHS FO...  3942.0  3087.0   \n\n            2       3       4  ...        96        97        98        99  \\\n0       669.0   724.0   381.0  ...       NaN       NaN       NaN       NaN   \n1       347.0   483.0   314.0  ...       NaN       NaN       NaN       NaN   \n2       138.0   173.0    66.0  ...       NaN       NaN       NaN       NaN   \n3      2365.0  2388.0  1478.0  ...       NaN       NaN       NaN       NaN   \n4        50.0    75.0    28.0  ...       NaN       NaN       NaN       NaN   \n...       ...     ...     ...  ...       ...       ...       ...       ...   \n11809  2887.0  2814.0  2800.0  ...  0.034851  0.029230  0.033727  0.019112   \n11810  2717.0  2687.0  2566.0  ...  0.005983  0.000000  0.001496  0.002992   \n11811  1556.0  1455.0  1286.0  ...  0.000000  0.000000  0.002756  0.005511   \n11812  1075.0   898.0   919.0  ...  0.004544  0.000000  0.009088  0.004544   \n11813  2372.0  1915.0  2003.0  ...  0.016145  0.022015  0.014677  0.011742   \n\n            100       101       102       103       104    Total  \n0           NaN       NaN       NaN       NaN       NaN  13274.0  \n1           NaN       NaN       NaN       NaN       NaN  13600.0  \n2           NaN       NaN       NaN       NaN       NaN   1579.0  \n3           NaN       NaN       NaN       NaN       NaN  37077.0  \n4           NaN       NaN       NaN       NaN       NaN   1072.0  \n...         ...       ...       ...       ...       ...      ...  \n11809  0.014615  0.006745  0.010118  0.008994  0.013491  88949.0  \n11810  0.002992  0.002992  0.000000  0.000000  0.010471  66852.0  \n11811  0.000000  0.000000  0.000000  0.000000  0.005511  36288.0  \n11812  0.000000  0.004544  0.004544  0.004544  0.013631  22008.0  \n11813  0.017612  0.016145  0.014677  0.007338  0.004403  68134.0  \n\n[11814 rows x 111 columns]",
      "text/html": "<div>\n<style scoped>\n    .dataframe tbody tr th:only-of-type {\n        vertical-align: middle;\n    }\n\n    .dataframe tbody tr th {\n        vertical-align: top;\n    }\n\n    .dataframe thead th {\n        text-align: right;\n    }\n</style>\n<table border=\"1\" class=\"dataframe\">\n  <thead>\n    <tr style=\"text-align: right;\">\n      <th></th>\n      <th>Unnamed: 0</th>\n      <th>Period</th>\n      <th>Provider Parent Name</th>\n      <th>Provider Org Code</th>\n      <th>Provider Org Name</th>\n      <th>0</th>\n      <th>1</th>\n      <th>2</th>\n      <th>3</th>\n      <th>4</th>\n      <th>...</th>\n      <th>96</th>\n      <th>97</th>\n      <th>98</th>\n      <th>99</th>\n      <th>100</th>\n      <th>101</th>\n      <th>102</th>\n      <th>103</th>\n      <th>104</th>\n      <th>Total</th>\n    </tr>\n  </thead>\n  <tbody>\n    <tr>\n      <th>0</th>\n      <td>0</td>\n      <td>JANUARY-2021</td>\n      <td>WEST YORKSHIRE AND HARROGATE HEALTH &amp; CARE PAR...</td>\n      <td>RCF</td>\n      <td>AIREDALE NHS FOUNDATION TRUST</td>\n      <td>1082.0</td>\n      <td>1028.0</td>\n      <td>669.0</td>\n      <td>724.0</td>\n      <td>381.0</td>\n      <td>...</td>\n      <td>NaN</td>\n      <td>NaN</td>\n      <td>NaN</td>\n      <td>NaN</td>\n      <td>NaN</td>\n      <td>NaN</td>\n      <td>NaN</td>\n      <td>NaN</td>\n      <td>NaN</td>\n      <td>13274.0</td>\n    </tr>\n    <tr>\n      <th>1</th>\n      <td>1</td>\n      <td>JANUARY-2021</td>\n      <td>CHESHIRE AND MERSEYSIDE STP</td>\n      <td>RBS</td>\n      <td>ALDER HEY CHILDREN'S NHS FOUNDATION TRUST</td>\n      <td>487.0</td>\n      <td>376.0</td>\n      <td>347.0</td>\n      <td>483.0</td>\n      <td>314.0</td>\n      <td>...</td>\n      <td>NaN</td>\n      <td>NaN</td>\n      <td>NaN</td>\n      <td>NaN</td>\n      <td>NaN</td>\n      <td>NaN</td>\n      <td>NaN</td>\n      <td>NaN</td>\n      <td>NaN</td>\n      <td>13600.0</td>\n    </tr>\n    <tr>\n      <th>2</th>\n      <td>2</td>\n      <td>JANUARY-2021</td>\n      <td>CAMBRIDGESHIRE AND PETERBOROUGH STP</td>\n      <td>NX5</td>\n      <td>ANGLIA COMMUNITY EYE SERVICE LTD</td>\n      <td>26.0</td>\n      <td>104.0</td>\n      <td>138.0</td>\n      <td>173.0</td>\n      <td>66.0</td>\n      <td>...</td>\n      <td>NaN</td>\n      <td>NaN</td>\n      <td>NaN</td>\n      <td>NaN</td>\n      <td>NaN</td>\n      <td>NaN</td>\n      <td>NaN</td>\n      <td>NaN</td>\n      <td>NaN</td>\n      <td>1579.0</td>\n    </tr>\n    <tr>\n      <th>3</th>\n      <td>3</td>\n      <td>JANUARY-2021</td>\n      <td>SURREY HEARTLANDS HEALTH &amp; CARE PARTNERSHIP (STP)</td>\n      <td>RTK</td>\n      <td>ASHFORD AND ST PETER'S HOSPITALS NHS FOUNDATIO...</td>\n      <td>1932.0</td>\n      <td>2368.0</td>\n      <td>2365.0</td>\n      <td>2388.0</td>\n      <td>1478.0</td>\n      <td>...</td>\n      <td>NaN</td>\n      <td>NaN</td>\n      <td>NaN</td>\n      <td>NaN</td>\n      <td>NaN</td>\n      <td>NaN</td>\n      <td>NaN</td>\n      <td>NaN</td>\n      <td>NaN</td>\n      <td>37077.0</td>\n    </tr>\n    <tr>\n      <th>4</th>\n      <td>4</td>\n      <td>JANUARY-2021</td>\n      <td>SURREY HEARTLANDS HEALTH &amp; CARE PARTNERSHIP (STP)</td>\n      <td>NVC01</td>\n      <td>ASHTEAD HOSPITAL</td>\n      <td>45.0</td>\n      <td>47.0</td>\n      <td>50.0</td>\n      <td>75.0</td>\n      <td>28.0</td>\n      <td>...</td>\n      <td>NaN</td>\n      <td>NaN</td>\n      <td>NaN</td>\n      <td>NaN</td>\n      <td>NaN</td>\n      <td>NaN</td>\n      <td>NaN</td>\n      <td>NaN</td>\n      <td>NaN</td>\n      <td>1072.0</td>\n    </tr>\n    <tr>\n      <th>...</th>\n      <td>...</td>\n      <td>...</td>\n      <td>...</td>\n      <td>...</td>\n      <td>...</td>\n      <td>...</td>\n      <td>...</td>\n      <td>...</td>\n      <td>...</td>\n      <td>...</td>\n      <td>...</td>\n      <td>...</td>\n      <td>...</td>\n      <td>...</td>\n      <td>...</td>\n      <td>...</td>\n      <td>...</td>\n      <td>...</td>\n      <td>...</td>\n      <td>...</td>\n      <td>...</td>\n    </tr>\n    <tr>\n      <th>11809</th>\n      <td>446</td>\n      <td>MARCH-2023</td>\n      <td>NHS HEREFORDSHIRE AND WORCESTERSHIRE INTEGRATE...</td>\n      <td>RWP</td>\n      <td>WORCESTERSHIRE ACUTE HOSPITALS NHS TRUST</td>\n      <td>4292.0</td>\n      <td>3703.0</td>\n      <td>2887.0</td>\n      <td>2814.0</td>\n      <td>2800.0</td>\n      <td>...</td>\n      <td>0.034851</td>\n      <td>0.029230</td>\n      <td>0.033727</td>\n      <td>0.019112</td>\n      <td>0.014615</td>\n      <td>0.006745</td>\n      <td>0.010118</td>\n      <td>0.008994</td>\n      <td>0.013491</td>\n      <td>88949.0</td>\n    </tr>\n    <tr>\n      <th>11810</th>\n      <td>447</td>\n      <td>MARCH-2023</td>\n      <td>NHS GREATER MANCHESTER INTEGRATED CARE BOARD</td>\n      <td>RRF</td>\n      <td>WRIGHTINGTON, WIGAN AND LEIGH NHS FOUNDATION T...</td>\n      <td>3537.0</td>\n      <td>3835.0</td>\n      <td>2717.0</td>\n      <td>2687.0</td>\n      <td>2566.0</td>\n      <td>...</td>\n      <td>0.005983</td>\n      <td>0.000000</td>\n      <td>0.001496</td>\n      <td>0.002992</td>\n      <td>0.002992</td>\n      <td>0.002992</td>\n      <td>0.000000</td>\n      <td>0.000000</td>\n      <td>0.010471</td>\n      <td>66852.0</td>\n    </tr>\n    <tr>\n      <th>11811</th>\n      <td>448</td>\n      <td>MARCH-2023</td>\n      <td>NHS HEREFORDSHIRE AND WORCESTERSHIRE INTEGRATE...</td>\n      <td>RLQ</td>\n      <td>WYE VALLEY NHS TRUST</td>\n      <td>2090.0</td>\n      <td>1759.0</td>\n      <td>1556.0</td>\n      <td>1455.0</td>\n      <td>1286.0</td>\n      <td>...</td>\n      <td>0.000000</td>\n      <td>0.000000</td>\n      <td>0.002756</td>\n      <td>0.005511</td>\n      <td>0.000000</td>\n      <td>0.000000</td>\n      <td>0.000000</td>\n      <td>0.000000</td>\n      <td>0.005511</td>\n      <td>36288.0</td>\n    </tr>\n    <tr>\n      <th>11812</th>\n      <td>449</td>\n      <td>MARCH-2023</td>\n      <td>NHS SOMERSET INTEGRATED CARE BOARD</td>\n      <td>RA4</td>\n      <td>YEOVIL DISTRICT HOSPITAL NHS FOUNDATION TRUST</td>\n      <td>1783.0</td>\n      <td>1190.0</td>\n      <td>1075.0</td>\n      <td>898.0</td>\n      <td>919.0</td>\n      <td>...</td>\n      <td>0.004544</td>\n      <td>0.000000</td>\n      <td>0.009088</td>\n      <td>0.004544</td>\n      <td>0.000000</td>\n      <td>0.004544</td>\n      <td>0.004544</td>\n      <td>0.004544</td>\n      <td>0.013631</td>\n      <td>22008.0</td>\n    </tr>\n    <tr>\n      <th>11813</th>\n      <td>450</td>\n      <td>MARCH-2023</td>\n      <td>NHS HUMBER AND NORTH YORKSHIRE INTEGRATED CARE...</td>\n      <td>RCB</td>\n      <td>YORK AND SCARBOROUGH TEACHING HOSPITALS NHS FO...</td>\n      <td>3942.0</td>\n      <td>3087.0</td>\n      <td>2372.0</td>\n      <td>1915.0</td>\n      <td>2003.0</td>\n      <td>...</td>\n      <td>0.016145</td>\n      <td>0.022015</td>\n      <td>0.014677</td>\n      <td>0.011742</td>\n      <td>0.017612</td>\n      <td>0.016145</td>\n      <td>0.014677</td>\n      <td>0.007338</td>\n      <td>0.004403</td>\n      <td>68134.0</td>\n    </tr>\n  </tbody>\n</table>\n<p>11814 rows × 111 columns</p>\n</div>"
     },
     "execution_count": 9,
     "metadata": {},
     "output_type": "execute_result"
    }
   ],
   "source": [
    "percentage = df.columns[14:-1]\n",
    "percentage_new = df\n",
    "percentage_new[percentage] = df[percentage].div(df.Total, axis=0)*100\n",
    "percentage_new\n",
    "#percentage_new.loc[percentage_new[\"Provider Org Name\"]== \"ANGLIA COMMUNITY EYE SERVICE LTD\"]"
   ]
  },
  {
   "cell_type": "code",
   "execution_count": 10,
   "metadata": {
    "collapsed": false,
    "ExecuteTime": {
     "end_time": "2023-07-19T10:26:05.010825500Z",
     "start_time": "2023-07-19T10:26:04.997760600Z"
    }
   },
   "outputs": [
    {
     "data": {
      "text/plain": "2                       ANGLIA COMMUNITY EYE SERVICE LTD\n181                                  NEWMEDICA - SWINDON\n360               SURREY AND SUSSEX HEALTHCARE NHS TRUST\n539    ESSEX PARTNERSHIP UNIVERSITY NHS FOUNDATION TRUST\n584                                                  NaN\nName: Hospital, dtype: object"
     },
     "execution_count": 10,
     "metadata": {},
     "output_type": "execute_result"
    }
   ],
   "source": [
    "map.loc[map.Region==\"Darlington\"].Hospital"
   ]
  },
  {
   "cell_type": "code",
   "execution_count": 27,
   "metadata": {
    "collapsed": false,
    "ExecuteTime": {
     "end_time": "2023-07-19T12:19:03.149753500Z",
     "start_time": "2023-07-19T12:19:02.995613500Z"
    }
   },
   "outputs": [],
   "source": [
    "from matplotlib import pyplot\n",
    "\n",
    "city = 'Darlington'\n",
    "location = \"BMI - THE BEARDWOOD HOSPITAL\"\n",
    "# Filter the provider DataFrame based on the specified city using loc\n",
    "result_df:pd.DataFrame = percentage_new.loc[df['Provider Org Name'].isin(map.loc[map.Region==city].Hospital)].T#.iloc[14:-1]\n",
    "result_df.columns = result_df.iloc[0]\n",
    "result_df:pd.DataFrame = result_df.iloc[1:].T\n",
    "result_df = result_df.head(10).T.iloc[4:-1]\n",
    "result_df=result_df.groupby(result_df.columns, axis=1).mean()\n",
    "result_df=result_df.cumsum()\n",
    "#result_df[result_df[\"Apr-21\"]==df[\"Apr-21\"].quantile(interpolation='nearest')]"
   ]
  },
  {
   "cell_type": "code",
   "execution_count": 28,
   "metadata": {
    "collapsed": false,
    "ExecuteTime": {
     "end_time": "2023-07-19T12:19:05.160581400Z",
     "start_time": "2023-07-19T12:19:05.056486600Z"
    }
   },
   "outputs": [
    {
     "data": {
      "application/vnd.plotly.v1+json": {
       "data": [
        {
         "hovertemplate": "Unnamed: 0=2<br>index=%{x}<br>value=%{y}<extra></extra>",
         "legendgroup": "2",
         "line": {
          "color": "#636efa",
          "dash": "solid"
         },
         "marker": {
          "symbol": "circle"
         },
         "mode": "lines",
         "name": "2",
         "orientation": "v",
         "showlegend": true,
         "x": [
          "0",
          "1",
          "2",
          "3",
          "4",
          "5",
          "6",
          "7",
          "8",
          "9",
          "10",
          "11",
          "12",
          "13",
          "14",
          "15",
          "16",
          "17",
          "18",
          "19",
          "20",
          "21",
          "22",
          "23",
          "24",
          "25",
          "26",
          "27",
          "28",
          "29",
          "30",
          "31",
          "32",
          "33",
          "34",
          "35",
          "36",
          "37",
          "38",
          "39",
          "40",
          "41",
          "42",
          "43",
          "44",
          "45",
          "46",
          "47",
          "48",
          "49",
          "50",
          "51",
          "52",
          "53",
          "54",
          "55",
          "56",
          "57",
          "58",
          "59",
          "60",
          "61",
          "62",
          "63",
          "64",
          "65",
          "66",
          "67",
          "68",
          "69",
          "70",
          "71",
          "72",
          "73",
          "74",
          "75",
          "76",
          "77",
          "78",
          "79",
          "80",
          "81",
          "82",
          "83",
          "84",
          "85",
          "86",
          "87",
          "88",
          "89",
          "90",
          "91",
          "92",
          "93",
          "94",
          "95",
          "96",
          "97",
          "98",
          "99",
          "100",
          "101",
          "102",
          "103",
          "104"
         ],
         "xaxis": "x",
         "y": [
          62.25,
          217.0,
          384.25,
          571.0,
          696.25,
          801.5,
          915.25,
          1028.5,
          1115.25,
          1120.1145568567392,
          1125.2762367392068,
          1130.472225436251,
          1133.5217943220593,
          1135.4988825340595,
          1136.7201620941646,
          1137.4448279177298,
          1138.2014618143473,
          1138.6065808989174,
          1138.9314717357017,
          1139.7043051624785,
          1140.1674619026116,
          1140.804535020992,
          1141.3621074449131,
          1141.947833643957,
          1142.26051571018,
          1142.587640125989,
          1143.0054164587161,
          1143.4052386058336,
          1143.6679337627286,
          1143.9929877175464,
          1144.0859720688427,
          1144.2852375360774,
          1144.3771747697974,
          1144.4688909066354,
          1144.5150397438726,
          1144.6673370249935,
          1144.714492103302,
          1144.7298013500872,
          1144.7298013500872,
          1144.7298013500872,
          1144.7298013500872,
          1144.7298013500872,
          1144.7772997668067,
          1144.8401074303113,
          1144.8401074303113,
          1144.9351042637502,
          1145.014268291616,
          1145.0301010971891,
          1145.0929087606937,
          1145.1082180074789,
          1145.1694549946192,
          1145.3256888151982,
          1146.3535909680836,
          1146.3535909680836,
          1146.3535909680836,
          1146.3535909680836,
          1146.3535909680836,
          1146.3535909680836,
          1146.4142705797342,
          1146.5356298030351,
          1146.5356298030351,
          1146.5963094146857,
          1146.5963094146857,
          1146.5963094146857,
          1146.5963094146857,
          1146.5963094146857,
          1146.6569890263363,
          1146.6569890263363,
          1146.6569890263363,
          1146.6569890263363,
          1146.6569890263363,
          1146.6569890263363,
          1146.6569890263363,
          1146.6569890263363,
          1146.6569890263363,
          1146.6569890263363,
          1146.6569890263363,
          1146.6569890263363,
          1146.6569890263363,
          1146.6569890263363,
          1146.6569890263363,
          1146.6569890263363,
          1146.6569890263363,
          1146.6569890263363,
          1146.6569890263363,
          1146.6569890263363,
          1146.6569890263363,
          1146.6569890263363,
          1146.6569890263363,
          1146.6569890263363,
          1146.6569890263363,
          1146.6569890263363,
          1146.6569890263363,
          1146.6569890263363,
          1146.6569890263363,
          1146.6569890263363,
          1146.6569890263363,
          1146.6569890263363,
          1146.6569890263363,
          1146.6569890263363,
          1146.6569890263363,
          1146.6569890263363,
          1146.6569890263363,
          1146.6569890263363,
          1146.6569890263363
         ],
         "yaxis": "y",
         "type": "scatter"
        },
        {
         "hovertemplate": "Unnamed: 0=179<br>index=%{x}<br>value=%{y}<extra></extra>",
         "legendgroup": "179",
         "line": {
          "color": "#EF553B",
          "dash": "solid"
         },
         "marker": {
          "symbol": "circle"
         },
         "mode": "lines",
         "name": "179",
         "orientation": "v",
         "showlegend": true,
         "x": [
          "0",
          "1",
          "2",
          "3",
          "4",
          "5",
          "6",
          "7",
          "8",
          "9",
          "10",
          "11",
          "12",
          "13",
          "14",
          "15",
          "16",
          "17",
          "18",
          "19",
          "20",
          "21",
          "22",
          "23",
          "24",
          "25",
          "26",
          "27",
          "28",
          "29",
          "30",
          "31",
          "32",
          "33",
          "34",
          "35",
          "36",
          "37",
          "38",
          "39",
          "40",
          "41",
          "42",
          "43",
          "44",
          "45",
          "46",
          "47",
          "48",
          "49",
          "50",
          "51",
          "52",
          "53",
          "54",
          "55",
          "56",
          "57",
          "58",
          "59",
          "60",
          "61",
          "62",
          "63",
          "64",
          "65",
          "66",
          "67",
          "68",
          "69",
          "70",
          "71",
          "72",
          "73",
          "74",
          "75",
          "76",
          "77",
          "78",
          "79",
          "80",
          "81",
          "82",
          "83",
          "84",
          "85",
          "86",
          "87",
          "88",
          "89",
          "90",
          "91",
          "92",
          "93",
          "94",
          "95",
          "96",
          "97",
          "98",
          "99",
          "100",
          "101",
          "102",
          "103",
          "104"
         ],
         "xaxis": "x",
         "y": [
          7.0,
          30.0,
          50.0,
          69.0,
          85.0,
          104.0,
          116.0,
          126.0,
          135.0,
          138.59281437125748,
          140.9880239520958,
          142.78443113772454,
          145.17964071856287,
          145.17964071856287,
          146.377245508982,
          148.77245508982034,
          149.9700598802395,
          150.56886227544908,
          151.76646706586823,
          152.36526946107782,
          152.36526946107782,
          152.9640718562874,
          152.9640718562874,
          152.9640718562874,
          152.9640718562874,
          152.9640718562874,
          152.9640718562874,
          152.9640718562874,
          152.9640718562874,
          152.9640718562874,
          152.9640718562874,
          152.9640718562874,
          152.9640718562874,
          152.9640718562874,
          152.9640718562874,
          152.9640718562874,
          153.562874251497,
          153.562874251497,
          153.562874251497,
          153.562874251497,
          153.562874251497,
          153.562874251497,
          153.562874251497,
          153.562874251497,
          153.562874251497,
          153.562874251497,
          153.562874251497,
          153.562874251497,
          153.562874251497,
          153.562874251497,
          153.562874251497,
          153.562874251497,
          154.16167664670658,
          null,
          null,
          null,
          null,
          null,
          null,
          null,
          null,
          null,
          null,
          null,
          null,
          null,
          null,
          null,
          null,
          null,
          null,
          null,
          null,
          null,
          null,
          null,
          null,
          null,
          null,
          null,
          null,
          null,
          null,
          null,
          null,
          null,
          null,
          null,
          null,
          null,
          null,
          null,
          null,
          null,
          null,
          null,
          null,
          null,
          null,
          null,
          null,
          null,
          null,
          null,
          null
         ],
         "yaxis": "y",
         "type": "scatter"
        },
        {
         "hovertemplate": "Unnamed: 0=180<br>index=%{x}<br>value=%{y}<extra></extra>",
         "legendgroup": "180",
         "line": {
          "color": "#00cc96",
          "dash": "solid"
         },
         "marker": {
          "symbol": "circle"
         },
         "mode": "lines",
         "name": "180",
         "orientation": "v",
         "showlegend": true,
         "x": [
          "0",
          "1",
          "2",
          "3",
          "4",
          "5",
          "6",
          "7",
          "8",
          "9",
          "10",
          "11",
          "12",
          "13",
          "14",
          "15",
          "16",
          "17",
          "18",
          "19",
          "20",
          "21",
          "22",
          "23",
          "24",
          "25",
          "26",
          "27",
          "28",
          "29",
          "30",
          "31",
          "32",
          "33",
          "34",
          "35",
          "36",
          "37",
          "38",
          "39",
          "40",
          "41",
          "42",
          "43",
          "44",
          "45",
          "46",
          "47",
          "48",
          "49",
          "50",
          "51",
          "52",
          "53",
          "54",
          "55",
          "56",
          "57",
          "58",
          "59",
          "60",
          "61",
          "62",
          "63",
          "64",
          "65",
          "66",
          "67",
          "68",
          "69",
          "70",
          "71",
          "72",
          "73",
          "74",
          "75",
          "76",
          "77",
          "78",
          "79",
          "80",
          "81",
          "82",
          "83",
          "84",
          "85",
          "86",
          "87",
          "88",
          "89",
          "90",
          "91",
          "92",
          "93",
          "94",
          "95",
          "96",
          "97",
          "98",
          "99",
          "100",
          "101",
          "102",
          "103",
          "104"
         ],
         "xaxis": "x",
         "y": [
          12.0,
          26.0,
          44.0,
          68.0,
          95.0,
          109.0,
          115.0,
          120.0,
          124.0,
          126.73972602739725,
          127.42465753424656,
          130.84931506849313,
          132.90410958904107,
          133.5890410958904,
          134.958904109589,
          135.64383561643834,
          137.01369863013696,
          137.01369863013696,
          137.01369863013696,
          137.01369863013696,
          137.01369863013696,
          137.69863013698628,
          137.69863013698628,
          137.69863013698628,
          137.69863013698628,
          137.69863013698628,
          137.69863013698628,
          137.69863013698628,
          137.69863013698628,
          137.69863013698628,
          137.69863013698628,
          137.69863013698628,
          138.3835616438356,
          138.3835616438356,
          138.3835616438356,
          138.3835616438356,
          138.3835616438356,
          138.3835616438356,
          138.3835616438356,
          138.3835616438356,
          138.3835616438356,
          138.3835616438356,
          138.3835616438356,
          138.3835616438356,
          138.3835616438356,
          138.3835616438356,
          138.3835616438356,
          138.3835616438356,
          138.3835616438356,
          138.3835616438356,
          138.3835616438356,
          138.3835616438356,
          139.06849315068493,
          null,
          null,
          null,
          null,
          null,
          null,
          null,
          null,
          null,
          null,
          null,
          null,
          null,
          null,
          null,
          null,
          null,
          null,
          null,
          null,
          null,
          null,
          null,
          null,
          null,
          null,
          null,
          null,
          null,
          null,
          null,
          null,
          null,
          null,
          null,
          null,
          null,
          null,
          null,
          null,
          null,
          null,
          null,
          null,
          null,
          null,
          null,
          null,
          null,
          null,
          null,
          null
         ],
         "yaxis": "y",
         "type": "scatter"
        },
        {
         "hovertemplate": "Unnamed: 0=181<br>index=%{x}<br>value=%{y}<extra></extra>",
         "legendgroup": "181",
         "line": {
          "color": "#ab63fa",
          "dash": "solid"
         },
         "marker": {
          "symbol": "circle"
         },
         "mode": "lines",
         "name": "181",
         "orientation": "v",
         "showlegend": true,
         "x": [
          "0",
          "1",
          "2",
          "3",
          "4",
          "5",
          "6",
          "7",
          "8",
          "9",
          "10",
          "11",
          "12",
          "13",
          "14",
          "15",
          "16",
          "17",
          "18",
          "19",
          "20",
          "21",
          "22",
          "23",
          "24",
          "25",
          "26",
          "27",
          "28",
          "29",
          "30",
          "31",
          "32",
          "33",
          "34",
          "35",
          "36",
          "37",
          "38",
          "39",
          "40",
          "41",
          "42",
          "43",
          "44",
          "45",
          "46",
          "47",
          "48",
          "49",
          "50",
          "51",
          "52",
          "53",
          "54",
          "55",
          "56",
          "57",
          "58",
          "59",
          "60",
          "61",
          "62",
          "63",
          "64",
          "65",
          "66",
          "67",
          "68",
          "69",
          "70",
          "71",
          "72",
          "73",
          "74",
          "75",
          "76",
          "77",
          "78",
          "79",
          "80",
          "81",
          "82",
          "83",
          "84",
          "85",
          "86",
          "87",
          "88",
          "89",
          "90",
          "91",
          "92",
          "93",
          "94",
          "95",
          "96",
          "97",
          "98",
          "99",
          "100",
          "101",
          "102",
          "103",
          "104"
         ],
         "xaxis": "x",
         "y": [
          19.0,
          41.0,
          82.0,
          99.0,
          106.0,
          133.0,
          151.0,
          164.0,
          168.0,
          168.0,
          171.2967032967033,
          171.2967032967033,
          171.2967032967033,
          171.2967032967033,
          171.2967032967033,
          171.84615384615384,
          171.84615384615384,
          171.84615384615384,
          171.84615384615384,
          171.84615384615384,
          172.39560439560438,
          172.39560439560438,
          172.94505494505492,
          172.94505494505492,
          172.94505494505492,
          173.49450549450546,
          174.043956043956,
          174.043956043956,
          175.1428571428571,
          175.1428571428571,
          175.1428571428571,
          175.1428571428571,
          175.1428571428571,
          175.1428571428571,
          175.1428571428571,
          175.1428571428571,
          175.1428571428571,
          175.1428571428571,
          175.1428571428571,
          175.1428571428571,
          175.1428571428571,
          175.1428571428571,
          175.1428571428571,
          175.1428571428571,
          175.1428571428571,
          175.1428571428571,
          175.1428571428571,
          175.1428571428571,
          175.69230769230765,
          175.69230769230765,
          175.69230769230765,
          175.69230769230765,
          175.69230769230765,
          null,
          null,
          null,
          null,
          null,
          null,
          null,
          null,
          null,
          null,
          null,
          null,
          null,
          null,
          null,
          null,
          null,
          null,
          null,
          null,
          null,
          null,
          null,
          null,
          null,
          null,
          null,
          null,
          null,
          null,
          null,
          null,
          null,
          null,
          null,
          null,
          null,
          null,
          null,
          null,
          null,
          null,
          null,
          null,
          null,
          null,
          null,
          null,
          null,
          null,
          null,
          null
         ],
         "yaxis": "y",
         "type": "scatter"
        },
        {
         "hovertemplate": "Unnamed: 0=357<br>index=%{x}<br>value=%{y}<extra></extra>",
         "legendgroup": "357",
         "line": {
          "color": "#FFA15A",
          "dash": "solid"
         },
         "marker": {
          "symbol": "circle"
         },
         "mode": "lines",
         "name": "357",
         "orientation": "v",
         "showlegend": true,
         "x": [
          "0",
          "1",
          "2",
          "3",
          "4",
          "5",
          "6",
          "7",
          "8",
          "9",
          "10",
          "11",
          "12",
          "13",
          "14",
          "15",
          "16",
          "17",
          "18",
          "19",
          "20",
          "21",
          "22",
          "23",
          "24",
          "25",
          "26",
          "27",
          "28",
          "29",
          "30",
          "31",
          "32",
          "33",
          "34",
          "35",
          "36",
          "37",
          "38",
          "39",
          "40",
          "41",
          "42",
          "43",
          "44",
          "45",
          "46",
          "47",
          "48",
          "49",
          "50",
          "51",
          "52",
          "53",
          "54",
          "55",
          "56",
          "57",
          "58",
          "59",
          "60",
          "61",
          "62",
          "63",
          "64",
          "65",
          "66",
          "67",
          "68",
          "69",
          "70",
          "71",
          "72",
          "73",
          "74",
          "75",
          "76",
          "77",
          "78",
          "79",
          "80",
          "81",
          "82",
          "83",
          "84",
          "85",
          "86",
          "87",
          "88",
          "89",
          "90",
          "91",
          "92",
          "93",
          "94",
          "95",
          "96",
          "97",
          "98",
          "99",
          "100",
          "101",
          "102",
          "103",
          "104"
         ],
         "xaxis": "x",
         "y": [
          4274.0,
          6577.0,
          8657.0,
          10561.0,
          12151.0,
          13536.0,
          14728.0,
          15771.0,
          16435.0,
          16437.542089419112,
          16440.558033225556,
          16443.585126546997,
          16446.503512097224,
          16449.23235589252,
          16451.958412309064,
          16454.37506968447,
          16456.655145501172,
          16458.787490244176,
          16460.69126992976,
          16462.78180399153,
          16464.744118630842,
          16466.427695395254,
          16467.885494480994,
          16469.463150852942,
          16470.787155758728,
          16471.916044152083,
          16473.15364031665,
          16474.232355892524,
          16475.26647340841,
          16476.12219868436,
          16477.050395807786,
          16477.822499721267,
          16478.544430817266,
          16479.230125989525,
          16479.776452224334,
          16480.21685806668,
          16480.632177500283,
          16480.966662950166,
          16481.306723157548,
          16481.58546103245,
          16481.839112498612,
          16482.034229011042,
          16482.15408629725,
          16482.32690377969,
          16482.471847474637,
          16482.5833426246,
          16482.74779797079,
          16482.973575649463,
          16483.310848478093,
          16483.85438733415,
          16484.5679562939,
          16485.239714572414,
          16489.18943025978,
          null,
          null,
          null,
          null,
          null,
          null,
          null,
          null,
          null,
          null,
          null,
          null,
          null,
          null,
          null,
          null,
          null,
          null,
          null,
          null,
          null,
          null,
          null,
          null,
          null,
          null,
          null,
          null,
          null,
          null,
          null,
          null,
          null,
          null,
          null,
          null,
          null,
          null,
          null,
          null,
          null,
          null,
          null,
          null,
          null,
          null,
          null,
          null,
          null,
          null,
          null,
          null
         ],
         "yaxis": "y",
         "type": "scatter"
        },
        {
         "hovertemplate": "Unnamed: 0=360<br>index=%{x}<br>value=%{y}<extra></extra>",
         "legendgroup": "360",
         "line": {
          "color": "#19d3f3",
          "dash": "solid"
         },
         "marker": {
          "symbol": "circle"
         },
         "mode": "lines",
         "name": "360",
         "orientation": "v",
         "showlegend": true,
         "x": [
          "0",
          "1",
          "2",
          "3",
          "4",
          "5",
          "6",
          "7",
          "8",
          "9",
          "10",
          "11",
          "12",
          "13",
          "14",
          "15",
          "16",
          "17",
          "18",
          "19",
          "20",
          "21",
          "22",
          "23",
          "24",
          "25",
          "26",
          "27",
          "28",
          "29",
          "30",
          "31",
          "32",
          "33",
          "34",
          "35",
          "36",
          "37",
          "38",
          "39",
          "40",
          "41",
          "42",
          "43",
          "44",
          "45",
          "46",
          "47",
          "48",
          "49",
          "50",
          "51",
          "52",
          "53",
          "54",
          "55",
          "56",
          "57",
          "58",
          "59",
          "60",
          "61",
          "62",
          "63",
          "64",
          "65",
          "66",
          "67",
          "68",
          "69",
          "70",
          "71",
          "72",
          "73",
          "74",
          "75",
          "76",
          "77",
          "78",
          "79",
          "80",
          "81",
          "82",
          "83",
          "84",
          "85",
          "86",
          "87",
          "88",
          "89",
          "90",
          "91",
          "92",
          "93",
          "94",
          "95",
          "96",
          "97",
          "98",
          "99",
          "100",
          "101",
          "102",
          "103",
          "104"
         ],
         "xaxis": "x",
         "y": [
          3850.0,
          6017.0,
          7789.0,
          9383.0,
          10444.0,
          11858.0,
          13489.0,
          14949.0,
          16281.0,
          16284.502153655583,
          16287.911404521268,
          16290.870217617747,
          16293.803693589707,
          16296.582331578502,
          16299.183609695672,
          16301.686354550828,
          16304.115903268488,
          16306.111905633286,
          16307.86016722502,
          16309.760451563863,
          16311.238450494073,
          16312.499676247853,
          16313.943892345373,
          16315.2417161679,
          16316.52546381014,
          16317.654373469215,
          16318.77202218406,
          16319.681343430646,
          16320.58221896906,
          16321.423974550265,
          16322.189718757918,
          16322.77247262183,
          16323.35522648574,
          16323.814109963121,
          16324.242025843867,
          16324.577038934714,
          16324.88108442893,
          16325.13164043805,
          16325.311815545734,
          16325.542664902452,
          16325.703133357732,
          16325.88893893753,
          16326.088820697616,
          16326.297148165875,
          16326.756031643255,
          16327.547112975426,
          16328.484586582588,
          16329.405168773405,
          16330.142760620482,
          16330.849384870926,
          16331.550378649254,
          16332.116241096819,
          16335.165141747138,
          null,
          null,
          null,
          null,
          null,
          null,
          null,
          null,
          null,
          null,
          null,
          null,
          null,
          null,
          null,
          null,
          null,
          null,
          null,
          null,
          null,
          null,
          null,
          null,
          null,
          null,
          null,
          null,
          null,
          null,
          null,
          null,
          null,
          null,
          null,
          null,
          null,
          null,
          null,
          null,
          null,
          null,
          null,
          null,
          null,
          null,
          null,
          null,
          null,
          null,
          null,
          null
         ],
         "yaxis": "y",
         "type": "scatter"
        },
        {
         "hovertemplate": "Unnamed: 0=361<br>index=%{x}<br>value=%{y}<extra></extra>",
         "legendgroup": "361",
         "line": {
          "color": "#FF6692",
          "dash": "solid"
         },
         "marker": {
          "symbol": "circle"
         },
         "mode": "lines",
         "name": "361",
         "orientation": "v",
         "showlegend": true,
         "x": [
          "0",
          "1",
          "2",
          "3",
          "4",
          "5",
          "6",
          "7",
          "8",
          "9",
          "10",
          "11",
          "12",
          "13",
          "14",
          "15",
          "16",
          "17",
          "18",
          "19",
          "20",
          "21",
          "22",
          "23",
          "24",
          "25",
          "26",
          "27",
          "28",
          "29",
          "30",
          "31",
          "32",
          "33",
          "34",
          "35",
          "36",
          "37",
          "38",
          "39",
          "40",
          "41",
          "42",
          "43",
          "44",
          "45",
          "46",
          "47",
          "48",
          "49",
          "50",
          "51",
          "52",
          "53",
          "54",
          "55",
          "56",
          "57",
          "58",
          "59",
          "60",
          "61",
          "62",
          "63",
          "64",
          "65",
          "66",
          "67",
          "68",
          "69",
          "70",
          "71",
          "72",
          "73",
          "74",
          "75",
          "76",
          "77",
          "78",
          "79",
          "80",
          "81",
          "82",
          "83",
          "84",
          "85",
          "86",
          "87",
          "88",
          "89",
          "90",
          "91",
          "92",
          "93",
          "94",
          "95",
          "96",
          "97",
          "98",
          "99",
          "100",
          "101",
          "102",
          "103",
          "104"
         ],
         "xaxis": "x",
         "y": [
          4828.0,
          7814.0,
          10378.0,
          12506.0,
          14384.0,
          15947.0,
          17296.0,
          18631.0,
          19794.0,
          19796.582585697248,
          19799.10812632889,
          19801.211014883575,
          19802.78494010268,
          19804.154021677125,
          19806.430638386144,
          19808.70984805269,
          19810.833480267596,
          19813.226780065346,
          19815.010734844167,
          19816.947674117102,
          19818.757558471196,
          19820.52854846238,
          19822.1232173417,
          19823.549343981747,
          19825.06881709278,
          19826.474200072607,
          19827.682518280355,
          19828.86490691283,
          19830.08100399316,
          19830.980760255152,
          19831.839029196708,
          19832.671368562987,
          19833.43629103356,
          19834.105274075617,
          19834.73017683971,
          19835.357672561327,
          19835.88663589691,
          19836.31965980398,
          19836.716382305665,
          19837.019758336366,
          19837.32054140954,
          19837.561686459583,
          19837.78208784941,
          19837.99730332418,
          19838.132137115605,
          19838.269563864553,
          19838.37068920812,
          19838.482186381796,
          19838.601462428054,
          19838.69221594151,
          19838.832235647988,
          19839.01633563243,
          19842.67499870353,
          null,
          null,
          null,
          null,
          null,
          null,
          null,
          null,
          null,
          null,
          null,
          null,
          null,
          null,
          null,
          null,
          null,
          null,
          null,
          null,
          null,
          null,
          null,
          null,
          null,
          null,
          null,
          null,
          null,
          null,
          null,
          null,
          null,
          null,
          null,
          null,
          null,
          null,
          null,
          null,
          null,
          null,
          null,
          null,
          null,
          null,
          null,
          null,
          null,
          null,
          null,
          null
         ],
         "yaxis": "y",
         "type": "scatter"
        }
       ],
       "layout": {
        "template": {
         "data": {
          "histogram2dcontour": [
           {
            "type": "histogram2dcontour",
            "colorbar": {
             "outlinewidth": 0,
             "ticks": ""
            },
            "colorscale": [
             [
              0.0,
              "#0d0887"
             ],
             [
              0.1111111111111111,
              "#46039f"
             ],
             [
              0.2222222222222222,
              "#7201a8"
             ],
             [
              0.3333333333333333,
              "#9c179e"
             ],
             [
              0.4444444444444444,
              "#bd3786"
             ],
             [
              0.5555555555555556,
              "#d8576b"
             ],
             [
              0.6666666666666666,
              "#ed7953"
             ],
             [
              0.7777777777777778,
              "#fb9f3a"
             ],
             [
              0.8888888888888888,
              "#fdca26"
             ],
             [
              1.0,
              "#f0f921"
             ]
            ]
           }
          ],
          "choropleth": [
           {
            "type": "choropleth",
            "colorbar": {
             "outlinewidth": 0,
             "ticks": ""
            }
           }
          ],
          "histogram2d": [
           {
            "type": "histogram2d",
            "colorbar": {
             "outlinewidth": 0,
             "ticks": ""
            },
            "colorscale": [
             [
              0.0,
              "#0d0887"
             ],
             [
              0.1111111111111111,
              "#46039f"
             ],
             [
              0.2222222222222222,
              "#7201a8"
             ],
             [
              0.3333333333333333,
              "#9c179e"
             ],
             [
              0.4444444444444444,
              "#bd3786"
             ],
             [
              0.5555555555555556,
              "#d8576b"
             ],
             [
              0.6666666666666666,
              "#ed7953"
             ],
             [
              0.7777777777777778,
              "#fb9f3a"
             ],
             [
              0.8888888888888888,
              "#fdca26"
             ],
             [
              1.0,
              "#f0f921"
             ]
            ]
           }
          ],
          "heatmap": [
           {
            "type": "heatmap",
            "colorbar": {
             "outlinewidth": 0,
             "ticks": ""
            },
            "colorscale": [
             [
              0.0,
              "#0d0887"
             ],
             [
              0.1111111111111111,
              "#46039f"
             ],
             [
              0.2222222222222222,
              "#7201a8"
             ],
             [
              0.3333333333333333,
              "#9c179e"
             ],
             [
              0.4444444444444444,
              "#bd3786"
             ],
             [
              0.5555555555555556,
              "#d8576b"
             ],
             [
              0.6666666666666666,
              "#ed7953"
             ],
             [
              0.7777777777777778,
              "#fb9f3a"
             ],
             [
              0.8888888888888888,
              "#fdca26"
             ],
             [
              1.0,
              "#f0f921"
             ]
            ]
           }
          ],
          "heatmapgl": [
           {
            "type": "heatmapgl",
            "colorbar": {
             "outlinewidth": 0,
             "ticks": ""
            },
            "colorscale": [
             [
              0.0,
              "#0d0887"
             ],
             [
              0.1111111111111111,
              "#46039f"
             ],
             [
              0.2222222222222222,
              "#7201a8"
             ],
             [
              0.3333333333333333,
              "#9c179e"
             ],
             [
              0.4444444444444444,
              "#bd3786"
             ],
             [
              0.5555555555555556,
              "#d8576b"
             ],
             [
              0.6666666666666666,
              "#ed7953"
             ],
             [
              0.7777777777777778,
              "#fb9f3a"
             ],
             [
              0.8888888888888888,
              "#fdca26"
             ],
             [
              1.0,
              "#f0f921"
             ]
            ]
           }
          ],
          "contourcarpet": [
           {
            "type": "contourcarpet",
            "colorbar": {
             "outlinewidth": 0,
             "ticks": ""
            }
           }
          ],
          "contour": [
           {
            "type": "contour",
            "colorbar": {
             "outlinewidth": 0,
             "ticks": ""
            },
            "colorscale": [
             [
              0.0,
              "#0d0887"
             ],
             [
              0.1111111111111111,
              "#46039f"
             ],
             [
              0.2222222222222222,
              "#7201a8"
             ],
             [
              0.3333333333333333,
              "#9c179e"
             ],
             [
              0.4444444444444444,
              "#bd3786"
             ],
             [
              0.5555555555555556,
              "#d8576b"
             ],
             [
              0.6666666666666666,
              "#ed7953"
             ],
             [
              0.7777777777777778,
              "#fb9f3a"
             ],
             [
              0.8888888888888888,
              "#fdca26"
             ],
             [
              1.0,
              "#f0f921"
             ]
            ]
           }
          ],
          "surface": [
           {
            "type": "surface",
            "colorbar": {
             "outlinewidth": 0,
             "ticks": ""
            },
            "colorscale": [
             [
              0.0,
              "#0d0887"
             ],
             [
              0.1111111111111111,
              "#46039f"
             ],
             [
              0.2222222222222222,
              "#7201a8"
             ],
             [
              0.3333333333333333,
              "#9c179e"
             ],
             [
              0.4444444444444444,
              "#bd3786"
             ],
             [
              0.5555555555555556,
              "#d8576b"
             ],
             [
              0.6666666666666666,
              "#ed7953"
             ],
             [
              0.7777777777777778,
              "#fb9f3a"
             ],
             [
              0.8888888888888888,
              "#fdca26"
             ],
             [
              1.0,
              "#f0f921"
             ]
            ]
           }
          ],
          "mesh3d": [
           {
            "type": "mesh3d",
            "colorbar": {
             "outlinewidth": 0,
             "ticks": ""
            }
           }
          ],
          "scatter": [
           {
            "marker": {
             "line": {
              "color": "#283442"
             }
            },
            "type": "scatter"
           }
          ],
          "parcoords": [
           {
            "type": "parcoords",
            "line": {
             "colorbar": {
              "outlinewidth": 0,
              "ticks": ""
             }
            }
           }
          ],
          "scatterpolargl": [
           {
            "type": "scatterpolargl",
            "marker": {
             "colorbar": {
              "outlinewidth": 0,
              "ticks": ""
             }
            }
           }
          ],
          "bar": [
           {
            "error_x": {
             "color": "#f2f5fa"
            },
            "error_y": {
             "color": "#f2f5fa"
            },
            "marker": {
             "line": {
              "color": "rgb(17,17,17)",
              "width": 0.5
             },
             "pattern": {
              "fillmode": "overlay",
              "size": 10,
              "solidity": 0.2
             }
            },
            "type": "bar"
           }
          ],
          "scattergeo": [
           {
            "type": "scattergeo",
            "marker": {
             "colorbar": {
              "outlinewidth": 0,
              "ticks": ""
             }
            }
           }
          ],
          "scatterpolar": [
           {
            "type": "scatterpolar",
            "marker": {
             "colorbar": {
              "outlinewidth": 0,
              "ticks": ""
             }
            }
           }
          ],
          "histogram": [
           {
            "marker": {
             "pattern": {
              "fillmode": "overlay",
              "size": 10,
              "solidity": 0.2
             }
            },
            "type": "histogram"
           }
          ],
          "scattergl": [
           {
            "marker": {
             "line": {
              "color": "#283442"
             }
            },
            "type": "scattergl"
           }
          ],
          "scatter3d": [
           {
            "type": "scatter3d",
            "line": {
             "colorbar": {
              "outlinewidth": 0,
              "ticks": ""
             }
            },
            "marker": {
             "colorbar": {
              "outlinewidth": 0,
              "ticks": ""
             }
            }
           }
          ],
          "scattermapbox": [
           {
            "type": "scattermapbox",
            "marker": {
             "colorbar": {
              "outlinewidth": 0,
              "ticks": ""
             }
            }
           }
          ],
          "scatterternary": [
           {
            "type": "scatterternary",
            "marker": {
             "colorbar": {
              "outlinewidth": 0,
              "ticks": ""
             }
            }
           }
          ],
          "scattercarpet": [
           {
            "type": "scattercarpet",
            "marker": {
             "colorbar": {
              "outlinewidth": 0,
              "ticks": ""
             }
            }
           }
          ],
          "carpet": [
           {
            "aaxis": {
             "endlinecolor": "#A2B1C6",
             "gridcolor": "#506784",
             "linecolor": "#506784",
             "minorgridcolor": "#506784",
             "startlinecolor": "#A2B1C6"
            },
            "baxis": {
             "endlinecolor": "#A2B1C6",
             "gridcolor": "#506784",
             "linecolor": "#506784",
             "minorgridcolor": "#506784",
             "startlinecolor": "#A2B1C6"
            },
            "type": "carpet"
           }
          ],
          "table": [
           {
            "cells": {
             "fill": {
              "color": "#506784"
             },
             "line": {
              "color": "rgb(17,17,17)"
             }
            },
            "header": {
             "fill": {
              "color": "#2a3f5f"
             },
             "line": {
              "color": "rgb(17,17,17)"
             }
            },
            "type": "table"
           }
          ],
          "barpolar": [
           {
            "marker": {
             "line": {
              "color": "rgb(17,17,17)",
              "width": 0.5
             },
             "pattern": {
              "fillmode": "overlay",
              "size": 10,
              "solidity": 0.2
             }
            },
            "type": "barpolar"
           }
          ],
          "pie": [
           {
            "automargin": true,
            "type": "pie"
           }
          ]
         },
         "layout": {
          "autotypenumbers": "strict",
          "colorway": [
           "#636efa",
           "#EF553B",
           "#00cc96",
           "#ab63fa",
           "#FFA15A",
           "#19d3f3",
           "#FF6692",
           "#B6E880",
           "#FF97FF",
           "#FECB52"
          ],
          "font": {
           "color": "#f2f5fa"
          },
          "hovermode": "closest",
          "hoverlabel": {
           "align": "left"
          },
          "paper_bgcolor": "rgb(17,17,17)",
          "plot_bgcolor": "rgb(17,17,17)",
          "polar": {
           "bgcolor": "rgb(17,17,17)",
           "angularaxis": {
            "gridcolor": "#506784",
            "linecolor": "#506784",
            "ticks": ""
           },
           "radialaxis": {
            "gridcolor": "#506784",
            "linecolor": "#506784",
            "ticks": ""
           }
          },
          "ternary": {
           "bgcolor": "rgb(17,17,17)",
           "aaxis": {
            "gridcolor": "#506784",
            "linecolor": "#506784",
            "ticks": ""
           },
           "baxis": {
            "gridcolor": "#506784",
            "linecolor": "#506784",
            "ticks": ""
           },
           "caxis": {
            "gridcolor": "#506784",
            "linecolor": "#506784",
            "ticks": ""
           }
          },
          "coloraxis": {
           "colorbar": {
            "outlinewidth": 0,
            "ticks": ""
           }
          },
          "colorscale": {
           "sequential": [
            [
             0.0,
             "#0d0887"
            ],
            [
             0.1111111111111111,
             "#46039f"
            ],
            [
             0.2222222222222222,
             "#7201a8"
            ],
            [
             0.3333333333333333,
             "#9c179e"
            ],
            [
             0.4444444444444444,
             "#bd3786"
            ],
            [
             0.5555555555555556,
             "#d8576b"
            ],
            [
             0.6666666666666666,
             "#ed7953"
            ],
            [
             0.7777777777777778,
             "#fb9f3a"
            ],
            [
             0.8888888888888888,
             "#fdca26"
            ],
            [
             1.0,
             "#f0f921"
            ]
           ],
           "sequentialminus": [
            [
             0.0,
             "#0d0887"
            ],
            [
             0.1111111111111111,
             "#46039f"
            ],
            [
             0.2222222222222222,
             "#7201a8"
            ],
            [
             0.3333333333333333,
             "#9c179e"
            ],
            [
             0.4444444444444444,
             "#bd3786"
            ],
            [
             0.5555555555555556,
             "#d8576b"
            ],
            [
             0.6666666666666666,
             "#ed7953"
            ],
            [
             0.7777777777777778,
             "#fb9f3a"
            ],
            [
             0.8888888888888888,
             "#fdca26"
            ],
            [
             1.0,
             "#f0f921"
            ]
           ],
           "diverging": [
            [
             0,
             "#8e0152"
            ],
            [
             0.1,
             "#c51b7d"
            ],
            [
             0.2,
             "#de77ae"
            ],
            [
             0.3,
             "#f1b6da"
            ],
            [
             0.4,
             "#fde0ef"
            ],
            [
             0.5,
             "#f7f7f7"
            ],
            [
             0.6,
             "#e6f5d0"
            ],
            [
             0.7,
             "#b8e186"
            ],
            [
             0.8,
             "#7fbc41"
            ],
            [
             0.9,
             "#4d9221"
            ],
            [
             1,
             "#276419"
            ]
           ]
          },
          "xaxis": {
           "gridcolor": "#283442",
           "linecolor": "#506784",
           "ticks": "",
           "title": {
            "standoff": 15
           },
           "zerolinecolor": "#283442",
           "automargin": true,
           "zerolinewidth": 2
          },
          "yaxis": {
           "gridcolor": "#283442",
           "linecolor": "#506784",
           "ticks": "",
           "title": {
            "standoff": 15
           },
           "zerolinecolor": "#283442",
           "automargin": true,
           "zerolinewidth": 2
          },
          "scene": {
           "xaxis": {
            "backgroundcolor": "rgb(17,17,17)",
            "gridcolor": "#506784",
            "linecolor": "#506784",
            "showbackground": true,
            "ticks": "",
            "zerolinecolor": "#C8D4E3",
            "gridwidth": 2
           },
           "yaxis": {
            "backgroundcolor": "rgb(17,17,17)",
            "gridcolor": "#506784",
            "linecolor": "#506784",
            "showbackground": true,
            "ticks": "",
            "zerolinecolor": "#C8D4E3",
            "gridwidth": 2
           },
           "zaxis": {
            "backgroundcolor": "rgb(17,17,17)",
            "gridcolor": "#506784",
            "linecolor": "#506784",
            "showbackground": true,
            "ticks": "",
            "zerolinecolor": "#C8D4E3",
            "gridwidth": 2
           }
          },
          "shapedefaults": {
           "line": {
            "color": "#f2f5fa"
           }
          },
          "annotationdefaults": {
           "arrowcolor": "#f2f5fa",
           "arrowhead": 0,
           "arrowwidth": 1
          },
          "geo": {
           "bgcolor": "rgb(17,17,17)",
           "landcolor": "rgb(17,17,17)",
           "subunitcolor": "#506784",
           "showland": true,
           "showlakes": true,
           "lakecolor": "rgb(17,17,17)"
          },
          "title": {
           "x": 0.05
          },
          "updatemenudefaults": {
           "bgcolor": "#506784",
           "borderwidth": 0
          },
          "sliderdefaults": {
           "bgcolor": "#C8D4E3",
           "borderwidth": 1,
           "bordercolor": "rgb(17,17,17)",
           "tickwidth": 0
          },
          "mapbox": {
           "style": "dark"
          }
         }
        },
        "xaxis": {
         "anchor": "y",
         "domain": [
          0.0,
          1.0
         ],
         "title": {
          "text": "index"
         }
        },
        "yaxis": {
         "anchor": "x",
         "domain": [
          0.0,
          1.0
         ],
         "title": {
          "text": "value"
         }
        },
        "legend": {
         "title": {
          "text": "Unnamed: 0"
         },
         "tracegroupgap": 0
        },
        "margin": {
         "t": 60
        }
       },
       "config": {
        "plotlyServerURL": "https://plot.ly"
       }
      },
      "text/html": "<div>                            <div id=\"aa33a4c0-24dc-4b7a-9fe0-14c583badd44\" class=\"plotly-graph-div\" style=\"height:525px; width:100%;\"></div>            <script type=\"text/javascript\">                require([\"plotly\"], function(Plotly) {                    window.PLOTLYENV=window.PLOTLYENV || {};                                    if (document.getElementById(\"aa33a4c0-24dc-4b7a-9fe0-14c583badd44\")) {                    Plotly.newPlot(                        \"aa33a4c0-24dc-4b7a-9fe0-14c583badd44\",                        [{\"hovertemplate\":\"Unnamed: 0=2\\u003cbr\\u003eindex=%{x}\\u003cbr\\u003evalue=%{y}\\u003cextra\\u003e\\u003c\\u002fextra\\u003e\",\"legendgroup\":\"2\",\"line\":{\"color\":\"#636efa\",\"dash\":\"solid\"},\"marker\":{\"symbol\":\"circle\"},\"mode\":\"lines\",\"name\":\"2\",\"orientation\":\"v\",\"showlegend\":true,\"x\":[\"0\",\"1\",\"2\",\"3\",\"4\",\"5\",\"6\",\"7\",\"8\",\"9\",\"10\",\"11\",\"12\",\"13\",\"14\",\"15\",\"16\",\"17\",\"18\",\"19\",\"20\",\"21\",\"22\",\"23\",\"24\",\"25\",\"26\",\"27\",\"28\",\"29\",\"30\",\"31\",\"32\",\"33\",\"34\",\"35\",\"36\",\"37\",\"38\",\"39\",\"40\",\"41\",\"42\",\"43\",\"44\",\"45\",\"46\",\"47\",\"48\",\"49\",\"50\",\"51\",\"52\",\"53\",\"54\",\"55\",\"56\",\"57\",\"58\",\"59\",\"60\",\"61\",\"62\",\"63\",\"64\",\"65\",\"66\",\"67\",\"68\",\"69\",\"70\",\"71\",\"72\",\"73\",\"74\",\"75\",\"76\",\"77\",\"78\",\"79\",\"80\",\"81\",\"82\",\"83\",\"84\",\"85\",\"86\",\"87\",\"88\",\"89\",\"90\",\"91\",\"92\",\"93\",\"94\",\"95\",\"96\",\"97\",\"98\",\"99\",\"100\",\"101\",\"102\",\"103\",\"104\"],\"xaxis\":\"x\",\"y\":[62.25,217.0,384.25,571.0,696.25,801.5,915.25,1028.5,1115.25,1120.1145568567392,1125.2762367392068,1130.472225436251,1133.5217943220593,1135.4988825340595,1136.7201620941646,1137.4448279177298,1138.2014618143473,1138.6065808989174,1138.9314717357017,1139.7043051624785,1140.1674619026116,1140.804535020992,1141.3621074449131,1141.947833643957,1142.26051571018,1142.587640125989,1143.0054164587161,1143.4052386058336,1143.6679337627286,1143.9929877175464,1144.0859720688427,1144.2852375360774,1144.3771747697974,1144.4688909066354,1144.5150397438726,1144.6673370249935,1144.714492103302,1144.7298013500872,1144.7298013500872,1144.7298013500872,1144.7298013500872,1144.7298013500872,1144.7772997668067,1144.8401074303113,1144.8401074303113,1144.9351042637502,1145.014268291616,1145.0301010971891,1145.0929087606937,1145.1082180074789,1145.1694549946192,1145.3256888151982,1146.3535909680836,1146.3535909680836,1146.3535909680836,1146.3535909680836,1146.3535909680836,1146.3535909680836,1146.4142705797342,1146.5356298030351,1146.5356298030351,1146.5963094146857,1146.5963094146857,1146.5963094146857,1146.5963094146857,1146.5963094146857,1146.6569890263363,1146.6569890263363,1146.6569890263363,1146.6569890263363,1146.6569890263363,1146.6569890263363,1146.6569890263363,1146.6569890263363,1146.6569890263363,1146.6569890263363,1146.6569890263363,1146.6569890263363,1146.6569890263363,1146.6569890263363,1146.6569890263363,1146.6569890263363,1146.6569890263363,1146.6569890263363,1146.6569890263363,1146.6569890263363,1146.6569890263363,1146.6569890263363,1146.6569890263363,1146.6569890263363,1146.6569890263363,1146.6569890263363,1146.6569890263363,1146.6569890263363,1146.6569890263363,1146.6569890263363,1146.6569890263363,1146.6569890263363,1146.6569890263363,1146.6569890263363,1146.6569890263363,1146.6569890263363,1146.6569890263363,1146.6569890263363,1146.6569890263363],\"yaxis\":\"y\",\"type\":\"scatter\"},{\"hovertemplate\":\"Unnamed: 0=179\\u003cbr\\u003eindex=%{x}\\u003cbr\\u003evalue=%{y}\\u003cextra\\u003e\\u003c\\u002fextra\\u003e\",\"legendgroup\":\"179\",\"line\":{\"color\":\"#EF553B\",\"dash\":\"solid\"},\"marker\":{\"symbol\":\"circle\"},\"mode\":\"lines\",\"name\":\"179\",\"orientation\":\"v\",\"showlegend\":true,\"x\":[\"0\",\"1\",\"2\",\"3\",\"4\",\"5\",\"6\",\"7\",\"8\",\"9\",\"10\",\"11\",\"12\",\"13\",\"14\",\"15\",\"16\",\"17\",\"18\",\"19\",\"20\",\"21\",\"22\",\"23\",\"24\",\"25\",\"26\",\"27\",\"28\",\"29\",\"30\",\"31\",\"32\",\"33\",\"34\",\"35\",\"36\",\"37\",\"38\",\"39\",\"40\",\"41\",\"42\",\"43\",\"44\",\"45\",\"46\",\"47\",\"48\",\"49\",\"50\",\"51\",\"52\",\"53\",\"54\",\"55\",\"56\",\"57\",\"58\",\"59\",\"60\",\"61\",\"62\",\"63\",\"64\",\"65\",\"66\",\"67\",\"68\",\"69\",\"70\",\"71\",\"72\",\"73\",\"74\",\"75\",\"76\",\"77\",\"78\",\"79\",\"80\",\"81\",\"82\",\"83\",\"84\",\"85\",\"86\",\"87\",\"88\",\"89\",\"90\",\"91\",\"92\",\"93\",\"94\",\"95\",\"96\",\"97\",\"98\",\"99\",\"100\",\"101\",\"102\",\"103\",\"104\"],\"xaxis\":\"x\",\"y\":[7.0,30.0,50.0,69.0,85.0,104.0,116.0,126.0,135.0,138.59281437125748,140.9880239520958,142.78443113772454,145.17964071856287,145.17964071856287,146.377245508982,148.77245508982034,149.9700598802395,150.56886227544908,151.76646706586823,152.36526946107782,152.36526946107782,152.9640718562874,152.9640718562874,152.9640718562874,152.9640718562874,152.9640718562874,152.9640718562874,152.9640718562874,152.9640718562874,152.9640718562874,152.9640718562874,152.9640718562874,152.9640718562874,152.9640718562874,152.9640718562874,152.9640718562874,153.562874251497,153.562874251497,153.562874251497,153.562874251497,153.562874251497,153.562874251497,153.562874251497,153.562874251497,153.562874251497,153.562874251497,153.562874251497,153.562874251497,153.562874251497,153.562874251497,153.562874251497,153.562874251497,154.16167664670658,null,null,null,null,null,null,null,null,null,null,null,null,null,null,null,null,null,null,null,null,null,null,null,null,null,null,null,null,null,null,null,null,null,null,null,null,null,null,null,null,null,null,null,null,null,null,null,null,null,null,null,null],\"yaxis\":\"y\",\"type\":\"scatter\"},{\"hovertemplate\":\"Unnamed: 0=180\\u003cbr\\u003eindex=%{x}\\u003cbr\\u003evalue=%{y}\\u003cextra\\u003e\\u003c\\u002fextra\\u003e\",\"legendgroup\":\"180\",\"line\":{\"color\":\"#00cc96\",\"dash\":\"solid\"},\"marker\":{\"symbol\":\"circle\"},\"mode\":\"lines\",\"name\":\"180\",\"orientation\":\"v\",\"showlegend\":true,\"x\":[\"0\",\"1\",\"2\",\"3\",\"4\",\"5\",\"6\",\"7\",\"8\",\"9\",\"10\",\"11\",\"12\",\"13\",\"14\",\"15\",\"16\",\"17\",\"18\",\"19\",\"20\",\"21\",\"22\",\"23\",\"24\",\"25\",\"26\",\"27\",\"28\",\"29\",\"30\",\"31\",\"32\",\"33\",\"34\",\"35\",\"36\",\"37\",\"38\",\"39\",\"40\",\"41\",\"42\",\"43\",\"44\",\"45\",\"46\",\"47\",\"48\",\"49\",\"50\",\"51\",\"52\",\"53\",\"54\",\"55\",\"56\",\"57\",\"58\",\"59\",\"60\",\"61\",\"62\",\"63\",\"64\",\"65\",\"66\",\"67\",\"68\",\"69\",\"70\",\"71\",\"72\",\"73\",\"74\",\"75\",\"76\",\"77\",\"78\",\"79\",\"80\",\"81\",\"82\",\"83\",\"84\",\"85\",\"86\",\"87\",\"88\",\"89\",\"90\",\"91\",\"92\",\"93\",\"94\",\"95\",\"96\",\"97\",\"98\",\"99\",\"100\",\"101\",\"102\",\"103\",\"104\"],\"xaxis\":\"x\",\"y\":[12.0,26.0,44.0,68.0,95.0,109.0,115.0,120.0,124.0,126.73972602739725,127.42465753424656,130.84931506849313,132.90410958904107,133.5890410958904,134.958904109589,135.64383561643834,137.01369863013696,137.01369863013696,137.01369863013696,137.01369863013696,137.01369863013696,137.69863013698628,137.69863013698628,137.69863013698628,137.69863013698628,137.69863013698628,137.69863013698628,137.69863013698628,137.69863013698628,137.69863013698628,137.69863013698628,137.69863013698628,138.3835616438356,138.3835616438356,138.3835616438356,138.3835616438356,138.3835616438356,138.3835616438356,138.3835616438356,138.3835616438356,138.3835616438356,138.3835616438356,138.3835616438356,138.3835616438356,138.3835616438356,138.3835616438356,138.3835616438356,138.3835616438356,138.3835616438356,138.3835616438356,138.3835616438356,138.3835616438356,139.06849315068493,null,null,null,null,null,null,null,null,null,null,null,null,null,null,null,null,null,null,null,null,null,null,null,null,null,null,null,null,null,null,null,null,null,null,null,null,null,null,null,null,null,null,null,null,null,null,null,null,null,null,null,null],\"yaxis\":\"y\",\"type\":\"scatter\"},{\"hovertemplate\":\"Unnamed: 0=181\\u003cbr\\u003eindex=%{x}\\u003cbr\\u003evalue=%{y}\\u003cextra\\u003e\\u003c\\u002fextra\\u003e\",\"legendgroup\":\"181\",\"line\":{\"color\":\"#ab63fa\",\"dash\":\"solid\"},\"marker\":{\"symbol\":\"circle\"},\"mode\":\"lines\",\"name\":\"181\",\"orientation\":\"v\",\"showlegend\":true,\"x\":[\"0\",\"1\",\"2\",\"3\",\"4\",\"5\",\"6\",\"7\",\"8\",\"9\",\"10\",\"11\",\"12\",\"13\",\"14\",\"15\",\"16\",\"17\",\"18\",\"19\",\"20\",\"21\",\"22\",\"23\",\"24\",\"25\",\"26\",\"27\",\"28\",\"29\",\"30\",\"31\",\"32\",\"33\",\"34\",\"35\",\"36\",\"37\",\"38\",\"39\",\"40\",\"41\",\"42\",\"43\",\"44\",\"45\",\"46\",\"47\",\"48\",\"49\",\"50\",\"51\",\"52\",\"53\",\"54\",\"55\",\"56\",\"57\",\"58\",\"59\",\"60\",\"61\",\"62\",\"63\",\"64\",\"65\",\"66\",\"67\",\"68\",\"69\",\"70\",\"71\",\"72\",\"73\",\"74\",\"75\",\"76\",\"77\",\"78\",\"79\",\"80\",\"81\",\"82\",\"83\",\"84\",\"85\",\"86\",\"87\",\"88\",\"89\",\"90\",\"91\",\"92\",\"93\",\"94\",\"95\",\"96\",\"97\",\"98\",\"99\",\"100\",\"101\",\"102\",\"103\",\"104\"],\"xaxis\":\"x\",\"y\":[19.0,41.0,82.0,99.0,106.0,133.0,151.0,164.0,168.0,168.0,171.2967032967033,171.2967032967033,171.2967032967033,171.2967032967033,171.2967032967033,171.84615384615384,171.84615384615384,171.84615384615384,171.84615384615384,171.84615384615384,172.39560439560438,172.39560439560438,172.94505494505492,172.94505494505492,172.94505494505492,173.49450549450546,174.043956043956,174.043956043956,175.1428571428571,175.1428571428571,175.1428571428571,175.1428571428571,175.1428571428571,175.1428571428571,175.1428571428571,175.1428571428571,175.1428571428571,175.1428571428571,175.1428571428571,175.1428571428571,175.1428571428571,175.1428571428571,175.1428571428571,175.1428571428571,175.1428571428571,175.1428571428571,175.1428571428571,175.1428571428571,175.69230769230765,175.69230769230765,175.69230769230765,175.69230769230765,175.69230769230765,null,null,null,null,null,null,null,null,null,null,null,null,null,null,null,null,null,null,null,null,null,null,null,null,null,null,null,null,null,null,null,null,null,null,null,null,null,null,null,null,null,null,null,null,null,null,null,null,null,null,null,null],\"yaxis\":\"y\",\"type\":\"scatter\"},{\"hovertemplate\":\"Unnamed: 0=357\\u003cbr\\u003eindex=%{x}\\u003cbr\\u003evalue=%{y}\\u003cextra\\u003e\\u003c\\u002fextra\\u003e\",\"legendgroup\":\"357\",\"line\":{\"color\":\"#FFA15A\",\"dash\":\"solid\"},\"marker\":{\"symbol\":\"circle\"},\"mode\":\"lines\",\"name\":\"357\",\"orientation\":\"v\",\"showlegend\":true,\"x\":[\"0\",\"1\",\"2\",\"3\",\"4\",\"5\",\"6\",\"7\",\"8\",\"9\",\"10\",\"11\",\"12\",\"13\",\"14\",\"15\",\"16\",\"17\",\"18\",\"19\",\"20\",\"21\",\"22\",\"23\",\"24\",\"25\",\"26\",\"27\",\"28\",\"29\",\"30\",\"31\",\"32\",\"33\",\"34\",\"35\",\"36\",\"37\",\"38\",\"39\",\"40\",\"41\",\"42\",\"43\",\"44\",\"45\",\"46\",\"47\",\"48\",\"49\",\"50\",\"51\",\"52\",\"53\",\"54\",\"55\",\"56\",\"57\",\"58\",\"59\",\"60\",\"61\",\"62\",\"63\",\"64\",\"65\",\"66\",\"67\",\"68\",\"69\",\"70\",\"71\",\"72\",\"73\",\"74\",\"75\",\"76\",\"77\",\"78\",\"79\",\"80\",\"81\",\"82\",\"83\",\"84\",\"85\",\"86\",\"87\",\"88\",\"89\",\"90\",\"91\",\"92\",\"93\",\"94\",\"95\",\"96\",\"97\",\"98\",\"99\",\"100\",\"101\",\"102\",\"103\",\"104\"],\"xaxis\":\"x\",\"y\":[4274.0,6577.0,8657.0,10561.0,12151.0,13536.0,14728.0,15771.0,16435.0,16437.542089419112,16440.558033225556,16443.585126546997,16446.503512097224,16449.23235589252,16451.958412309064,16454.37506968447,16456.655145501172,16458.787490244176,16460.69126992976,16462.78180399153,16464.744118630842,16466.427695395254,16467.885494480994,16469.463150852942,16470.787155758728,16471.916044152083,16473.15364031665,16474.232355892524,16475.26647340841,16476.12219868436,16477.050395807786,16477.822499721267,16478.544430817266,16479.230125989525,16479.776452224334,16480.21685806668,16480.632177500283,16480.966662950166,16481.306723157548,16481.58546103245,16481.839112498612,16482.034229011042,16482.15408629725,16482.32690377969,16482.471847474637,16482.5833426246,16482.74779797079,16482.973575649463,16483.310848478093,16483.85438733415,16484.5679562939,16485.239714572414,16489.18943025978,null,null,null,null,null,null,null,null,null,null,null,null,null,null,null,null,null,null,null,null,null,null,null,null,null,null,null,null,null,null,null,null,null,null,null,null,null,null,null,null,null,null,null,null,null,null,null,null,null,null,null,null],\"yaxis\":\"y\",\"type\":\"scatter\"},{\"hovertemplate\":\"Unnamed: 0=360\\u003cbr\\u003eindex=%{x}\\u003cbr\\u003evalue=%{y}\\u003cextra\\u003e\\u003c\\u002fextra\\u003e\",\"legendgroup\":\"360\",\"line\":{\"color\":\"#19d3f3\",\"dash\":\"solid\"},\"marker\":{\"symbol\":\"circle\"},\"mode\":\"lines\",\"name\":\"360\",\"orientation\":\"v\",\"showlegend\":true,\"x\":[\"0\",\"1\",\"2\",\"3\",\"4\",\"5\",\"6\",\"7\",\"8\",\"9\",\"10\",\"11\",\"12\",\"13\",\"14\",\"15\",\"16\",\"17\",\"18\",\"19\",\"20\",\"21\",\"22\",\"23\",\"24\",\"25\",\"26\",\"27\",\"28\",\"29\",\"30\",\"31\",\"32\",\"33\",\"34\",\"35\",\"36\",\"37\",\"38\",\"39\",\"40\",\"41\",\"42\",\"43\",\"44\",\"45\",\"46\",\"47\",\"48\",\"49\",\"50\",\"51\",\"52\",\"53\",\"54\",\"55\",\"56\",\"57\",\"58\",\"59\",\"60\",\"61\",\"62\",\"63\",\"64\",\"65\",\"66\",\"67\",\"68\",\"69\",\"70\",\"71\",\"72\",\"73\",\"74\",\"75\",\"76\",\"77\",\"78\",\"79\",\"80\",\"81\",\"82\",\"83\",\"84\",\"85\",\"86\",\"87\",\"88\",\"89\",\"90\",\"91\",\"92\",\"93\",\"94\",\"95\",\"96\",\"97\",\"98\",\"99\",\"100\",\"101\",\"102\",\"103\",\"104\"],\"xaxis\":\"x\",\"y\":[3850.0,6017.0,7789.0,9383.0,10444.0,11858.0,13489.0,14949.0,16281.0,16284.502153655583,16287.911404521268,16290.870217617747,16293.803693589707,16296.582331578502,16299.183609695672,16301.686354550828,16304.115903268488,16306.111905633286,16307.86016722502,16309.760451563863,16311.238450494073,16312.499676247853,16313.943892345373,16315.2417161679,16316.52546381014,16317.654373469215,16318.77202218406,16319.681343430646,16320.58221896906,16321.423974550265,16322.189718757918,16322.77247262183,16323.35522648574,16323.814109963121,16324.242025843867,16324.577038934714,16324.88108442893,16325.13164043805,16325.311815545734,16325.542664902452,16325.703133357732,16325.88893893753,16326.088820697616,16326.297148165875,16326.756031643255,16327.547112975426,16328.484586582588,16329.405168773405,16330.142760620482,16330.849384870926,16331.550378649254,16332.116241096819,16335.165141747138,null,null,null,null,null,null,null,null,null,null,null,null,null,null,null,null,null,null,null,null,null,null,null,null,null,null,null,null,null,null,null,null,null,null,null,null,null,null,null,null,null,null,null,null,null,null,null,null,null,null,null,null],\"yaxis\":\"y\",\"type\":\"scatter\"},{\"hovertemplate\":\"Unnamed: 0=361\\u003cbr\\u003eindex=%{x}\\u003cbr\\u003evalue=%{y}\\u003cextra\\u003e\\u003c\\u002fextra\\u003e\",\"legendgroup\":\"361\",\"line\":{\"color\":\"#FF6692\",\"dash\":\"solid\"},\"marker\":{\"symbol\":\"circle\"},\"mode\":\"lines\",\"name\":\"361\",\"orientation\":\"v\",\"showlegend\":true,\"x\":[\"0\",\"1\",\"2\",\"3\",\"4\",\"5\",\"6\",\"7\",\"8\",\"9\",\"10\",\"11\",\"12\",\"13\",\"14\",\"15\",\"16\",\"17\",\"18\",\"19\",\"20\",\"21\",\"22\",\"23\",\"24\",\"25\",\"26\",\"27\",\"28\",\"29\",\"30\",\"31\",\"32\",\"33\",\"34\",\"35\",\"36\",\"37\",\"38\",\"39\",\"40\",\"41\",\"42\",\"43\",\"44\",\"45\",\"46\",\"47\",\"48\",\"49\",\"50\",\"51\",\"52\",\"53\",\"54\",\"55\",\"56\",\"57\",\"58\",\"59\",\"60\",\"61\",\"62\",\"63\",\"64\",\"65\",\"66\",\"67\",\"68\",\"69\",\"70\",\"71\",\"72\",\"73\",\"74\",\"75\",\"76\",\"77\",\"78\",\"79\",\"80\",\"81\",\"82\",\"83\",\"84\",\"85\",\"86\",\"87\",\"88\",\"89\",\"90\",\"91\",\"92\",\"93\",\"94\",\"95\",\"96\",\"97\",\"98\",\"99\",\"100\",\"101\",\"102\",\"103\",\"104\"],\"xaxis\":\"x\",\"y\":[4828.0,7814.0,10378.0,12506.0,14384.0,15947.0,17296.0,18631.0,19794.0,19796.582585697248,19799.10812632889,19801.211014883575,19802.78494010268,19804.154021677125,19806.430638386144,19808.70984805269,19810.833480267596,19813.226780065346,19815.010734844167,19816.947674117102,19818.757558471196,19820.52854846238,19822.1232173417,19823.549343981747,19825.06881709278,19826.474200072607,19827.682518280355,19828.86490691283,19830.08100399316,19830.980760255152,19831.839029196708,19832.671368562987,19833.43629103356,19834.105274075617,19834.73017683971,19835.357672561327,19835.88663589691,19836.31965980398,19836.716382305665,19837.019758336366,19837.32054140954,19837.561686459583,19837.78208784941,19837.99730332418,19838.132137115605,19838.269563864553,19838.37068920812,19838.482186381796,19838.601462428054,19838.69221594151,19838.832235647988,19839.01633563243,19842.67499870353,null,null,null,null,null,null,null,null,null,null,null,null,null,null,null,null,null,null,null,null,null,null,null,null,null,null,null,null,null,null,null,null,null,null,null,null,null,null,null,null,null,null,null,null,null,null,null,null,null,null,null,null],\"yaxis\":\"y\",\"type\":\"scatter\"}],                        {\"template\":{\"data\":{\"histogram2dcontour\":[{\"type\":\"histogram2dcontour\",\"colorbar\":{\"outlinewidth\":0,\"ticks\":\"\"},\"colorscale\":[[0.0,\"#0d0887\"],[0.1111111111111111,\"#46039f\"],[0.2222222222222222,\"#7201a8\"],[0.3333333333333333,\"#9c179e\"],[0.4444444444444444,\"#bd3786\"],[0.5555555555555556,\"#d8576b\"],[0.6666666666666666,\"#ed7953\"],[0.7777777777777778,\"#fb9f3a\"],[0.8888888888888888,\"#fdca26\"],[1.0,\"#f0f921\"]]}],\"choropleth\":[{\"type\":\"choropleth\",\"colorbar\":{\"outlinewidth\":0,\"ticks\":\"\"}}],\"histogram2d\":[{\"type\":\"histogram2d\",\"colorbar\":{\"outlinewidth\":0,\"ticks\":\"\"},\"colorscale\":[[0.0,\"#0d0887\"],[0.1111111111111111,\"#46039f\"],[0.2222222222222222,\"#7201a8\"],[0.3333333333333333,\"#9c179e\"],[0.4444444444444444,\"#bd3786\"],[0.5555555555555556,\"#d8576b\"],[0.6666666666666666,\"#ed7953\"],[0.7777777777777778,\"#fb9f3a\"],[0.8888888888888888,\"#fdca26\"],[1.0,\"#f0f921\"]]}],\"heatmap\":[{\"type\":\"heatmap\",\"colorbar\":{\"outlinewidth\":0,\"ticks\":\"\"},\"colorscale\":[[0.0,\"#0d0887\"],[0.1111111111111111,\"#46039f\"],[0.2222222222222222,\"#7201a8\"],[0.3333333333333333,\"#9c179e\"],[0.4444444444444444,\"#bd3786\"],[0.5555555555555556,\"#d8576b\"],[0.6666666666666666,\"#ed7953\"],[0.7777777777777778,\"#fb9f3a\"],[0.8888888888888888,\"#fdca26\"],[1.0,\"#f0f921\"]]}],\"heatmapgl\":[{\"type\":\"heatmapgl\",\"colorbar\":{\"outlinewidth\":0,\"ticks\":\"\"},\"colorscale\":[[0.0,\"#0d0887\"],[0.1111111111111111,\"#46039f\"],[0.2222222222222222,\"#7201a8\"],[0.3333333333333333,\"#9c179e\"],[0.4444444444444444,\"#bd3786\"],[0.5555555555555556,\"#d8576b\"],[0.6666666666666666,\"#ed7953\"],[0.7777777777777778,\"#fb9f3a\"],[0.8888888888888888,\"#fdca26\"],[1.0,\"#f0f921\"]]}],\"contourcarpet\":[{\"type\":\"contourcarpet\",\"colorbar\":{\"outlinewidth\":0,\"ticks\":\"\"}}],\"contour\":[{\"type\":\"contour\",\"colorbar\":{\"outlinewidth\":0,\"ticks\":\"\"},\"colorscale\":[[0.0,\"#0d0887\"],[0.1111111111111111,\"#46039f\"],[0.2222222222222222,\"#7201a8\"],[0.3333333333333333,\"#9c179e\"],[0.4444444444444444,\"#bd3786\"],[0.5555555555555556,\"#d8576b\"],[0.6666666666666666,\"#ed7953\"],[0.7777777777777778,\"#fb9f3a\"],[0.8888888888888888,\"#fdca26\"],[1.0,\"#f0f921\"]]}],\"surface\":[{\"type\":\"surface\",\"colorbar\":{\"outlinewidth\":0,\"ticks\":\"\"},\"colorscale\":[[0.0,\"#0d0887\"],[0.1111111111111111,\"#46039f\"],[0.2222222222222222,\"#7201a8\"],[0.3333333333333333,\"#9c179e\"],[0.4444444444444444,\"#bd3786\"],[0.5555555555555556,\"#d8576b\"],[0.6666666666666666,\"#ed7953\"],[0.7777777777777778,\"#fb9f3a\"],[0.8888888888888888,\"#fdca26\"],[1.0,\"#f0f921\"]]}],\"mesh3d\":[{\"type\":\"mesh3d\",\"colorbar\":{\"outlinewidth\":0,\"ticks\":\"\"}}],\"scatter\":[{\"marker\":{\"line\":{\"color\":\"#283442\"}},\"type\":\"scatter\"}],\"parcoords\":[{\"type\":\"parcoords\",\"line\":{\"colorbar\":{\"outlinewidth\":0,\"ticks\":\"\"}}}],\"scatterpolargl\":[{\"type\":\"scatterpolargl\",\"marker\":{\"colorbar\":{\"outlinewidth\":0,\"ticks\":\"\"}}}],\"bar\":[{\"error_x\":{\"color\":\"#f2f5fa\"},\"error_y\":{\"color\":\"#f2f5fa\"},\"marker\":{\"line\":{\"color\":\"rgb(17,17,17)\",\"width\":0.5},\"pattern\":{\"fillmode\":\"overlay\",\"size\":10,\"solidity\":0.2}},\"type\":\"bar\"}],\"scattergeo\":[{\"type\":\"scattergeo\",\"marker\":{\"colorbar\":{\"outlinewidth\":0,\"ticks\":\"\"}}}],\"scatterpolar\":[{\"type\":\"scatterpolar\",\"marker\":{\"colorbar\":{\"outlinewidth\":0,\"ticks\":\"\"}}}],\"histogram\":[{\"marker\":{\"pattern\":{\"fillmode\":\"overlay\",\"size\":10,\"solidity\":0.2}},\"type\":\"histogram\"}],\"scattergl\":[{\"marker\":{\"line\":{\"color\":\"#283442\"}},\"type\":\"scattergl\"}],\"scatter3d\":[{\"type\":\"scatter3d\",\"line\":{\"colorbar\":{\"outlinewidth\":0,\"ticks\":\"\"}},\"marker\":{\"colorbar\":{\"outlinewidth\":0,\"ticks\":\"\"}}}],\"scattermapbox\":[{\"type\":\"scattermapbox\",\"marker\":{\"colorbar\":{\"outlinewidth\":0,\"ticks\":\"\"}}}],\"scatterternary\":[{\"type\":\"scatterternary\",\"marker\":{\"colorbar\":{\"outlinewidth\":0,\"ticks\":\"\"}}}],\"scattercarpet\":[{\"type\":\"scattercarpet\",\"marker\":{\"colorbar\":{\"outlinewidth\":0,\"ticks\":\"\"}}}],\"carpet\":[{\"aaxis\":{\"endlinecolor\":\"#A2B1C6\",\"gridcolor\":\"#506784\",\"linecolor\":\"#506784\",\"minorgridcolor\":\"#506784\",\"startlinecolor\":\"#A2B1C6\"},\"baxis\":{\"endlinecolor\":\"#A2B1C6\",\"gridcolor\":\"#506784\",\"linecolor\":\"#506784\",\"minorgridcolor\":\"#506784\",\"startlinecolor\":\"#A2B1C6\"},\"type\":\"carpet\"}],\"table\":[{\"cells\":{\"fill\":{\"color\":\"#506784\"},\"line\":{\"color\":\"rgb(17,17,17)\"}},\"header\":{\"fill\":{\"color\":\"#2a3f5f\"},\"line\":{\"color\":\"rgb(17,17,17)\"}},\"type\":\"table\"}],\"barpolar\":[{\"marker\":{\"line\":{\"color\":\"rgb(17,17,17)\",\"width\":0.5},\"pattern\":{\"fillmode\":\"overlay\",\"size\":10,\"solidity\":0.2}},\"type\":\"barpolar\"}],\"pie\":[{\"automargin\":true,\"type\":\"pie\"}]},\"layout\":{\"autotypenumbers\":\"strict\",\"colorway\":[\"#636efa\",\"#EF553B\",\"#00cc96\",\"#ab63fa\",\"#FFA15A\",\"#19d3f3\",\"#FF6692\",\"#B6E880\",\"#FF97FF\",\"#FECB52\"],\"font\":{\"color\":\"#f2f5fa\"},\"hovermode\":\"closest\",\"hoverlabel\":{\"align\":\"left\"},\"paper_bgcolor\":\"rgb(17,17,17)\",\"plot_bgcolor\":\"rgb(17,17,17)\",\"polar\":{\"bgcolor\":\"rgb(17,17,17)\",\"angularaxis\":{\"gridcolor\":\"#506784\",\"linecolor\":\"#506784\",\"ticks\":\"\"},\"radialaxis\":{\"gridcolor\":\"#506784\",\"linecolor\":\"#506784\",\"ticks\":\"\"}},\"ternary\":{\"bgcolor\":\"rgb(17,17,17)\",\"aaxis\":{\"gridcolor\":\"#506784\",\"linecolor\":\"#506784\",\"ticks\":\"\"},\"baxis\":{\"gridcolor\":\"#506784\",\"linecolor\":\"#506784\",\"ticks\":\"\"},\"caxis\":{\"gridcolor\":\"#506784\",\"linecolor\":\"#506784\",\"ticks\":\"\"}},\"coloraxis\":{\"colorbar\":{\"outlinewidth\":0,\"ticks\":\"\"}},\"colorscale\":{\"sequential\":[[0.0,\"#0d0887\"],[0.1111111111111111,\"#46039f\"],[0.2222222222222222,\"#7201a8\"],[0.3333333333333333,\"#9c179e\"],[0.4444444444444444,\"#bd3786\"],[0.5555555555555556,\"#d8576b\"],[0.6666666666666666,\"#ed7953\"],[0.7777777777777778,\"#fb9f3a\"],[0.8888888888888888,\"#fdca26\"],[1.0,\"#f0f921\"]],\"sequentialminus\":[[0.0,\"#0d0887\"],[0.1111111111111111,\"#46039f\"],[0.2222222222222222,\"#7201a8\"],[0.3333333333333333,\"#9c179e\"],[0.4444444444444444,\"#bd3786\"],[0.5555555555555556,\"#d8576b\"],[0.6666666666666666,\"#ed7953\"],[0.7777777777777778,\"#fb9f3a\"],[0.8888888888888888,\"#fdca26\"],[1.0,\"#f0f921\"]],\"diverging\":[[0,\"#8e0152\"],[0.1,\"#c51b7d\"],[0.2,\"#de77ae\"],[0.3,\"#f1b6da\"],[0.4,\"#fde0ef\"],[0.5,\"#f7f7f7\"],[0.6,\"#e6f5d0\"],[0.7,\"#b8e186\"],[0.8,\"#7fbc41\"],[0.9,\"#4d9221\"],[1,\"#276419\"]]},\"xaxis\":{\"gridcolor\":\"#283442\",\"linecolor\":\"#506784\",\"ticks\":\"\",\"title\":{\"standoff\":15},\"zerolinecolor\":\"#283442\",\"automargin\":true,\"zerolinewidth\":2},\"yaxis\":{\"gridcolor\":\"#283442\",\"linecolor\":\"#506784\",\"ticks\":\"\",\"title\":{\"standoff\":15},\"zerolinecolor\":\"#283442\",\"automargin\":true,\"zerolinewidth\":2},\"scene\":{\"xaxis\":{\"backgroundcolor\":\"rgb(17,17,17)\",\"gridcolor\":\"#506784\",\"linecolor\":\"#506784\",\"showbackground\":true,\"ticks\":\"\",\"zerolinecolor\":\"#C8D4E3\",\"gridwidth\":2},\"yaxis\":{\"backgroundcolor\":\"rgb(17,17,17)\",\"gridcolor\":\"#506784\",\"linecolor\":\"#506784\",\"showbackground\":true,\"ticks\":\"\",\"zerolinecolor\":\"#C8D4E3\",\"gridwidth\":2},\"zaxis\":{\"backgroundcolor\":\"rgb(17,17,17)\",\"gridcolor\":\"#506784\",\"linecolor\":\"#506784\",\"showbackground\":true,\"ticks\":\"\",\"zerolinecolor\":\"#C8D4E3\",\"gridwidth\":2}},\"shapedefaults\":{\"line\":{\"color\":\"#f2f5fa\"}},\"annotationdefaults\":{\"arrowcolor\":\"#f2f5fa\",\"arrowhead\":0,\"arrowwidth\":1},\"geo\":{\"bgcolor\":\"rgb(17,17,17)\",\"landcolor\":\"rgb(17,17,17)\",\"subunitcolor\":\"#506784\",\"showland\":true,\"showlakes\":true,\"lakecolor\":\"rgb(17,17,17)\"},\"title\":{\"x\":0.05},\"updatemenudefaults\":{\"bgcolor\":\"#506784\",\"borderwidth\":0},\"sliderdefaults\":{\"bgcolor\":\"#C8D4E3\",\"borderwidth\":1,\"bordercolor\":\"rgb(17,17,17)\",\"tickwidth\":0},\"mapbox\":{\"style\":\"dark\"}}},\"xaxis\":{\"anchor\":\"y\",\"domain\":[0.0,1.0],\"title\":{\"text\":\"index\"}},\"yaxis\":{\"anchor\":\"x\",\"domain\":[0.0,1.0],\"title\":{\"text\":\"value\"}},\"legend\":{\"title\":{\"text\":\"Unnamed: 0\"},\"tracegroupgap\":0},\"margin\":{\"t\":60}},                        {\"responsive\": true}                    ).then(function(){\n                            \nvar gd = document.getElementById('aa33a4c0-24dc-4b7a-9fe0-14c583badd44');\nvar x = new MutationObserver(function (mutations, observer) {{\n        var display = window.getComputedStyle(gd).display;\n        if (!display || display === 'none') {{\n            console.log([gd, 'removed!']);\n            Plotly.purge(gd);\n            observer.disconnect();\n        }}\n}});\n\n// Listen for the removal of the full notebook cells\nvar notebookContainer = gd.closest('#notebook-container');\nif (notebookContainer) {{\n    x.observe(notebookContainer, {childList: true});\n}}\n\n// Listen for the clearing of the current output cell\nvar outputEl = gd.closest('.output');\nif (outputEl) {{\n    x.observe(outputEl, {childList: true});\n}}\n\n                        })                };                });            </script>        </div>"
     },
     "metadata": {},
     "output_type": "display_data"
    }
   ],
   "source": [
    "plotly.plot(result_df,kind=\"line\")"
   ]
  },
  {
   "cell_type": "code",
   "execution_count": null,
   "metadata": {},
   "outputs": [],
   "source": [
    "#result_df[result_df[\"Apr-21\"] > 50].head(1).index"
   ]
  },
  {
   "cell_type": "code",
   "execution_count": 25,
   "metadata": {
    "collapsed": false,
    "ExecuteTime": {
     "end_time": "2023-07-19T10:30:55.403325800Z",
     "start_time": "2023-07-19T10:30:55.356212200Z"
    }
   },
   "outputs": [
    {
     "data": {
      "text/plain": "Unnamed: 0     29     29     29     30     28     29     29     29     29  \\\n0           168.0  225.0  268.0  313.0  279.0  190.0  243.0  184.0  274.0   \n1           167.0  235.0  318.0  345.0  292.0  225.0  156.0  180.0  214.0   \n2           181.0  176.0  232.0  293.0  297.0  236.0  159.0  172.0  133.0   \n3           138.0  148.0  262.0  126.0  207.0  248.0  184.0  180.0  143.0   \n4            71.0  146.0  173.0  201.0  251.0  200.0  179.0  204.0  145.0   \n..            ...    ...    ...    ...    ...    ...    ...    ...    ...   \n100           NaN    NaN    NaN    0.0    0.0    0.0    0.0    0.0    0.0   \n101           NaN    NaN    NaN    0.0    0.0    0.0    0.0    0.0    0.0   \n102           NaN    NaN    NaN    0.0    0.0    0.0    0.0    0.0    0.0   \n103           NaN    NaN    NaN    0.0    0.0    0.0    0.0    0.0    0.0   \n104           NaN    NaN    NaN    0.0    0.0    0.0    0.0    0.0    0.0   \n\nUnnamed: 0     29     29     29        29  \n0           148.0  182.0   99.0     226.0  \n1           218.0  140.0  158.0     172.0  \n2           194.0  162.0  174.0     152.0  \n3           166.0  171.0  129.0     117.0  \n4           169.0  147.0  155.0      68.0  \n..            ...    ...    ...       ...  \n100           0.0    0.0    0.0       0.0  \n101           0.0    0.0    0.0       0.0  \n102           0.0    0.0    0.0       0.0  \n103           0.0    0.0    0.0  0.022763  \n104           0.0    0.0    0.0       0.0  \n\n[105 rows x 13 columns]",
      "text/html": "<div>\n<style scoped>\n    .dataframe tbody tr th:only-of-type {\n        vertical-align: middle;\n    }\n\n    .dataframe tbody tr th {\n        vertical-align: top;\n    }\n\n    .dataframe thead th {\n        text-align: right;\n    }\n</style>\n<table border=\"1\" class=\"dataframe\">\n  <thead>\n    <tr style=\"text-align: right;\">\n      <th>Unnamed: 0</th>\n      <th>29</th>\n      <th>29</th>\n      <th>29</th>\n      <th>30</th>\n      <th>28</th>\n      <th>29</th>\n      <th>29</th>\n      <th>29</th>\n      <th>29</th>\n      <th>29</th>\n      <th>29</th>\n      <th>29</th>\n      <th>29</th>\n    </tr>\n  </thead>\n  <tbody>\n    <tr>\n      <th>0</th>\n      <td>168.0</td>\n      <td>225.0</td>\n      <td>268.0</td>\n      <td>313.0</td>\n      <td>279.0</td>\n      <td>190.0</td>\n      <td>243.0</td>\n      <td>184.0</td>\n      <td>274.0</td>\n      <td>148.0</td>\n      <td>182.0</td>\n      <td>99.0</td>\n      <td>226.0</td>\n    </tr>\n    <tr>\n      <th>1</th>\n      <td>167.0</td>\n      <td>235.0</td>\n      <td>318.0</td>\n      <td>345.0</td>\n      <td>292.0</td>\n      <td>225.0</td>\n      <td>156.0</td>\n      <td>180.0</td>\n      <td>214.0</td>\n      <td>218.0</td>\n      <td>140.0</td>\n      <td>158.0</td>\n      <td>172.0</td>\n    </tr>\n    <tr>\n      <th>2</th>\n      <td>181.0</td>\n      <td>176.0</td>\n      <td>232.0</td>\n      <td>293.0</td>\n      <td>297.0</td>\n      <td>236.0</td>\n      <td>159.0</td>\n      <td>172.0</td>\n      <td>133.0</td>\n      <td>194.0</td>\n      <td>162.0</td>\n      <td>174.0</td>\n      <td>152.0</td>\n    </tr>\n    <tr>\n      <th>3</th>\n      <td>138.0</td>\n      <td>148.0</td>\n      <td>262.0</td>\n      <td>126.0</td>\n      <td>207.0</td>\n      <td>248.0</td>\n      <td>184.0</td>\n      <td>180.0</td>\n      <td>143.0</td>\n      <td>166.0</td>\n      <td>171.0</td>\n      <td>129.0</td>\n      <td>117.0</td>\n    </tr>\n    <tr>\n      <th>4</th>\n      <td>71.0</td>\n      <td>146.0</td>\n      <td>173.0</td>\n      <td>201.0</td>\n      <td>251.0</td>\n      <td>200.0</td>\n      <td>179.0</td>\n      <td>204.0</td>\n      <td>145.0</td>\n      <td>169.0</td>\n      <td>147.0</td>\n      <td>155.0</td>\n      <td>68.0</td>\n    </tr>\n    <tr>\n      <th>...</th>\n      <td>...</td>\n      <td>...</td>\n      <td>...</td>\n      <td>...</td>\n      <td>...</td>\n      <td>...</td>\n      <td>...</td>\n      <td>...</td>\n      <td>...</td>\n      <td>...</td>\n      <td>...</td>\n      <td>...</td>\n      <td>...</td>\n    </tr>\n    <tr>\n      <th>100</th>\n      <td>NaN</td>\n      <td>NaN</td>\n      <td>NaN</td>\n      <td>0.0</td>\n      <td>0.0</td>\n      <td>0.0</td>\n      <td>0.0</td>\n      <td>0.0</td>\n      <td>0.0</td>\n      <td>0.0</td>\n      <td>0.0</td>\n      <td>0.0</td>\n      <td>0.0</td>\n    </tr>\n    <tr>\n      <th>101</th>\n      <td>NaN</td>\n      <td>NaN</td>\n      <td>NaN</td>\n      <td>0.0</td>\n      <td>0.0</td>\n      <td>0.0</td>\n      <td>0.0</td>\n      <td>0.0</td>\n      <td>0.0</td>\n      <td>0.0</td>\n      <td>0.0</td>\n      <td>0.0</td>\n      <td>0.0</td>\n    </tr>\n    <tr>\n      <th>102</th>\n      <td>NaN</td>\n      <td>NaN</td>\n      <td>NaN</td>\n      <td>0.0</td>\n      <td>0.0</td>\n      <td>0.0</td>\n      <td>0.0</td>\n      <td>0.0</td>\n      <td>0.0</td>\n      <td>0.0</td>\n      <td>0.0</td>\n      <td>0.0</td>\n      <td>0.0</td>\n    </tr>\n    <tr>\n      <th>103</th>\n      <td>NaN</td>\n      <td>NaN</td>\n      <td>NaN</td>\n      <td>0.0</td>\n      <td>0.0</td>\n      <td>0.0</td>\n      <td>0.0</td>\n      <td>0.0</td>\n      <td>0.0</td>\n      <td>0.0</td>\n      <td>0.0</td>\n      <td>0.0</td>\n      <td>0.022763</td>\n    </tr>\n    <tr>\n      <th>104</th>\n      <td>NaN</td>\n      <td>NaN</td>\n      <td>NaN</td>\n      <td>0.0</td>\n      <td>0.0</td>\n      <td>0.0</td>\n      <td>0.0</td>\n      <td>0.0</td>\n      <td>0.0</td>\n      <td>0.0</td>\n      <td>0.0</td>\n      <td>0.0</td>\n      <td>0.0</td>\n    </tr>\n  </tbody>\n</table>\n<p>105 rows × 13 columns</p>\n</div>"
     },
     "execution_count": 25,
     "metadata": {},
     "output_type": "execute_result"
    }
   ],
   "source": [
    "result_df = percentage_new.loc[df[\"Provider Org Name\"] == location].T\n",
    "result_df.columns = result_df.iloc[0]\n",
    "result_df = result_df.iloc[5:-1]\n",
    "result_df"
   ]
  },
  {
   "cell_type": "code",
   "execution_count": 23,
   "metadata": {
    "collapsed": false,
    "ExecuteTime": {
     "end_time": "2023-07-19T10:30:51.002831600Z",
     "start_time": "2023-07-19T10:30:50.960138200Z"
    }
   },
   "outputs": [
    {
     "ename": "ValueError",
     "evalue": "The truth value of a DataFrame is ambiguous. Use a.empty, a.bool(), a.item(), a.any() or a.all().",
     "output_type": "error",
     "traceback": [
      "\u001B[1;31m---------------------------------------------------------------------------\u001B[0m",
      "\u001B[1;31mValueError\u001B[0m                                Traceback (most recent call last)",
      "\u001B[1;32m~\\AppData\\Local\\Temp\\ipykernel_1708\\1287048339.py\u001B[0m in \u001B[0;36m?\u001B[1;34m()\u001B[0m\n\u001B[1;32m----> 1\u001B[1;33m \u001B[0mplotly\u001B[0m\u001B[1;33m.\u001B[0m\u001B[0mplot\u001B[0m\u001B[1;33m(\u001B[0m\u001B[0mresult_df\u001B[0m\u001B[1;33m,\u001B[0m \u001B[0mkind\u001B[0m\u001B[1;33m=\u001B[0m\u001B[1;34m\"line\"\u001B[0m\u001B[1;33m)\u001B[0m\u001B[1;33m\u001B[0m\u001B[1;33m\u001B[0m\u001B[0m\n\u001B[0m",
      "\u001B[1;32m~\\PycharmProjects\\learning datascience\\venv\\lib\\site-packages\\plotly\\__init__.py\u001B[0m in \u001B[0;36m?\u001B[1;34m(data_frame, kind, **kwargs)\u001B[0m\n\u001B[0;32m     99\u001B[0m     \u001B[1;32mif\u001B[0m \u001B[0mkind\u001B[0m \u001B[1;33m==\u001B[0m \u001B[1;34m\"scatter\"\u001B[0m\u001B[1;33m:\u001B[0m\u001B[1;33m\u001B[0m\u001B[1;33m\u001B[0m\u001B[0m\n\u001B[0;32m    100\u001B[0m         \u001B[0mnew_kwargs\u001B[0m \u001B[1;33m=\u001B[0m \u001B[1;33m{\u001B[0m\u001B[0mk\u001B[0m\u001B[1;33m:\u001B[0m \u001B[0mkwargs\u001B[0m\u001B[1;33m[\u001B[0m\u001B[0mk\u001B[0m\u001B[1;33m]\u001B[0m \u001B[1;32mfor\u001B[0m \u001B[0mk\u001B[0m \u001B[1;32min\u001B[0m \u001B[0mkwargs\u001B[0m \u001B[1;32mif\u001B[0m \u001B[0mk\u001B[0m \u001B[1;32mnot\u001B[0m \u001B[1;32min\u001B[0m \u001B[1;33m[\u001B[0m\u001B[1;34m\"s\"\u001B[0m\u001B[1;33m,\u001B[0m \u001B[1;34m\"c\"\u001B[0m\u001B[1;33m]\u001B[0m\u001B[1;33m}\u001B[0m\u001B[1;33m\u001B[0m\u001B[1;33m\u001B[0m\u001B[0m\n\u001B[0;32m    101\u001B[0m         \u001B[1;32mreturn\u001B[0m \u001B[0mscatter\u001B[0m\u001B[1;33m(\u001B[0m\u001B[0mdata_frame\u001B[0m\u001B[1;33m,\u001B[0m \u001B[1;33m**\u001B[0m\u001B[0mnew_kwargs\u001B[0m\u001B[1;33m)\u001B[0m\u001B[1;33m\u001B[0m\u001B[1;33m\u001B[0m\u001B[0m\n\u001B[0;32m    102\u001B[0m     \u001B[1;32mif\u001B[0m \u001B[0mkind\u001B[0m \u001B[1;33m==\u001B[0m \u001B[1;34m\"line\"\u001B[0m\u001B[1;33m:\u001B[0m\u001B[1;33m\u001B[0m\u001B[1;33m\u001B[0m\u001B[0m\n\u001B[1;32m--> 103\u001B[1;33m         \u001B[1;32mreturn\u001B[0m \u001B[0mline\u001B[0m\u001B[1;33m(\u001B[0m\u001B[0mdata_frame\u001B[0m\u001B[1;33m,\u001B[0m \u001B[1;33m**\u001B[0m\u001B[0mkwargs\u001B[0m\u001B[1;33m)\u001B[0m\u001B[1;33m\u001B[0m\u001B[1;33m\u001B[0m\u001B[0m\n\u001B[0m\u001B[0;32m    104\u001B[0m     \u001B[1;32mif\u001B[0m \u001B[0mkind\u001B[0m \u001B[1;33m==\u001B[0m \u001B[1;34m\"area\"\u001B[0m\u001B[1;33m:\u001B[0m\u001B[1;33m\u001B[0m\u001B[1;33m\u001B[0m\u001B[0m\n\u001B[0;32m    105\u001B[0m         \u001B[0mnew_kwargs\u001B[0m \u001B[1;33m=\u001B[0m \u001B[1;33m{\u001B[0m\u001B[0mk\u001B[0m\u001B[1;33m:\u001B[0m \u001B[0mkwargs\u001B[0m\u001B[1;33m[\u001B[0m\u001B[0mk\u001B[0m\u001B[1;33m]\u001B[0m \u001B[1;32mfor\u001B[0m \u001B[0mk\u001B[0m \u001B[1;32min\u001B[0m \u001B[0mkwargs\u001B[0m \u001B[1;32mif\u001B[0m \u001B[0mk\u001B[0m \u001B[1;32mnot\u001B[0m \u001B[1;32min\u001B[0m \u001B[1;33m[\u001B[0m\u001B[1;34m\"stacked\"\u001B[0m\u001B[1;33m]\u001B[0m\u001B[1;33m}\u001B[0m\u001B[1;33m\u001B[0m\u001B[1;33m\u001B[0m\u001B[0m\n\u001B[0;32m    106\u001B[0m         \u001B[1;32mreturn\u001B[0m \u001B[0marea\u001B[0m\u001B[1;33m(\u001B[0m\u001B[0mdata_frame\u001B[0m\u001B[1;33m,\u001B[0m \u001B[1;33m**\u001B[0m\u001B[0mnew_kwargs\u001B[0m\u001B[1;33m)\u001B[0m\u001B[1;33m\u001B[0m\u001B[1;33m\u001B[0m\u001B[0m\n",
      "\u001B[1;32m~\\PycharmProjects\\learning datascience\\venv\\lib\\site-packages\\plotly\\express\\_chart_types.py\u001B[0m in \u001B[0;36m?\u001B[1;34m(data_frame, x, y, line_group, color, line_dash, symbol, hover_name, hover_data, custom_data, text, facet_row, facet_col, facet_col_wrap, facet_row_spacing, facet_col_spacing, error_x, error_x_minus, error_y, error_y_minus, animation_frame, animation_group, category_orders, labels, orientation, color_discrete_sequence, color_discrete_map, line_dash_sequence, line_dash_map, symbol_sequence, symbol_map, markers, log_x, log_y, range_x, range_y, line_shape, render_mode, title, template, width, height)\u001B[0m\n\u001B[0;32m    260\u001B[0m     \"\"\"\n\u001B[0;32m    261\u001B[0m     \u001B[0mIn\u001B[0m \u001B[0ma\u001B[0m \u001B[1;36m2\u001B[0m\u001B[0mD\u001B[0m \u001B[0mline\u001B[0m \u001B[0mplot\u001B[0m\u001B[1;33m,\u001B[0m \u001B[0meach\u001B[0m \u001B[0mrow\u001B[0m \u001B[0mof\u001B[0m\u001B[0;31m \u001B[0m\u001B[0;31m`\u001B[0m\u001B[0mdata_frame\u001B[0m\u001B[0;31m`\u001B[0m \u001B[1;32mis\u001B[0m \u001B[0mrepresented\u001B[0m \u001B[1;32mas\u001B[0m \u001B[0mvertex\u001B[0m \u001B[0mof\u001B[0m\u001B[1;33m\u001B[0m\u001B[1;33m\u001B[0m\u001B[0m\n\u001B[0;32m    262\u001B[0m     \u001B[0ma\u001B[0m \u001B[0mpolyline\u001B[0m \u001B[0mmark\u001B[0m \u001B[1;32min\u001B[0m \u001B[1;36m2\u001B[0m\u001B[0mD\u001B[0m \u001B[0mspace\u001B[0m\u001B[1;33m.\u001B[0m\u001B[1;33m\u001B[0m\u001B[1;33m\u001B[0m\u001B[0m\n\u001B[0;32m    263\u001B[0m     \"\"\"\n\u001B[1;32m--> 264\u001B[1;33m     \u001B[1;32mreturn\u001B[0m \u001B[0mmake_figure\u001B[0m\u001B[1;33m(\u001B[0m\u001B[0margs\u001B[0m\u001B[1;33m=\u001B[0m\u001B[0mlocals\u001B[0m\u001B[1;33m(\u001B[0m\u001B[1;33m)\u001B[0m\u001B[1;33m,\u001B[0m \u001B[0mconstructor\u001B[0m\u001B[1;33m=\u001B[0m\u001B[0mgo\u001B[0m\u001B[1;33m.\u001B[0m\u001B[0mScatter\u001B[0m\u001B[1;33m)\u001B[0m\u001B[1;33m\u001B[0m\u001B[1;33m\u001B[0m\u001B[0m\n\u001B[0m",
      "\u001B[1;32m~\\PycharmProjects\\learning datascience\\venv\\lib\\site-packages\\plotly\\express\\_core.py\u001B[0m in \u001B[0;36m?\u001B[1;34m(args, constructor, trace_patch, layout_patch)\u001B[0m\n\u001B[0;32m   1999\u001B[0m     \u001B[0mtrace_patch\u001B[0m \u001B[1;33m=\u001B[0m \u001B[0mtrace_patch\u001B[0m \u001B[1;32mor\u001B[0m \u001B[1;33m{\u001B[0m\u001B[1;33m}\u001B[0m\u001B[1;33m\u001B[0m\u001B[1;33m\u001B[0m\u001B[0m\n\u001B[0;32m   2000\u001B[0m     \u001B[0mlayout_patch\u001B[0m \u001B[1;33m=\u001B[0m \u001B[0mlayout_patch\u001B[0m \u001B[1;32mor\u001B[0m \u001B[1;33m{\u001B[0m\u001B[1;33m}\u001B[0m\u001B[1;33m\u001B[0m\u001B[1;33m\u001B[0m\u001B[0m\n\u001B[0;32m   2001\u001B[0m     \u001B[0mapply_default_cascade\u001B[0m\u001B[1;33m(\u001B[0m\u001B[0margs\u001B[0m\u001B[1;33m)\u001B[0m\u001B[1;33m\u001B[0m\u001B[1;33m\u001B[0m\u001B[0m\n\u001B[0;32m   2002\u001B[0m \u001B[1;33m\u001B[0m\u001B[0m\n\u001B[1;32m-> 2003\u001B[1;33m     \u001B[0margs\u001B[0m \u001B[1;33m=\u001B[0m \u001B[0mbuild_dataframe\u001B[0m\u001B[1;33m(\u001B[0m\u001B[0margs\u001B[0m\u001B[1;33m,\u001B[0m \u001B[0mconstructor\u001B[0m\u001B[1;33m)\u001B[0m\u001B[1;33m\u001B[0m\u001B[1;33m\u001B[0m\u001B[0m\n\u001B[0m\u001B[0;32m   2004\u001B[0m     \u001B[1;32mif\u001B[0m \u001B[0mconstructor\u001B[0m \u001B[1;32min\u001B[0m \u001B[1;33m[\u001B[0m\u001B[0mgo\u001B[0m\u001B[1;33m.\u001B[0m\u001B[0mTreemap\u001B[0m\u001B[1;33m,\u001B[0m \u001B[0mgo\u001B[0m\u001B[1;33m.\u001B[0m\u001B[0mSunburst\u001B[0m\u001B[1;33m,\u001B[0m \u001B[0mgo\u001B[0m\u001B[1;33m.\u001B[0m\u001B[0mIcicle\u001B[0m\u001B[1;33m]\u001B[0m \u001B[1;32mand\u001B[0m \u001B[0margs\u001B[0m\u001B[1;33m[\u001B[0m\u001B[1;34m\"path\"\u001B[0m\u001B[1;33m]\u001B[0m \u001B[1;32mis\u001B[0m \u001B[1;32mnot\u001B[0m \u001B[1;32mNone\u001B[0m\u001B[1;33m:\u001B[0m\u001B[1;33m\u001B[0m\u001B[1;33m\u001B[0m\u001B[0m\n\u001B[0;32m   2005\u001B[0m         \u001B[0margs\u001B[0m \u001B[1;33m=\u001B[0m \u001B[0mprocess_dataframe_hierarchy\u001B[0m\u001B[1;33m(\u001B[0m\u001B[0margs\u001B[0m\u001B[1;33m)\u001B[0m\u001B[1;33m\u001B[0m\u001B[1;33m\u001B[0m\u001B[0m\n\u001B[0;32m   2006\u001B[0m     \u001B[1;32mif\u001B[0m \u001B[0mconstructor\u001B[0m \u001B[1;32min\u001B[0m \u001B[1;33m[\u001B[0m\u001B[0mgo\u001B[0m\u001B[1;33m.\u001B[0m\u001B[0mPie\u001B[0m\u001B[1;33m]\u001B[0m\u001B[1;33m:\u001B[0m\u001B[1;33m\u001B[0m\u001B[1;33m\u001B[0m\u001B[0m\n",
      "\u001B[1;32m~\\PycharmProjects\\learning datascience\\venv\\lib\\site-packages\\plotly\\express\\_core.py\u001B[0m in \u001B[0;36m?\u001B[1;34m(args, constructor)\u001B[0m\n\u001B[0;32m   1408\u001B[0m         \u001B[0mno_color\u001B[0m \u001B[1;33m=\u001B[0m \u001B[1;32mTrue\u001B[0m\u001B[1;33m\u001B[0m\u001B[1;33m\u001B[0m\u001B[0m\n\u001B[0;32m   1409\u001B[0m         \u001B[0margs\u001B[0m\u001B[1;33m[\u001B[0m\u001B[1;34m\"color\"\u001B[0m\u001B[1;33m]\u001B[0m \u001B[1;33m=\u001B[0m \u001B[1;32mNone\u001B[0m\u001B[1;33m\u001B[0m\u001B[1;33m\u001B[0m\u001B[0m\n\u001B[0;32m   1410\u001B[0m     \u001B[1;31m# now that things have been prepped, we do the systematic rewriting of `args`\u001B[0m\u001B[1;33m\u001B[0m\u001B[1;33m\u001B[0m\u001B[0m\n\u001B[0;32m   1411\u001B[0m \u001B[1;33m\u001B[0m\u001B[0m\n\u001B[1;32m-> 1412\u001B[1;33m     df_output, wide_id_vars = process_args_into_dataframe(\n\u001B[0m\u001B[0;32m   1413\u001B[0m         \u001B[0margs\u001B[0m\u001B[1;33m,\u001B[0m \u001B[0mwide_mode\u001B[0m\u001B[1;33m,\u001B[0m \u001B[0mvar_name\u001B[0m\u001B[1;33m,\u001B[0m \u001B[0mvalue_name\u001B[0m\u001B[1;33m\u001B[0m\u001B[1;33m\u001B[0m\u001B[0m\n\u001B[0;32m   1414\u001B[0m     )\n\u001B[0;32m   1415\u001B[0m \u001B[1;33m\u001B[0m\u001B[0m\n",
      "\u001B[1;32m~\\PycharmProjects\\learning datascience\\venv\\lib\\site-packages\\plotly\\express\\_core.py\u001B[0m in \u001B[0;36m?\u001B[1;34m(args, wide_mode, var_name, value_name)\u001B[0m\n\u001B[0;32m   1219\u001B[0m                         )\n\u001B[0;32m   1220\u001B[0m                     )\n\u001B[0;32m   1221\u001B[0m                 \u001B[1;32melse\u001B[0m\u001B[1;33m:\u001B[0m\u001B[1;33m\u001B[0m\u001B[1;33m\u001B[0m\u001B[0m\n\u001B[0;32m   1222\u001B[0m                     \u001B[0mcol_name\u001B[0m \u001B[1;33m=\u001B[0m \u001B[0mstr\u001B[0m\u001B[1;33m(\u001B[0m\u001B[0margument\u001B[0m\u001B[1;33m)\u001B[0m\u001B[1;33m\u001B[0m\u001B[1;33m\u001B[0m\u001B[0m\n\u001B[1;32m-> 1223\u001B[1;33m                     \u001B[0mdf_output\u001B[0m\u001B[1;33m[\u001B[0m\u001B[0mcol_name\u001B[0m\u001B[1;33m]\u001B[0m \u001B[1;33m=\u001B[0m \u001B[0mto_unindexed_series\u001B[0m\u001B[1;33m(\u001B[0m\u001B[0mdf_input\u001B[0m\u001B[1;33m[\u001B[0m\u001B[0margument\u001B[0m\u001B[1;33m]\u001B[0m\u001B[1;33m)\u001B[0m\u001B[1;33m\u001B[0m\u001B[1;33m\u001B[0m\u001B[0m\n\u001B[0m\u001B[0;32m   1224\u001B[0m             \u001B[1;31m# ----------------- argument is likely a column / array / list.... -------\u001B[0m\u001B[1;33m\u001B[0m\u001B[1;33m\u001B[0m\u001B[0m\n\u001B[0;32m   1225\u001B[0m             \u001B[1;32melse\u001B[0m\u001B[1;33m:\u001B[0m\u001B[1;33m\u001B[0m\u001B[1;33m\u001B[0m\u001B[0m\n\u001B[0;32m   1226\u001B[0m                 \u001B[1;32mif\u001B[0m \u001B[0mdf_provided\u001B[0m \u001B[1;32mand\u001B[0m \u001B[0mhasattr\u001B[0m\u001B[1;33m(\u001B[0m\u001B[0margument\u001B[0m\u001B[1;33m,\u001B[0m \u001B[1;34m\"name\"\u001B[0m\u001B[1;33m)\u001B[0m\u001B[1;33m:\u001B[0m\u001B[1;33m\u001B[0m\u001B[1;33m\u001B[0m\u001B[0m\n",
      "\u001B[1;32m~\\PycharmProjects\\learning datascience\\venv\\lib\\site-packages\\plotly\\express\\_core.py\u001B[0m in \u001B[0;36m?\u001B[1;34m(x)\u001B[0m\n\u001B[0;32m   1070\u001B[0m     \u001B[0mno\u001B[0m \u001B[0mindex\u001B[0m\u001B[1;33m,\u001B[0m \u001B[0mwithout\u001B[0m \u001B[0mextracting\u001B[0m \u001B[0mthe\u001B[0m \u001B[0mdata\u001B[0m \u001B[1;32mfrom\u001B[0m \u001B[0man\u001B[0m \u001B[0mexisting\u001B[0m \u001B[0mSeries\u001B[0m \u001B[0mvia\u001B[0m \u001B[0mnumpy\u001B[0m\u001B[1;33m,\u001B[0m \u001B[0mwhich\u001B[0m\u001B[1;33m\u001B[0m\u001B[1;33m\u001B[0m\u001B[0m\n\u001B[0;32m   1071\u001B[0m     \u001B[0mseems\u001B[0m \u001B[0mto\u001B[0m \u001B[0mmangle\u001B[0m \u001B[0mdatetime\u001B[0m \u001B[0mcolumns\u001B[0m\u001B[1;33m.\u001B[0m \u001B[0mStripping\u001B[0m \u001B[0mthe\u001B[0m \u001B[0mindex\u001B[0m \u001B[1;32mfrom\u001B[0m \u001B[0mexisting\u001B[0m \u001B[0mpd\u001B[0m\u001B[1;33m.\u001B[0m\u001B[0mSeries\u001B[0m \u001B[1;32mis\u001B[0m\u001B[1;33m\u001B[0m\u001B[1;33m\u001B[0m\u001B[0m\n\u001B[0;32m   1072\u001B[0m     \u001B[0mrequired\u001B[0m \u001B[0mto\u001B[0m \u001B[0mget\u001B[0m \u001B[0mthings\u001B[0m \u001B[0mto\u001B[0m \u001B[0mmatch\u001B[0m \u001B[0mup\u001B[0m \u001B[0mright\u001B[0m \u001B[1;32min\u001B[0m \u001B[0mthe\u001B[0m \u001B[0mnew\u001B[0m \u001B[0mDataFrame\u001B[0m \u001B[0mwe\u001B[0m\u001B[0;31m'\u001B[0m\u001B[0mre\u001B[0m \u001B[0mbuilding\u001B[0m\u001B[1;33m\u001B[0m\u001B[1;33m\u001B[0m\u001B[0m\n\u001B[0;32m   1073\u001B[0m     \"\"\"\n\u001B[1;32m-> 1074\u001B[1;33m     \u001B[1;32mreturn\u001B[0m \u001B[0mpd\u001B[0m\u001B[1;33m.\u001B[0m\u001B[0mSeries\u001B[0m\u001B[1;33m(\u001B[0m\u001B[0mx\u001B[0m\u001B[1;33m)\u001B[0m\u001B[1;33m.\u001B[0m\u001B[0mreset_index\u001B[0m\u001B[1;33m(\u001B[0m\u001B[0mdrop\u001B[0m\u001B[1;33m=\u001B[0m\u001B[1;32mTrue\u001B[0m\u001B[1;33m)\u001B[0m\u001B[1;33m\u001B[0m\u001B[1;33m\u001B[0m\u001B[0m\n\u001B[0m",
      "\u001B[1;32m~\\PycharmProjects\\learning datascience\\venv\\lib\\site-packages\\pandas\\core\\series.py\u001B[0m in \u001B[0;36m?\u001B[1;34m(self, data, index, dtype, name, copy, fastpath)\u001B[0m\n\u001B[0;32m    468\u001B[0m                 \u001B[0mdata\u001B[0m \u001B[1;33m=\u001B[0m \u001B[0mdata\u001B[0m\u001B[1;33m.\u001B[0m\u001B[0mreindex\u001B[0m\u001B[1;33m(\u001B[0m\u001B[0mindex\u001B[0m\u001B[1;33m,\u001B[0m \u001B[0mcopy\u001B[0m\u001B[1;33m=\u001B[0m\u001B[0mcopy\u001B[0m\u001B[1;33m)\u001B[0m\u001B[1;33m\u001B[0m\u001B[1;33m\u001B[0m\u001B[0m\n\u001B[0;32m    469\u001B[0m                 \u001B[0mcopy\u001B[0m \u001B[1;33m=\u001B[0m \u001B[1;32mFalse\u001B[0m\u001B[1;33m\u001B[0m\u001B[1;33m\u001B[0m\u001B[0m\n\u001B[0;32m    470\u001B[0m                 \u001B[0mdata\u001B[0m \u001B[1;33m=\u001B[0m \u001B[0mdata\u001B[0m\u001B[1;33m.\u001B[0m\u001B[0m_mgr\u001B[0m\u001B[1;33m\u001B[0m\u001B[1;33m\u001B[0m\u001B[0m\n\u001B[0;32m    471\u001B[0m         \u001B[1;32melif\u001B[0m \u001B[0mis_dict_like\u001B[0m\u001B[1;33m(\u001B[0m\u001B[0mdata\u001B[0m\u001B[1;33m)\u001B[0m\u001B[1;33m:\u001B[0m\u001B[1;33m\u001B[0m\u001B[1;33m\u001B[0m\u001B[0m\n\u001B[1;32m--> 472\u001B[1;33m             \u001B[0mdata\u001B[0m\u001B[1;33m,\u001B[0m \u001B[0mindex\u001B[0m \u001B[1;33m=\u001B[0m \u001B[0mself\u001B[0m\u001B[1;33m.\u001B[0m\u001B[0m_init_dict\u001B[0m\u001B[1;33m(\u001B[0m\u001B[0mdata\u001B[0m\u001B[1;33m,\u001B[0m \u001B[0mindex\u001B[0m\u001B[1;33m,\u001B[0m \u001B[0mdtype\u001B[0m\u001B[1;33m)\u001B[0m\u001B[1;33m\u001B[0m\u001B[1;33m\u001B[0m\u001B[0m\n\u001B[0m\u001B[0;32m    473\u001B[0m             \u001B[0mdtype\u001B[0m \u001B[1;33m=\u001B[0m \u001B[1;32mNone\u001B[0m\u001B[1;33m\u001B[0m\u001B[1;33m\u001B[0m\u001B[0m\n\u001B[0;32m    474\u001B[0m             \u001B[0mcopy\u001B[0m \u001B[1;33m=\u001B[0m \u001B[1;32mFalse\u001B[0m\u001B[1;33m\u001B[0m\u001B[1;33m\u001B[0m\u001B[0m\n\u001B[0;32m    475\u001B[0m         \u001B[1;32melif\u001B[0m \u001B[0misinstance\u001B[0m\u001B[1;33m(\u001B[0m\u001B[0mdata\u001B[0m\u001B[1;33m,\u001B[0m \u001B[1;33m(\u001B[0m\u001B[0mSingleBlockManager\u001B[0m\u001B[1;33m,\u001B[0m \u001B[0mSingleArrayManager\u001B[0m\u001B[1;33m)\u001B[0m\u001B[1;33m)\u001B[0m\u001B[1;33m:\u001B[0m\u001B[1;33m\u001B[0m\u001B[1;33m\u001B[0m\u001B[0m\n",
      "\u001B[1;32m~\\PycharmProjects\\learning datascience\\venv\\lib\\site-packages\\pandas\\core\\series.py\u001B[0m in \u001B[0;36m?\u001B[1;34m(self, data, index, dtype)\u001B[0m\n\u001B[0;32m    542\u001B[0m         \u001B[0mkeys\u001B[0m\u001B[1;33m:\u001B[0m \u001B[0mIndex\u001B[0m \u001B[1;33m|\u001B[0m \u001B[0mtuple\u001B[0m\u001B[1;33m\u001B[0m\u001B[1;33m\u001B[0m\u001B[0m\n\u001B[0;32m    543\u001B[0m \u001B[1;33m\u001B[0m\u001B[0m\n\u001B[0;32m    544\u001B[0m         \u001B[1;31m# Looking for NaN in dict doesn't work ({np.nan : 1}[float('nan')]\u001B[0m\u001B[1;33m\u001B[0m\u001B[1;33m\u001B[0m\u001B[0m\n\u001B[0;32m    545\u001B[0m         \u001B[1;31m# raises KeyError), so we iterate the entire dict, and align\u001B[0m\u001B[1;33m\u001B[0m\u001B[1;33m\u001B[0m\u001B[0m\n\u001B[1;32m--> 546\u001B[1;33m         \u001B[1;32mif\u001B[0m \u001B[0mdata\u001B[0m\u001B[1;33m:\u001B[0m\u001B[1;33m\u001B[0m\u001B[1;33m\u001B[0m\u001B[0m\n\u001B[0m\u001B[0;32m    547\u001B[0m             \u001B[1;31m# GH:34717, issue was using zip to extract key and values from data.\u001B[0m\u001B[1;33m\u001B[0m\u001B[1;33m\u001B[0m\u001B[0m\n\u001B[0;32m    548\u001B[0m             \u001B[1;31m# using generators in effects the performance.\u001B[0m\u001B[1;33m\u001B[0m\u001B[1;33m\u001B[0m\u001B[0m\n\u001B[0;32m    549\u001B[0m             \u001B[1;31m# Below is the new way of extracting the keys and values\u001B[0m\u001B[1;33m\u001B[0m\u001B[1;33m\u001B[0m\u001B[0m\n",
      "\u001B[1;32m~\\PycharmProjects\\learning datascience\\venv\\lib\\site-packages\\pandas\\core\\generic.py\u001B[0m in \u001B[0;36m?\u001B[1;34m(self)\u001B[0m\n\u001B[0;32m   1464\u001B[0m     \u001B[1;33m@\u001B[0m\u001B[0mfinal\u001B[0m\u001B[1;33m\u001B[0m\u001B[1;33m\u001B[0m\u001B[0m\n\u001B[0;32m   1465\u001B[0m     \u001B[1;32mdef\u001B[0m \u001B[0m__nonzero__\u001B[0m\u001B[1;33m(\u001B[0m\u001B[0mself\u001B[0m\u001B[1;33m)\u001B[0m \u001B[1;33m->\u001B[0m \u001B[0mNoReturn\u001B[0m\u001B[1;33m:\u001B[0m\u001B[1;33m\u001B[0m\u001B[1;33m\u001B[0m\u001B[0m\n\u001B[1;32m-> 1466\u001B[1;33m         raise ValueError(\n\u001B[0m\u001B[0;32m   1467\u001B[0m             \u001B[1;34mf\"The truth value of a {type(self).__name__} is ambiguous. \"\u001B[0m\u001B[1;33m\u001B[0m\u001B[1;33m\u001B[0m\u001B[0m\n\u001B[0;32m   1468\u001B[0m             \u001B[1;34m\"Use a.empty, a.bool(), a.item(), a.any() or a.all().\"\u001B[0m\u001B[1;33m\u001B[0m\u001B[1;33m\u001B[0m\u001B[0m\n\u001B[0;32m   1469\u001B[0m         )\n",
      "\u001B[1;31mValueError\u001B[0m: The truth value of a DataFrame is ambiguous. Use a.empty, a.bool(), a.item(), a.any() or a.all()."
     ]
    }
   ],
   "source": [
    "plotly.plot(result_df, kind=\"line\")"
   ]
  },
  {
   "cell_type": "code",
   "execution_count": null,
   "metadata": {},
   "outputs": [],
   "source": []
  }
 ],
 "metadata": {
  "kernelspec": {
   "display_name": "Python 3",
   "language": "python",
   "name": "python3"
  },
  "language_info": {
   "codemirror_mode": {
    "name": "ipython",
    "version": 3
   },
   "file_extension": ".py",
   "mimetype": "text/x-python",
   "name": "python",
   "nbconvert_exporter": "python",
   "pygments_lexer": "ipython3",
   "version": "3.10.4"
  }
 },
 "nbformat": 4,
 "nbformat_minor": 0
}
