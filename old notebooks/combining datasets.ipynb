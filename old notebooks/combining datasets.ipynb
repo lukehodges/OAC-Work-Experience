{
 "cells": [
  {
   "cell_type": "code",
   "execution_count": 35,
   "metadata": {
    "collapsed": true,
    "ExecuteTime": {
     "end_time": "2023-07-19T10:13:52.537042700Z",
     "start_time": "2023-07-19T10:13:19.972407700Z"
    }
   },
   "outputs": [
    {
     "name": "stdout",
     "output_type": "stream",
     "text": [
      "loading 2021\n",
      "loading january\n",
      "finished 2021.january\n",
      "loading february\n",
      "finished 2021.february\n",
      "loading march\n",
      "finished 2021.march\n",
      "loading april\n",
      "finished 2021.april\n",
      "loading may\n",
      "finished 2021.may\n",
      "loading june\n",
      "finished 2021.june\n",
      "loading july\n",
      "finished 2021.july\n",
      "loading august\n",
      "finished 2021.august\n",
      "loading september\n",
      "finished 2021.september\n",
      "loading october\n",
      "finished 2021.october\n",
      "loading november\n",
      "finished 2021.november\n",
      "loading december\n",
      "finished 2021.december\n",
      "loading 2022\n",
      "loading january\n",
      "finished 2022.january\n",
      "loading february\n",
      "finished 2022.february\n",
      "loading march\n",
      "finished 2022.march\n",
      "loading april\n",
      "finished 2022.april\n",
      "loading may\n",
      "finished 2022.may\n",
      "loading june\n",
      "finished 2022.june\n",
      "loading july\n",
      "finished 2022.july\n",
      "loading august\n",
      "finished 2022.august\n",
      "loading september\n",
      "finished 2022.september\n",
      "loading october\n",
      "finished 2022.october\n",
      "loading november\n",
      "finished 2022.november\n",
      "loading december\n",
      "finished 2022.december\n",
      "loading 2023\n",
      "loading january\n",
      "finished 2023.january\n",
      "loading february\n",
      "finished 2023.february\n",
      "loading march\n",
      "finished 2023.march\n",
      "loading april\n"
     ]
    },
    {
     "data": {
      "text/plain": "         Period                               Provider Parent Name  \\\n0  JANUARY-2021  WEST YORKSHIRE AND HARROGATE HEALTH & CARE PAR...   \n1  JANUARY-2021                        CHESHIRE AND MERSEYSIDE STP   \n2  JANUARY-2021                CAMBRIDGESHIRE AND PETERBOROUGH STP   \n3  JANUARY-2021  SURREY HEARTLANDS HEALTH & CARE PARTNERSHIP (STP)   \n4  JANUARY-2021  SURREY HEARTLANDS HEALTH & CARE PARTNERSHIP (STP)   \n\n  Provider Org Code                                  Provider Org Name  \\\n0               RCF                      AIREDALE NHS FOUNDATION TRUST   \n1               RBS          ALDER HEY CHILDREN'S NHS FOUNDATION TRUST   \n2               NX5                   ANGLIA COMMUNITY EYE SERVICE LTD   \n3               RTK  ASHFORD AND ST PETER'S HOSPITALS NHS FOUNDATIO...   \n4             NVC01                                   ASHTEAD HOSPITAL   \n\n        0       1       2       3       4       5  ...  96  97  98  99  100  \\\n0  1082.0  1028.0   669.0   724.0   381.0   553.0  ... NaN NaN NaN NaN  NaN   \n1   487.0   376.0   347.0   483.0   314.0   475.0  ... NaN NaN NaN NaN  NaN   \n2    26.0   104.0   138.0   173.0    66.0    55.0  ... NaN NaN NaN NaN  NaN   \n3  1932.0  2368.0  2365.0  2388.0  1478.0  1770.0  ... NaN NaN NaN NaN  NaN   \n4    45.0    47.0    50.0    75.0    28.0    34.0  ... NaN NaN NaN NaN  NaN   \n\n   101  102  103  104    Total  \n0  NaN  NaN  NaN  NaN  13274.0  \n1  NaN  NaN  NaN  NaN  13600.0  \n2  NaN  NaN  NaN  NaN   1579.0  \n3  NaN  NaN  NaN  NaN  37077.0  \n4  NaN  NaN  NaN  NaN   1072.0  \n\n[5 rows x 110 columns]",
      "text/html": "<div>\n<style scoped>\n    .dataframe tbody tr th:only-of-type {\n        vertical-align: middle;\n    }\n\n    .dataframe tbody tr th {\n        vertical-align: top;\n    }\n\n    .dataframe thead th {\n        text-align: right;\n    }\n</style>\n<table border=\"1\" class=\"dataframe\">\n  <thead>\n    <tr style=\"text-align: right;\">\n      <th></th>\n      <th>Period</th>\n      <th>Provider Parent Name</th>\n      <th>Provider Org Code</th>\n      <th>Provider Org Name</th>\n      <th>0</th>\n      <th>1</th>\n      <th>2</th>\n      <th>3</th>\n      <th>4</th>\n      <th>5</th>\n      <th>...</th>\n      <th>96</th>\n      <th>97</th>\n      <th>98</th>\n      <th>99</th>\n      <th>100</th>\n      <th>101</th>\n      <th>102</th>\n      <th>103</th>\n      <th>104</th>\n      <th>Total</th>\n    </tr>\n  </thead>\n  <tbody>\n    <tr>\n      <th>0</th>\n      <td>JANUARY-2021</td>\n      <td>WEST YORKSHIRE AND HARROGATE HEALTH &amp; CARE PAR...</td>\n      <td>RCF</td>\n      <td>AIREDALE NHS FOUNDATION TRUST</td>\n      <td>1082.0</td>\n      <td>1028.0</td>\n      <td>669.0</td>\n      <td>724.0</td>\n      <td>381.0</td>\n      <td>553.0</td>\n      <td>...</td>\n      <td>NaN</td>\n      <td>NaN</td>\n      <td>NaN</td>\n      <td>NaN</td>\n      <td>NaN</td>\n      <td>NaN</td>\n      <td>NaN</td>\n      <td>NaN</td>\n      <td>NaN</td>\n      <td>13274.0</td>\n    </tr>\n    <tr>\n      <th>1</th>\n      <td>JANUARY-2021</td>\n      <td>CHESHIRE AND MERSEYSIDE STP</td>\n      <td>RBS</td>\n      <td>ALDER HEY CHILDREN'S NHS FOUNDATION TRUST</td>\n      <td>487.0</td>\n      <td>376.0</td>\n      <td>347.0</td>\n      <td>483.0</td>\n      <td>314.0</td>\n      <td>475.0</td>\n      <td>...</td>\n      <td>NaN</td>\n      <td>NaN</td>\n      <td>NaN</td>\n      <td>NaN</td>\n      <td>NaN</td>\n      <td>NaN</td>\n      <td>NaN</td>\n      <td>NaN</td>\n      <td>NaN</td>\n      <td>13600.0</td>\n    </tr>\n    <tr>\n      <th>2</th>\n      <td>JANUARY-2021</td>\n      <td>CAMBRIDGESHIRE AND PETERBOROUGH STP</td>\n      <td>NX5</td>\n      <td>ANGLIA COMMUNITY EYE SERVICE LTD</td>\n      <td>26.0</td>\n      <td>104.0</td>\n      <td>138.0</td>\n      <td>173.0</td>\n      <td>66.0</td>\n      <td>55.0</td>\n      <td>...</td>\n      <td>NaN</td>\n      <td>NaN</td>\n      <td>NaN</td>\n      <td>NaN</td>\n      <td>NaN</td>\n      <td>NaN</td>\n      <td>NaN</td>\n      <td>NaN</td>\n      <td>NaN</td>\n      <td>1579.0</td>\n    </tr>\n    <tr>\n      <th>3</th>\n      <td>JANUARY-2021</td>\n      <td>SURREY HEARTLANDS HEALTH &amp; CARE PARTNERSHIP (STP)</td>\n      <td>RTK</td>\n      <td>ASHFORD AND ST PETER'S HOSPITALS NHS FOUNDATIO...</td>\n      <td>1932.0</td>\n      <td>2368.0</td>\n      <td>2365.0</td>\n      <td>2388.0</td>\n      <td>1478.0</td>\n      <td>1770.0</td>\n      <td>...</td>\n      <td>NaN</td>\n      <td>NaN</td>\n      <td>NaN</td>\n      <td>NaN</td>\n      <td>NaN</td>\n      <td>NaN</td>\n      <td>NaN</td>\n      <td>NaN</td>\n      <td>NaN</td>\n      <td>37077.0</td>\n    </tr>\n    <tr>\n      <th>4</th>\n      <td>JANUARY-2021</td>\n      <td>SURREY HEARTLANDS HEALTH &amp; CARE PARTNERSHIP (STP)</td>\n      <td>NVC01</td>\n      <td>ASHTEAD HOSPITAL</td>\n      <td>45.0</td>\n      <td>47.0</td>\n      <td>50.0</td>\n      <td>75.0</td>\n      <td>28.0</td>\n      <td>34.0</td>\n      <td>...</td>\n      <td>NaN</td>\n      <td>NaN</td>\n      <td>NaN</td>\n      <td>NaN</td>\n      <td>NaN</td>\n      <td>NaN</td>\n      <td>NaN</td>\n      <td>NaN</td>\n      <td>NaN</td>\n      <td>1072.0</td>\n    </tr>\n  </tbody>\n</table>\n<p>5 rows × 110 columns</p>\n</div>"
     },
     "execution_count": 35,
     "metadata": {},
     "output_type": "execute_result"
    }
   ],
   "source": [
    "import pandas as pd\n",
    "\n",
    "months = [\"january\", \"february\", \"march\", \"april\", \"may\", \"june\", \"july\", \"august\", \"september\", \"october\", \"november\", \"december\"]\n",
    "years = [\"2021\", \"2022\", \"2023\"]\n",
    "df = None\n",
    "\n",
    "for year in years:\n",
    "    print(f\"loading {year}\")\n",
    "    for month in months:\n",
    "        print(f\"loading {month}\")\n",
    "        if year == \"2019\" and month not in [\"\"]:continue\n",
    "        if year == \"2023\" and month == \"april\":\n",
    "            break\n",
    "        data = pd.read_csv(f\"data/apptx/{year}/{month}.csv\")\n",
    "        data = data.loc[data['Treatment Function Code'] == \"C_999\"]\n",
    "        hospital_grouped = data.groupby('Provider Org Name')\n",
    "\n",
    "        agg_functions = {}\n",
    "        for col in data.columns:\n",
    "            if data[col].dtype in [int, float]:\n",
    "                agg_functions[col] = 'sum'\n",
    "            else:\n",
    "                agg_functions[col] = 'first'\n",
    "\n",
    "        hospital_summed = hospital_grouped.agg(agg_functions)\n",
    "        timecols = [col for col in hospital_summed if \"SUM 1\" in col]\n",
    "        week_values = [int(col.split(\" \")[1]) for col in timecols]\n",
    "        renamed = {col: week_values[i] for i, col in enumerate(timecols)}\n",
    "        out = hospital_summed.rename(columns=renamed)\n",
    "\n",
    "\n",
    "        out[\"Period\"] = out[\"Period\"].str.slice(start=4)\n",
    "        out = out.drop(columns=[\"Total\",\"Patients with unknown clock start date\", \"Total All\", \"RTT Part Type\",\"RTT Part Description\",\"Treatment Function Code\",\"Treatment Function Name\",\"Commissioner Org Code\",\"Commissioner Org Name\",\"Commissioner Parent Name\",\"Commissioner Parent Org Code\",\"Provider Parent Org Code\"])\n",
    "\n",
    "        out.reset_index(drop=True, inplace=True)  # Reset index without adding existing column\n",
    "\n",
    "        print(f\"finished {year}.{month}\")\n",
    "        if df is None:\n",
    "            df = out\n",
    "        else:\n",
    "            df = pd.concat((df,out), axis=0)\n",
    "\n",
    "# creating total\n",
    "df[\"Total\"] = df.iloc[:,4:-1].sum(axis=\"columns\")\n",
    "df.head()\n"
   ]
  },
  {
   "cell_type": "code",
   "execution_count": 36,
   "metadata": {
    "collapsed": false,
    "ExecuteTime": {
     "end_time": "2023-07-19T10:13:53.455427200Z",
     "start_time": "2023-07-19T10:13:52.538043400Z"
    }
   },
   "outputs": [],
   "source": [
    "df.to_csv(\"data/all_hospital.csv\")"
   ]
  },
  {
   "cell_type": "code",
   "execution_count": null,
   "outputs": [],
   "source": [
    "#converting data into percentages"
   ],
   "metadata": {
    "collapsed": false
   }
  },
  {
   "cell_type": "code",
   "execution_count": 39,
   "outputs": [
    {
     "data": {
      "text/plain": "         Period                               Provider Parent Name  \\\n0  JANUARY-2021  WEST YORKSHIRE AND HARROGATE HEALTH & CARE PAR...   \n1  JANUARY-2021                        CHESHIRE AND MERSEYSIDE STP   \n2  JANUARY-2021                CAMBRIDGESHIRE AND PETERBOROUGH STP   \n3  JANUARY-2021  SURREY HEARTLANDS HEALTH & CARE PARTNERSHIP (STP)   \n4  JANUARY-2021  SURREY HEARTLANDS HEALTH & CARE PARTNERSHIP (STP)   \n\n  Provider Org Code                                  Provider Org Name  \\\n0               RCF                      AIREDALE NHS FOUNDATION TRUST   \n1               RBS          ALDER HEY CHILDREN'S NHS FOUNDATION TRUST   \n2               NX5                   ANGLIA COMMUNITY EYE SERVICE LTD   \n3               RTK  ASHFORD AND ST PETER'S HOSPITALS NHS FOUNDATIO...   \n4             NVC01                                   ASHTEAD HOSPITAL   \n\n          0         1         2          3         4         5  ...  96  97  \\\n0  8.151273  7.744463  5.039928   5.454272  2.870273  4.166039  ... NaN NaN   \n1  3.580882  2.764706  2.551471   3.551471  2.308824  3.492647  ... NaN NaN   \n2  1.646612  6.586447  8.739709  10.956301  4.179861  3.483217  ... NaN NaN   \n3  5.210778  6.386709  6.378617   6.440651  3.986299  4.773849  ... NaN NaN   \n4  4.197761  4.384328  4.664179   6.996269  2.611940  3.171642  ... NaN NaN   \n\n   98  99  100  101  102  103  104    Total  \n0 NaN NaN  NaN  NaN  NaN  NaN  NaN  13274.0  \n1 NaN NaN  NaN  NaN  NaN  NaN  NaN  13600.0  \n2 NaN NaN  NaN  NaN  NaN  NaN  NaN   1579.0  \n3 NaN NaN  NaN  NaN  NaN  NaN  NaN  37077.0  \n4 NaN NaN  NaN  NaN  NaN  NaN  NaN   1072.0  \n\n[5 rows x 110 columns]",
      "text/html": "<div>\n<style scoped>\n    .dataframe tbody tr th:only-of-type {\n        vertical-align: middle;\n    }\n\n    .dataframe tbody tr th {\n        vertical-align: top;\n    }\n\n    .dataframe thead th {\n        text-align: right;\n    }\n</style>\n<table border=\"1\" class=\"dataframe\">\n  <thead>\n    <tr style=\"text-align: right;\">\n      <th></th>\n      <th>Period</th>\n      <th>Provider Parent Name</th>\n      <th>Provider Org Code</th>\n      <th>Provider Org Name</th>\n      <th>0</th>\n      <th>1</th>\n      <th>2</th>\n      <th>3</th>\n      <th>4</th>\n      <th>5</th>\n      <th>...</th>\n      <th>96</th>\n      <th>97</th>\n      <th>98</th>\n      <th>99</th>\n      <th>100</th>\n      <th>101</th>\n      <th>102</th>\n      <th>103</th>\n      <th>104</th>\n      <th>Total</th>\n    </tr>\n  </thead>\n  <tbody>\n    <tr>\n      <th>0</th>\n      <td>JANUARY-2021</td>\n      <td>WEST YORKSHIRE AND HARROGATE HEALTH &amp; CARE PAR...</td>\n      <td>RCF</td>\n      <td>AIREDALE NHS FOUNDATION TRUST</td>\n      <td>8.151273</td>\n      <td>7.744463</td>\n      <td>5.039928</td>\n      <td>5.454272</td>\n      <td>2.870273</td>\n      <td>4.166039</td>\n      <td>...</td>\n      <td>NaN</td>\n      <td>NaN</td>\n      <td>NaN</td>\n      <td>NaN</td>\n      <td>NaN</td>\n      <td>NaN</td>\n      <td>NaN</td>\n      <td>NaN</td>\n      <td>NaN</td>\n      <td>13274.0</td>\n    </tr>\n    <tr>\n      <th>1</th>\n      <td>JANUARY-2021</td>\n      <td>CHESHIRE AND MERSEYSIDE STP</td>\n      <td>RBS</td>\n      <td>ALDER HEY CHILDREN'S NHS FOUNDATION TRUST</td>\n      <td>3.580882</td>\n      <td>2.764706</td>\n      <td>2.551471</td>\n      <td>3.551471</td>\n      <td>2.308824</td>\n      <td>3.492647</td>\n      <td>...</td>\n      <td>NaN</td>\n      <td>NaN</td>\n      <td>NaN</td>\n      <td>NaN</td>\n      <td>NaN</td>\n      <td>NaN</td>\n      <td>NaN</td>\n      <td>NaN</td>\n      <td>NaN</td>\n      <td>13600.0</td>\n    </tr>\n    <tr>\n      <th>2</th>\n      <td>JANUARY-2021</td>\n      <td>CAMBRIDGESHIRE AND PETERBOROUGH STP</td>\n      <td>NX5</td>\n      <td>ANGLIA COMMUNITY EYE SERVICE LTD</td>\n      <td>1.646612</td>\n      <td>6.586447</td>\n      <td>8.739709</td>\n      <td>10.956301</td>\n      <td>4.179861</td>\n      <td>3.483217</td>\n      <td>...</td>\n      <td>NaN</td>\n      <td>NaN</td>\n      <td>NaN</td>\n      <td>NaN</td>\n      <td>NaN</td>\n      <td>NaN</td>\n      <td>NaN</td>\n      <td>NaN</td>\n      <td>NaN</td>\n      <td>1579.0</td>\n    </tr>\n    <tr>\n      <th>3</th>\n      <td>JANUARY-2021</td>\n      <td>SURREY HEARTLANDS HEALTH &amp; CARE PARTNERSHIP (STP)</td>\n      <td>RTK</td>\n      <td>ASHFORD AND ST PETER'S HOSPITALS NHS FOUNDATIO...</td>\n      <td>5.210778</td>\n      <td>6.386709</td>\n      <td>6.378617</td>\n      <td>6.440651</td>\n      <td>3.986299</td>\n      <td>4.773849</td>\n      <td>...</td>\n      <td>NaN</td>\n      <td>NaN</td>\n      <td>NaN</td>\n      <td>NaN</td>\n      <td>NaN</td>\n      <td>NaN</td>\n      <td>NaN</td>\n      <td>NaN</td>\n      <td>NaN</td>\n      <td>37077.0</td>\n    </tr>\n    <tr>\n      <th>4</th>\n      <td>JANUARY-2021</td>\n      <td>SURREY HEARTLANDS HEALTH &amp; CARE PARTNERSHIP (STP)</td>\n      <td>NVC01</td>\n      <td>ASHTEAD HOSPITAL</td>\n      <td>4.197761</td>\n      <td>4.384328</td>\n      <td>4.664179</td>\n      <td>6.996269</td>\n      <td>2.611940</td>\n      <td>3.171642</td>\n      <td>...</td>\n      <td>NaN</td>\n      <td>NaN</td>\n      <td>NaN</td>\n      <td>NaN</td>\n      <td>NaN</td>\n      <td>NaN</td>\n      <td>NaN</td>\n      <td>NaN</td>\n      <td>NaN</td>\n      <td>1072.0</td>\n    </tr>\n  </tbody>\n</table>\n<p>5 rows × 110 columns</p>\n</div>"
     },
     "execution_count": 39,
     "metadata": {},
     "output_type": "execute_result"
    }
   ],
   "source": [
    "percentage = df.columns[4:-1]\n",
    "percentage_new = df\n",
    "percentage_new[percentage] = df[percentage].div(df.Total, axis=0)*100\n",
    "percentage_new.head()"
   ],
   "metadata": {
    "collapsed": false,
    "ExecuteTime": {
     "end_time": "2023-07-19T10:14:42.422121600Z",
     "start_time": "2023-07-19T10:14:42.368904600Z"
    }
   }
  },
  {
   "cell_type": "code",
   "execution_count": 40,
   "outputs": [],
   "source": [
    "percentage_new.to_csv(\"data/percentage_hospital.csv\")"
   ],
   "metadata": {
    "collapsed": false,
    "ExecuteTime": {
     "end_time": "2023-07-19T10:15:18.069862900Z",
     "start_time": "2023-07-19T10:15:16.805924400Z"
    }
   }
  }
 ],
 "metadata": {
  "kernelspec": {
   "display_name": "Python 3",
   "language": "python",
   "name": "python3"
  },
  "language_info": {
   "codemirror_mode": {
    "name": "ipython",
    "version": 2
   },
   "file_extension": ".py",
   "mimetype": "text/x-python",
   "name": "python",
   "nbconvert_exporter": "python",
   "pygments_lexer": "ipython2",
   "version": "2.7.6"
  }
 },
 "nbformat": 4,
 "nbformat_minor": 0
}
